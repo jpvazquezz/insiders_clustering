{
 "cells": [
  {
   "cell_type": "markdown",
   "id": "778d875f",
   "metadata": {
    "tags": [
     "papermill-error-cell-tag"
    ]
   },
   "source": [
    "<span style=\"color:red; font-family:Helvetica Neue, Helvetica, Arial, sans-serif; font-size:2em;\">An Exception was encountered at '<a href=\"#papermill-error-cell\">In [45]</a>'.</span>"
   ]
  },
  {
   "cell_type": "markdown",
   "id": "e7397701",
   "metadata": {
    "hide_input": true,
    "papermill": {
     "duration": 0.114915,
     "end_time": "2022-01-13T00:35:12.247638",
     "exception": false,
     "start_time": "2022-01-13T00:35:12.132723",
     "status": "completed"
    },
    "tags": []
   },
   "source": [
    "# 0.0 Imports"
   ]
  },
  {
   "cell_type": "code",
   "execution_count": 1,
   "id": "dbd08c00",
   "metadata": {
    "execution": {
     "iopub.execute_input": "2022-01-13T00:35:12.400543Z",
     "iopub.status.busy": "2022-01-13T00:35:12.393548Z",
     "iopub.status.idle": "2022-01-13T00:35:47.699625Z",
     "shell.execute_reply": "2022-01-13T00:35:47.700625Z"
    },
    "hide_input": false,
    "papermill": {
     "duration": 35.38003,
     "end_time": "2022-01-13T00:35:47.700625",
     "exception": false,
     "start_time": "2022-01-13T00:35:12.320595",
     "status": "completed"
    },
    "tags": []
   },
   "outputs": [],
   "source": [
    "import numpy as np\n",
    "import pandas as pd\n",
    "import seaborn as sns\n",
    "import matplotlib.pyplot as plt\n",
    "import inflection\n",
    "import datetime as dt\n",
    "import re\n",
    "\n",
    "\n",
    "from sklearn import ensemble as en\n",
    "from sklearn import cluster as c\n",
    "from sklearn import mixture as mx\n",
    "from scipy.cluster import hierarchy as hc \n",
    "\n",
    "from sklearn.metrics import calinski_harabasz_score,davies_bouldin_score\n",
    "from sklearn import preprocessing as pp\n",
    "from sklearn import metrics as m\n",
    "from sklearn.decomposition import PCA\n",
    "from sklearn.manifold import TSNE\n",
    "from sklearn.neighbors import NearestNeighbors\n",
    "import umap.umap_ as umap\n",
    "\n",
    "import sqlite3\n",
    "from sqlalchemy import create_engine\n",
    "from plotly import express as px\n",
    "\n",
    "from IPython.display import Image\n",
    "import warnings\n",
    "warnings.filterwarnings('ignore')"
   ]
  },
  {
   "cell_type": "markdown",
   "id": "3a04db62",
   "metadata": {
    "papermill": {
     "duration": 0.070957,
     "end_time": "2022-01-13T00:35:47.846532",
     "exception": false,
     "start_time": "2022-01-13T00:35:47.775575",
     "status": "completed"
    },
    "tags": []
   },
   "source": [
    "## 0.1 Loading Data"
   ]
  },
  {
   "cell_type": "code",
   "execution_count": 2,
   "id": "2ccccbc3",
   "metadata": {
    "execution": {
     "iopub.execute_input": "2022-01-13T00:35:47.994444Z",
     "iopub.status.busy": "2022-01-13T00:35:47.994444Z",
     "iopub.status.idle": "2022-01-13T00:35:49.141828Z",
     "shell.execute_reply": "2022-01-13T00:35:49.140828Z"
    },
    "papermill": {
     "duration": 1.224336,
     "end_time": "2022-01-13T00:35:49.141828",
     "exception": false,
     "start_time": "2022-01-13T00:35:47.917492",
     "status": "completed"
    },
    "tags": []
   },
   "outputs": [],
   "source": [
    "path = 'C:\\\\Users\\\\Dell\\\\Desktop\\\\ciencia_de_dados\\\\0.Comunidade_DS\\\\PA_05\\\\pa005_insiders_clustering\\\\clustering\\\\'\n",
    "df = pd.read_csv('data\\\\raw\\\\Ecommerce.csv',encoding= 'unicode_escape')\n",
    "df.drop('Unnamed: 8', axis=1,inplace=True)"
   ]
  },
  {
   "cell_type": "markdown",
   "id": "8c03f578",
   "metadata": {
    "heading_collapsed": true,
    "papermill": {
     "duration": 0.069961,
     "end_time": "2022-01-13T00:35:49.280502",
     "exception": false,
     "start_time": "2022-01-13T00:35:49.210541",
     "status": "completed"
    },
    "tags": []
   },
   "source": [
    "# 1.0 Data Description"
   ]
  },
  {
   "cell_type": "code",
   "execution_count": 3,
   "id": "e4b85e6c",
   "metadata": {
    "execution": {
     "iopub.execute_input": "2022-01-13T00:35:49.440412Z",
     "iopub.status.busy": "2022-01-13T00:35:49.438407Z",
     "iopub.status.idle": "2022-01-13T00:35:49.458428Z",
     "shell.execute_reply": "2022-01-13T00:35:49.458428Z"
    },
    "hidden": true,
    "papermill": {
     "duration": 0.105967,
     "end_time": "2022-01-13T00:35:49.458428",
     "exception": false,
     "start_time": "2022-01-13T00:35:49.352461",
     "status": "completed"
    },
    "tags": []
   },
   "outputs": [],
   "source": [
    "df1 = df.copy()"
   ]
  },
  {
   "cell_type": "markdown",
   "id": "4be6a99b",
   "metadata": {
    "hidden": true,
    "papermill": {
     "duration": 0.06896,
     "end_time": "2022-01-13T00:35:49.596346",
     "exception": false,
     "start_time": "2022-01-13T00:35:49.527386",
     "status": "completed"
    },
    "tags": []
   },
   "source": [
    "* Invoice Number: identificador único de cada transação.\n",
    "* Stock Code Product: código do item.\n",
    "* Description Product: nome do item\n",
    "* Quantity: A quantidade de cada item comprado por transação.\n",
    "* Invoice Date: O dia em que a transação ocorreu\n",
    "* Unit Price: Preço do produto por unidade\n",
    "* Customer ID: identificador único do cliente\n",
    "* Country: O nome do país que o cliente reside"
   ]
  },
  {
   "cell_type": "code",
   "execution_count": 4,
   "id": "8c4f0d98",
   "metadata": {
    "execution": {
     "iopub.execute_input": "2022-01-13T00:35:49.787801Z",
     "iopub.status.busy": "2022-01-13T00:35:49.786802Z",
     "iopub.status.idle": "2022-01-13T00:35:49.815322Z",
     "shell.execute_reply": "2022-01-13T00:35:49.813322Z"
    },
    "hidden": true,
    "papermill": {
     "duration": 0.148019,
     "end_time": "2022-01-13T00:35:49.815322",
     "exception": false,
     "start_time": "2022-01-13T00:35:49.667303",
     "status": "completed"
    },
    "scrolled": true,
    "tags": []
   },
   "outputs": [
    {
     "data": {
      "text/html": [
       "<div>\n",
       "<style scoped>\n",
       "    .dataframe tbody tr th:only-of-type {\n",
       "        vertical-align: middle;\n",
       "    }\n",
       "\n",
       "    .dataframe tbody tr th {\n",
       "        vertical-align: top;\n",
       "    }\n",
       "\n",
       "    .dataframe thead th {\n",
       "        text-align: right;\n",
       "    }\n",
       "</style>\n",
       "<table border=\"1\" class=\"dataframe\">\n",
       "  <thead>\n",
       "    <tr style=\"text-align: right;\">\n",
       "      <th></th>\n",
       "      <th>InvoiceNo</th>\n",
       "      <th>StockCode</th>\n",
       "      <th>Description</th>\n",
       "      <th>Quantity</th>\n",
       "      <th>InvoiceDate</th>\n",
       "      <th>UnitPrice</th>\n",
       "      <th>CustomerID</th>\n",
       "      <th>Country</th>\n",
       "    </tr>\n",
       "  </thead>\n",
       "  <tbody>\n",
       "    <tr>\n",
       "      <th>0</th>\n",
       "      <td>536365</td>\n",
       "      <td>85123A</td>\n",
       "      <td>WHITE HANGING HEART T-LIGHT HOLDER</td>\n",
       "      <td>6</td>\n",
       "      <td>29-Nov-16</td>\n",
       "      <td>2.55</td>\n",
       "      <td>17850.0</td>\n",
       "      <td>United Kingdom</td>\n",
       "    </tr>\n",
       "    <tr>\n",
       "      <th>1</th>\n",
       "      <td>536365</td>\n",
       "      <td>71053</td>\n",
       "      <td>WHITE METAL LANTERN</td>\n",
       "      <td>6</td>\n",
       "      <td>29-Nov-16</td>\n",
       "      <td>3.39</td>\n",
       "      <td>17850.0</td>\n",
       "      <td>United Kingdom</td>\n",
       "    </tr>\n",
       "    <tr>\n",
       "      <th>2</th>\n",
       "      <td>536365</td>\n",
       "      <td>84406B</td>\n",
       "      <td>CREAM CUPID HEARTS COAT HANGER</td>\n",
       "      <td>8</td>\n",
       "      <td>29-Nov-16</td>\n",
       "      <td>2.75</td>\n",
       "      <td>17850.0</td>\n",
       "      <td>United Kingdom</td>\n",
       "    </tr>\n",
       "    <tr>\n",
       "      <th>3</th>\n",
       "      <td>536365</td>\n",
       "      <td>84029G</td>\n",
       "      <td>KNITTED UNION FLAG HOT WATER BOTTLE</td>\n",
       "      <td>6</td>\n",
       "      <td>29-Nov-16</td>\n",
       "      <td>3.39</td>\n",
       "      <td>17850.0</td>\n",
       "      <td>United Kingdom</td>\n",
       "    </tr>\n",
       "    <tr>\n",
       "      <th>4</th>\n",
       "      <td>536365</td>\n",
       "      <td>84029E</td>\n",
       "      <td>RED WOOLLY HOTTIE WHITE HEART.</td>\n",
       "      <td>6</td>\n",
       "      <td>29-Nov-16</td>\n",
       "      <td>3.39</td>\n",
       "      <td>17850.0</td>\n",
       "      <td>United Kingdom</td>\n",
       "    </tr>\n",
       "  </tbody>\n",
       "</table>\n",
       "</div>"
      ],
      "text/plain": [
       "  InvoiceNo StockCode                          Description  Quantity  \\\n",
       "0    536365    85123A   WHITE HANGING HEART T-LIGHT HOLDER         6   \n",
       "1    536365     71053                  WHITE METAL LANTERN         6   \n",
       "2    536365    84406B       CREAM CUPID HEARTS COAT HANGER         8   \n",
       "3    536365    84029G  KNITTED UNION FLAG HOT WATER BOTTLE         6   \n",
       "4    536365    84029E       RED WOOLLY HOTTIE WHITE HEART.         6   \n",
       "\n",
       "  InvoiceDate  UnitPrice  CustomerID         Country  \n",
       "0   29-Nov-16       2.55     17850.0  United Kingdom  \n",
       "1   29-Nov-16       3.39     17850.0  United Kingdom  \n",
       "2   29-Nov-16       2.75     17850.0  United Kingdom  \n",
       "3   29-Nov-16       3.39     17850.0  United Kingdom  \n",
       "4   29-Nov-16       3.39     17850.0  United Kingdom  "
      ]
     },
     "execution_count": 4,
     "metadata": {},
     "output_type": "execute_result"
    }
   ],
   "source": [
    "df1.head()"
   ]
  },
  {
   "cell_type": "markdown",
   "id": "e33ac121",
   "metadata": {
    "hidden": true,
    "papermill": {
     "duration": 0.070964,
     "end_time": "2022-01-13T00:35:49.963921",
     "exception": false,
     "start_time": "2022-01-13T00:35:49.892957",
     "status": "completed"
    },
    "tags": []
   },
   "source": [
    "## 1.1 Rename columns"
   ]
  },
  {
   "cell_type": "code",
   "execution_count": 5,
   "id": "226a98ec",
   "metadata": {
    "execution": {
     "iopub.execute_input": "2022-01-13T00:35:50.115827Z",
     "iopub.status.busy": "2022-01-13T00:35:50.114825Z",
     "iopub.status.idle": "2022-01-13T00:35:50.130102Z",
     "shell.execute_reply": "2022-01-13T00:35:50.130102Z"
    },
    "hidden": true,
    "papermill": {
     "duration": 0.095225,
     "end_time": "2022-01-13T00:35:50.130102",
     "exception": false,
     "start_time": "2022-01-13T00:35:50.034877",
     "status": "completed"
    },
    "tags": []
   },
   "outputs": [],
   "source": [
    "old_cols = df1.columns.tolist()\n",
    "\n",
    "snakecase = lambda x: inflection.underscore(x)\n",
    "\n",
    "new_cols = list(map(snakecase, old_cols))\n",
    "\n",
    "# Rename columns\n",
    "df1.columns = new_cols"
   ]
  },
  {
   "cell_type": "markdown",
   "id": "91b5b69d",
   "metadata": {
    "hidden": true,
    "papermill": {
     "duration": 0.073958,
     "end_time": "2022-01-13T00:35:50.276014",
     "exception": false,
     "start_time": "2022-01-13T00:35:50.202056",
     "status": "completed"
    },
    "tags": []
   },
   "source": [
    "## 1.2 Data Dimension"
   ]
  },
  {
   "cell_type": "code",
   "execution_count": 6,
   "id": "dd506388",
   "metadata": {
    "execution": {
     "iopub.execute_input": "2022-01-13T00:35:50.425919Z",
     "iopub.status.busy": "2022-01-13T00:35:50.424922Z",
     "iopub.status.idle": "2022-01-13T00:35:50.447990Z",
     "shell.execute_reply": "2022-01-13T00:35:50.448990Z"
    },
    "hidden": true,
    "papermill": {
     "duration": 0.101022,
     "end_time": "2022-01-13T00:35:50.448990",
     "exception": false,
     "start_time": "2022-01-13T00:35:50.347968",
     "status": "completed"
    },
    "tags": []
   },
   "outputs": [
    {
     "name": "stdout",
     "output_type": "stream",
     "text": [
      "Number of row: 541909\n",
      "Number of columns: 8\n"
     ]
    }
   ],
   "source": [
    "print('Number of row: {}'.format(df1.shape[0]))\n",
    "print('Number of columns: {}'.format(df1.shape[1]))"
   ]
  },
  {
   "cell_type": "markdown",
   "id": "5aa01bc1",
   "metadata": {
    "hidden": true,
    "papermill": {
     "duration": 0.07296,
     "end_time": "2022-01-13T00:35:50.597361",
     "exception": false,
     "start_time": "2022-01-13T00:35:50.524401",
     "status": "completed"
    },
    "tags": []
   },
   "source": [
    "## 1.3 Data Types"
   ]
  },
  {
   "cell_type": "code",
   "execution_count": 7,
   "id": "fb49333b",
   "metadata": {
    "execution": {
     "iopub.execute_input": "2022-01-13T00:35:50.757265Z",
     "iopub.status.busy": "2022-01-13T00:35:50.756264Z",
     "iopub.status.idle": "2022-01-13T00:35:50.764301Z",
     "shell.execute_reply": "2022-01-13T00:35:50.763299Z"
    },
    "hidden": true,
    "papermill": {
     "duration": 0.085988,
     "end_time": "2022-01-13T00:35:50.764301",
     "exception": false,
     "start_time": "2022-01-13T00:35:50.678313",
     "status": "completed"
    },
    "scrolled": true,
    "tags": []
   },
   "outputs": [
    {
     "data": {
      "text/plain": [
       "invoice_no       object\n",
       "stock_code       object\n",
       "description      object\n",
       "quantity          int64\n",
       "invoice_date     object\n",
       "unit_price      float64\n",
       "customer_id     float64\n",
       "country          object\n",
       "dtype: object"
      ]
     },
     "execution_count": 7,
     "metadata": {},
     "output_type": "execute_result"
    }
   ],
   "source": [
    "df1.dtypes"
   ]
  },
  {
   "cell_type": "markdown",
   "id": "ac4efaa6",
   "metadata": {
    "hidden": true,
    "papermill": {
     "duration": 0.07795,
     "end_time": "2022-01-13T00:35:50.916208",
     "exception": false,
     "start_time": "2022-01-13T00:35:50.838258",
     "status": "completed"
    },
    "tags": []
   },
   "source": [
    "## 1.4 Check NAs"
   ]
  },
  {
   "cell_type": "code",
   "execution_count": 8,
   "id": "32c9fb31",
   "metadata": {
    "execution": {
     "iopub.execute_input": "2022-01-13T00:35:51.207021Z",
     "iopub.status.busy": "2022-01-13T00:35:51.206020Z",
     "iopub.status.idle": "2022-01-13T00:35:51.392024Z",
     "shell.execute_reply": "2022-01-13T00:35:51.391024Z"
    },
    "hidden": true,
    "papermill": {
     "duration": 0.401876,
     "end_time": "2022-01-13T00:35:51.393023",
     "exception": false,
     "start_time": "2022-01-13T00:35:50.991147",
     "status": "completed"
    },
    "tags": []
   },
   "outputs": [
    {
     "data": {
      "text/plain": [
       "description      1454\n",
       "customer_id    135080\n",
       "dtype: int64"
      ]
     },
     "execution_count": 8,
     "metadata": {},
     "output_type": "execute_result"
    }
   ],
   "source": [
    "df1.isna().sum()[df1.isna().sum()>0]"
   ]
  },
  {
   "cell_type": "markdown",
   "id": "7108339d",
   "metadata": {
    "hidden": true,
    "papermill": {
     "duration": 0.075952,
     "end_time": "2022-01-13T00:35:51.548928",
     "exception": false,
     "start_time": "2022-01-13T00:35:51.472976",
     "status": "completed"
    },
    "tags": []
   },
   "source": [
    "## 1.5 Replace NAs"
   ]
  },
  {
   "cell_type": "code",
   "execution_count": 9,
   "id": "0bc8e898",
   "metadata": {
    "execution": {
     "iopub.execute_input": "2022-01-13T00:35:51.706830Z",
     "iopub.status.busy": "2022-01-13T00:35:51.705831Z",
     "iopub.status.idle": "2022-01-13T00:35:51.781896Z",
     "shell.execute_reply": "2022-01-13T00:35:51.780896Z"
    },
    "hidden": true,
    "papermill": {
     "duration": 0.161015,
     "end_time": "2022-01-13T00:35:51.781896",
     "exception": false,
     "start_time": "2022-01-13T00:35:51.620881",
     "status": "completed"
    },
    "tags": []
   },
   "outputs": [],
   "source": [
    "# Separate dataframe with NAs\n",
    "df_missing = df1.loc[df1.customer_id.isna()]\n",
    "df_full = df1.loc[~df1.customer_id.isna()]"
   ]
  },
  {
   "cell_type": "code",
   "execution_count": 10,
   "id": "33ab5cbc",
   "metadata": {
    "execution": {
     "iopub.execute_input": "2022-01-13T00:35:51.944795Z",
     "iopub.status.busy": "2022-01-13T00:35:51.943797Z",
     "iopub.status.idle": "2022-01-13T00:35:51.985041Z",
     "shell.execute_reply": "2022-01-13T00:35:51.985041Z"
    },
    "hidden": true,
    "papermill": {
     "duration": 0.133189,
     "end_time": "2022-01-13T00:35:51.985041",
     "exception": false,
     "start_time": "2022-01-13T00:35:51.851852",
     "status": "completed"
    },
    "tags": []
   },
   "outputs": [
    {
     "name": "stdout",
     "output_type": "stream",
     "text": [
      "0\n"
     ]
    }
   ],
   "source": [
    "# Checking if any invoice_no in df_missing is present in df_full so we could add the respective customer_id\n",
    "print(df_full.invoice_no.isin(df_missing.invoice_no.drop_duplicates()).sum())"
   ]
  },
  {
   "cell_type": "code",
   "execution_count": 11,
   "id": "c3b59143",
   "metadata": {
    "execution": {
     "iopub.execute_input": "2022-01-13T00:35:52.155954Z",
     "iopub.status.busy": "2022-01-13T00:35:52.153954Z",
     "iopub.status.idle": "2022-01-13T00:35:52.177152Z",
     "shell.execute_reply": "2022-01-13T00:35:52.176149Z"
    },
    "hidden": true,
    "papermill": {
     "duration": 0.11016,
     "end_time": "2022-01-13T00:35:52.177152",
     "exception": false,
     "start_time": "2022-01-13T00:35:52.066992",
     "status": "completed"
    },
    "tags": []
   },
   "outputs": [
    {
     "data": {
      "text/plain": [
       "3710"
      ]
     },
     "execution_count": 11,
     "metadata": {},
     "output_type": "execute_result"
    }
   ],
   "source": [
    "# Check the number of unique invoices\n",
    "df_missing.invoice_no.nunique()"
   ]
  },
  {
   "cell_type": "code",
   "execution_count": 12,
   "id": "63031097",
   "metadata": {
    "execution": {
     "iopub.execute_input": "2022-01-13T00:35:52.386584Z",
     "iopub.status.busy": "2022-01-13T00:35:52.385580Z",
     "iopub.status.idle": "2022-01-13T00:35:52.835737Z",
     "shell.execute_reply": "2022-01-13T00:35:52.835737Z"
    },
    "hidden": true,
    "papermill": {
     "duration": 0.586631,
     "end_time": "2022-01-13T00:35:52.836736",
     "exception": false,
     "start_time": "2022-01-13T00:35:52.250105",
     "status": "completed"
    },
    "scrolled": true,
    "tags": []
   },
   "outputs": [
    {
     "data": {
      "text/html": [
       "<div>\n",
       "<style scoped>\n",
       "    .dataframe tbody tr th:only-of-type {\n",
       "        vertical-align: middle;\n",
       "    }\n",
       "\n",
       "    .dataframe tbody tr th {\n",
       "        vertical-align: top;\n",
       "    }\n",
       "\n",
       "    .dataframe thead th {\n",
       "        text-align: right;\n",
       "    }\n",
       "</style>\n",
       "<table border=\"1\" class=\"dataframe\">\n",
       "  <thead>\n",
       "    <tr style=\"text-align: right;\">\n",
       "      <th></th>\n",
       "      <th>invoice_no</th>\n",
       "      <th>stock_code</th>\n",
       "      <th>description</th>\n",
       "      <th>quantity</th>\n",
       "      <th>invoice_date</th>\n",
       "      <th>unit_price</th>\n",
       "      <th>country</th>\n",
       "      <th>customer_id</th>\n",
       "    </tr>\n",
       "  </thead>\n",
       "  <tbody>\n",
       "    <tr>\n",
       "      <th>0</th>\n",
       "      <td>536365</td>\n",
       "      <td>85123A</td>\n",
       "      <td>WHITE HANGING HEART T-LIGHT HOLDER</td>\n",
       "      <td>6</td>\n",
       "      <td>29-Nov-16</td>\n",
       "      <td>2.55</td>\n",
       "      <td>United Kingdom</td>\n",
       "      <td>17850.0</td>\n",
       "    </tr>\n",
       "    <tr>\n",
       "      <th>1</th>\n",
       "      <td>536365</td>\n",
       "      <td>71053</td>\n",
       "      <td>WHITE METAL LANTERN</td>\n",
       "      <td>6</td>\n",
       "      <td>29-Nov-16</td>\n",
       "      <td>3.39</td>\n",
       "      <td>United Kingdom</td>\n",
       "      <td>17850.0</td>\n",
       "    </tr>\n",
       "    <tr>\n",
       "      <th>2</th>\n",
       "      <td>536365</td>\n",
       "      <td>84406B</td>\n",
       "      <td>CREAM CUPID HEARTS COAT HANGER</td>\n",
       "      <td>8</td>\n",
       "      <td>29-Nov-16</td>\n",
       "      <td>2.75</td>\n",
       "      <td>United Kingdom</td>\n",
       "      <td>17850.0</td>\n",
       "    </tr>\n",
       "    <tr>\n",
       "      <th>3</th>\n",
       "      <td>536365</td>\n",
       "      <td>84029G</td>\n",
       "      <td>KNITTED UNION FLAG HOT WATER BOTTLE</td>\n",
       "      <td>6</td>\n",
       "      <td>29-Nov-16</td>\n",
       "      <td>3.39</td>\n",
       "      <td>United Kingdom</td>\n",
       "      <td>17850.0</td>\n",
       "    </tr>\n",
       "    <tr>\n",
       "      <th>4</th>\n",
       "      <td>536365</td>\n",
       "      <td>84029E</td>\n",
       "      <td>RED WOOLLY HOTTIE WHITE HEART.</td>\n",
       "      <td>6</td>\n",
       "      <td>29-Nov-16</td>\n",
       "      <td>3.39</td>\n",
       "      <td>United Kingdom</td>\n",
       "      <td>17850.0</td>\n",
       "    </tr>\n",
       "  </tbody>\n",
       "</table>\n",
       "</div>"
      ],
      "text/plain": [
       "  invoice_no stock_code                          description  quantity  \\\n",
       "0     536365     85123A   WHITE HANGING HEART T-LIGHT HOLDER         6   \n",
       "1     536365      71053                  WHITE METAL LANTERN         6   \n",
       "2     536365     84406B       CREAM CUPID HEARTS COAT HANGER         8   \n",
       "3     536365     84029G  KNITTED UNION FLAG HOT WATER BOTTLE         6   \n",
       "4     536365     84029E       RED WOOLLY HOTTIE WHITE HEART.         6   \n",
       "\n",
       "  invoice_date  unit_price         country  customer_id  \n",
       "0    29-Nov-16        2.55  United Kingdom      17850.0  \n",
       "1    29-Nov-16        3.39  United Kingdom      17850.0  \n",
       "2    29-Nov-16        2.75  United Kingdom      17850.0  \n",
       "3    29-Nov-16        3.39  United Kingdom      17850.0  \n",
       "4    29-Nov-16        3.39  United Kingdom      17850.0  "
      ]
     },
     "execution_count": 12,
     "metadata": {},
     "output_type": "execute_result"
    }
   ],
   "source": [
    "# create customer_ids in a reference dataframe\n",
    "df_invoice = pd.DataFrame(df_missing['invoice_no'].drop_duplicates())\n",
    "df_invoice['customer_id'] = np.arange(19000,19000+len(df_invoice),1)\n",
    "\n",
    "# merge original dataframe with reference dataframe\n",
    "df1 = pd.merge(df1,df_invoice, on='invoice_no',how='left')\n",
    "\n",
    "# coalesce - fill the customer_id column with the column that doen not have NA.\n",
    "df1['customer_id'] = df1['customer_id_x'].combine_first(df1['customer_id_y'])\n",
    "\n",
    "# drop extra columns\n",
    "df1.drop(columns=['customer_id_x','customer_id_y'], axis=1,inplace=True)\n",
    "df1.head()"
   ]
  },
  {
   "cell_type": "markdown",
   "id": "d49dbb0d",
   "metadata": {
    "hidden": true,
    "papermill": {
     "duration": 0.093941,
     "end_time": "2022-01-13T00:35:53.004634",
     "exception": false,
     "start_time": "2022-01-13T00:35:52.910693",
     "status": "completed"
    },
    "tags": []
   },
   "source": [
    "## 1.6 Change data types"
   ]
  },
  {
   "cell_type": "code",
   "execution_count": 13,
   "id": "63df5077",
   "metadata": {
    "execution": {
     "iopub.execute_input": "2022-01-13T00:35:53.189521Z",
     "iopub.status.busy": "2022-01-13T00:35:53.188520Z",
     "iopub.status.idle": "2022-01-13T00:35:53.288723Z",
     "shell.execute_reply": "2022-01-13T00:35:53.287723Z"
    },
    "hidden": true,
    "papermill": {
     "duration": 0.204138,
     "end_time": "2022-01-13T00:35:53.288723",
     "exception": false,
     "start_time": "2022-01-13T00:35:53.084585",
     "status": "completed"
    },
    "tags": []
   },
   "outputs": [],
   "source": [
    "# invoice date\n",
    "df1['invoice_date'] =  pd.to_datetime(df1['invoice_date'], format = '%d-%b-%y')\n",
    "\n",
    "# customer_id\n",
    "df1['customer_id'] = df1['customer_id'].astype( int )"
   ]
  },
  {
   "cell_type": "code",
   "execution_count": 14,
   "id": "620063e8",
   "metadata": {
    "execution": {
     "iopub.execute_input": "2022-01-13T00:35:53.449624Z",
     "iopub.status.busy": "2022-01-13T00:35:53.448624Z",
     "iopub.status.idle": "2022-01-13T00:35:53.464694Z",
     "shell.execute_reply": "2022-01-13T00:35:53.463694Z"
    },
    "hidden": true,
    "papermill": {
     "duration": 0.099015,
     "end_time": "2022-01-13T00:35:53.464694",
     "exception": false,
     "start_time": "2022-01-13T00:35:53.365679",
     "status": "completed"
    },
    "tags": []
   },
   "outputs": [
    {
     "data": {
      "text/plain": [
       "invoice_no              object\n",
       "stock_code              object\n",
       "description             object\n",
       "quantity                 int64\n",
       "invoice_date    datetime64[ns]\n",
       "unit_price             float64\n",
       "country                 object\n",
       "customer_id              int32\n",
       "dtype: object"
      ]
     },
     "execution_count": 14,
     "metadata": {},
     "output_type": "execute_result"
    }
   ],
   "source": [
    "df1.dtypes"
   ]
  },
  {
   "cell_type": "markdown",
   "id": "789f6ae3",
   "metadata": {
    "hidden": true,
    "papermill": {
     "duration": 0.077952,
     "end_time": "2022-01-13T00:35:53.620597",
     "exception": false,
     "start_time": "2022-01-13T00:35:53.542645",
     "status": "completed"
    },
    "tags": []
   },
   "source": [
    "## 1.7 Descriptive Statistics"
   ]
  },
  {
   "cell_type": "code",
   "execution_count": 15,
   "id": "14545e8c",
   "metadata": {
    "execution": {
     "iopub.execute_input": "2022-01-13T00:35:53.815632Z",
     "iopub.status.busy": "2022-01-13T00:35:53.814632Z",
     "iopub.status.idle": "2022-01-13T00:35:53.824158Z",
     "shell.execute_reply": "2022-01-13T00:35:53.825157Z"
    },
    "hidden": true,
    "papermill": {
     "duration": 0.127461,
     "end_time": "2022-01-13T00:35:53.825157",
     "exception": false,
     "start_time": "2022-01-13T00:35:53.697696",
     "status": "completed"
    },
    "tags": []
   },
   "outputs": [],
   "source": [
    "num = df1.select_dtypes(include=['int64','float64'])\n",
    "cat = df1.select_dtypes(exclude=['int64','float64'])"
   ]
  },
  {
   "cell_type": "markdown",
   "id": "0e6fa6fc",
   "metadata": {
    "hidden": true,
    "papermill": {
     "duration": 0.093941,
     "end_time": "2022-01-13T00:35:53.995055",
     "exception": false,
     "start_time": "2022-01-13T00:35:53.901114",
     "status": "completed"
    },
    "tags": []
   },
   "source": [
    "### 1.7.1 Numerical Variables"
   ]
  },
  {
   "cell_type": "code",
   "execution_count": 16,
   "id": "33532f76",
   "metadata": {
    "execution": {
     "iopub.execute_input": "2022-01-13T00:35:54.158953Z",
     "iopub.status.busy": "2022-01-13T00:35:54.157952Z",
     "iopub.status.idle": "2022-01-13T00:35:54.340332Z",
     "shell.execute_reply": "2022-01-13T00:35:54.340332Z"
    },
    "hidden": true,
    "papermill": {
     "duration": 0.269325,
     "end_time": "2022-01-13T00:35:54.341332",
     "exception": false,
     "start_time": "2022-01-13T00:35:54.072007",
     "status": "completed"
    },
    "tags": []
   },
   "outputs": [
    {
     "data": {
      "text/html": [
       "<div>\n",
       "<style scoped>\n",
       "    .dataframe tbody tr th:only-of-type {\n",
       "        vertical-align: middle;\n",
       "    }\n",
       "\n",
       "    .dataframe tbody tr th {\n",
       "        vertical-align: top;\n",
       "    }\n",
       "\n",
       "    .dataframe thead th {\n",
       "        text-align: right;\n",
       "    }\n",
       "</style>\n",
       "<table border=\"1\" class=\"dataframe\">\n",
       "  <thead>\n",
       "    <tr style=\"text-align: right;\">\n",
       "      <th></th>\n",
       "      <th>attributes</th>\n",
       "      <th>mean</th>\n",
       "      <th>median</th>\n",
       "      <th>std</th>\n",
       "      <th>min</th>\n",
       "      <th>max</th>\n",
       "      <th>range</th>\n",
       "      <th>skew</th>\n",
       "      <th>kurtosis</th>\n",
       "    </tr>\n",
       "  </thead>\n",
       "  <tbody>\n",
       "    <tr>\n",
       "      <th>0</th>\n",
       "      <td>quantity</td>\n",
       "      <td>9.552250</td>\n",
       "      <td>3.00</td>\n",
       "      <td>218.080957</td>\n",
       "      <td>-80995.00</td>\n",
       "      <td>80995.0</td>\n",
       "      <td>161990.00</td>\n",
       "      <td>-0.264076</td>\n",
       "      <td>119769.160031</td>\n",
       "    </tr>\n",
       "    <tr>\n",
       "      <th>1</th>\n",
       "      <td>unit_price</td>\n",
       "      <td>4.611114</td>\n",
       "      <td>2.08</td>\n",
       "      <td>96.759764</td>\n",
       "      <td>-11062.06</td>\n",
       "      <td>38970.0</td>\n",
       "      <td>50032.06</td>\n",
       "      <td>186.506972</td>\n",
       "      <td>59005.719097</td>\n",
       "    </tr>\n",
       "  </tbody>\n",
       "</table>\n",
       "</div>"
      ],
      "text/plain": [
       "   attributes      mean  median         std       min      max      range  \\\n",
       "0    quantity  9.552250    3.00  218.080957 -80995.00  80995.0  161990.00   \n",
       "1  unit_price  4.611114    2.08   96.759764 -11062.06  38970.0   50032.06   \n",
       "\n",
       "         skew       kurtosis  \n",
       "0   -0.264076  119769.160031  \n",
       "1  186.506972   59005.719097  "
      ]
     },
     "execution_count": 16,
     "metadata": {},
     "output_type": "execute_result"
    }
   ],
   "source": [
    "# Central Tendency - Mean, Median\n",
    "\n",
    "ct1 = pd.DataFrame(num.apply(np.mean)).T\n",
    "ct2 = pd.DataFrame(num.apply(np.median)).T\n",
    "\n",
    "# Dispersion - Min, Max, Standard Deviation, Range, Skew, Kurtosis\n",
    "\n",
    "d1 = pd.DataFrame(num.apply(np.std)).T\n",
    "d2 = pd.DataFrame(num.apply(np.min)).T\n",
    "d3 = pd.DataFrame(num.apply(np.max)).T\n",
    "d4 = pd.DataFrame(num.apply(lambda x: x.max() - x.min())).T\n",
    "d5 = pd.DataFrame(num.apply(lambda x: x.skew())).T\n",
    "d6 = pd.DataFrame(num.apply(lambda x: x.kurtosis())).T\n",
    "\n",
    "# Concatanate\n",
    "num_df = pd.concat([ct1, ct2, d1,d2,d3,d4,d5,d6]).T.reset_index()\n",
    "num_df.columns =['attributes','mean','median','std','min','max','range','skew','kurtosis']\n",
    "num_df"
   ]
  },
  {
   "cell_type": "markdown",
   "id": "379ff8a9",
   "metadata": {
    "hidden": true,
    "papermill": {
     "duration": 0.086946,
     "end_time": "2022-01-13T00:35:54.502233",
     "exception": false,
     "start_time": "2022-01-13T00:35:54.415287",
     "status": "completed"
    },
    "tags": []
   },
   "source": [
    "### 1.7.2 Categorical variables"
   ]
  },
  {
   "cell_type": "markdown",
   "id": "eb5519ad",
   "metadata": {
    "hidden": true,
    "papermill": {
     "duration": 0.076954,
     "end_time": "2022-01-13T00:35:54.656138",
     "exception": false,
     "start_time": "2022-01-13T00:35:54.579184",
     "status": "completed"
    },
    "tags": []
   },
   "source": [
    "Invoice Nº"
   ]
  },
  {
   "cell_type": "code",
   "execution_count": 17,
   "id": "5b4d105a",
   "metadata": {
    "execution": {
     "iopub.execute_input": "2022-01-13T00:35:54.969942Z",
     "iopub.status.busy": "2022-01-13T00:35:54.892991Z",
     "iopub.status.idle": "2022-01-13T00:35:56.237162Z",
     "shell.execute_reply": "2022-01-13T00:35:56.238162Z"
    },
    "hidden": true,
    "papermill": {
     "duration": 1.506071,
     "end_time": "2022-01-13T00:35:56.238162",
     "exception": false,
     "start_time": "2022-01-13T00:35:54.732091",
     "status": "completed"
    },
    "tags": []
   },
   "outputs": [
    {
     "name": "stdout",
     "output_type": "stream",
     "text": [
      "Total number of chargebacks: 9291\n",
      "Percetage of chargebacks: 0.017\n",
      "Total number or negative quantity: 9288\n"
     ]
    }
   ],
   "source": [
    "# Identifying all invoice numbers that represent chargebacks\n",
    "df_chargeback = df1.loc[df1.invoice_no.apply(lambda x: bool(re.search('[^0-9]+',x))),:]\n",
    "\n",
    "print('Total number of chargebacks:',df_chargeback.shape[0])\n",
    "print('Percetage of chargebacks:', round((df_chargeback.shape[0]/df1.shape[0]),3))\n",
    "print('Total number or negative quantity: {}'.format(len(df_chargeback[df_chargeback.quantity<0])))"
   ]
  },
  {
   "cell_type": "markdown",
   "id": "094dad44",
   "metadata": {
    "hidden": true,
    "papermill": {
     "duration": 0.103936,
     "end_time": "2022-01-13T00:35:56.439037",
     "exception": false,
     "start_time": "2022-01-13T00:35:56.335101",
     "status": "completed"
    },
    "tags": []
   },
   "source": [
    "Stock Code"
   ]
  },
  {
   "cell_type": "code",
   "execution_count": 18,
   "id": "2680eaf5",
   "metadata": {
    "execution": {
     "iopub.execute_input": "2022-01-13T00:35:56.748881Z",
     "iopub.status.busy": "2022-01-13T00:35:56.746882Z",
     "iopub.status.idle": "2022-01-13T00:35:58.357892Z",
     "shell.execute_reply": "2022-01-13T00:35:58.357892Z"
    },
    "hidden": true,
    "papermill": {
     "duration": 1.806923,
     "end_time": "2022-01-13T00:35:58.358890",
     "exception": false,
     "start_time": "2022-01-13T00:35:56.551967",
     "status": "completed"
    },
    "tags": []
   },
   "outputs": [
    {
     "data": {
      "text/plain": [
       "array(['POST', 'D', 'DOT', 'M', 'S', 'AMAZONFEE', 'm', 'DCGSSBOY',\n",
       "       'DCGSSGIRL', 'PADS', 'B', 'CRUK'], dtype=object)"
      ]
     },
     "execution_count": 18,
     "metadata": {},
     "output_type": "execute_result"
    }
   ],
   "source": [
    "# Identifying stock codes that contain only characters\n",
    "\n",
    "df1.loc[df1.stock_code.apply(lambda x: bool(re.search('^[a-zA-Z]+$',x))),'stock_code'].unique()"
   ]
  },
  {
   "cell_type": "markdown",
   "id": "a500311b",
   "metadata": {
    "hidden": true,
    "papermill": {
     "duration": 0.081949,
     "end_time": "2022-01-13T00:35:58.532780",
     "exception": false,
     "start_time": "2022-01-13T00:35:58.450831",
     "status": "completed"
    },
    "tags": []
   },
   "source": [
    "**To Do**: remove stock_code that contain ['POST', 'D', 'DOT', 'M', 'S', 'AMAZONFEE', 'm', 'DCGSSBOY',\n",
    "       'DCGSSGIRL', 'PADS', 'B', 'CRUK']"
   ]
  },
  {
   "cell_type": "markdown",
   "id": "34d738ba",
   "metadata": {
    "hidden": true,
    "papermill": {
     "duration": 0.079951,
     "end_time": "2022-01-13T00:35:58.696682",
     "exception": false,
     "start_time": "2022-01-13T00:35:58.616731",
     "status": "completed"
    },
    "tags": []
   },
   "source": [
    "Description"
   ]
  },
  {
   "cell_type": "code",
   "execution_count": 19,
   "id": "13b67308",
   "metadata": {
    "execution": {
     "iopub.execute_input": "2022-01-13T00:35:58.883564Z",
     "iopub.status.busy": "2022-01-13T00:35:58.881568Z",
     "iopub.status.idle": "2022-01-13T00:35:58.901719Z",
     "shell.execute_reply": "2022-01-13T00:35:58.901719Z"
    },
    "hidden": true,
    "papermill": {
     "duration": 0.106099,
     "end_time": "2022-01-13T00:35:58.901719",
     "exception": false,
     "start_time": "2022-01-13T00:35:58.795620",
     "status": "completed"
    },
    "tags": []
   },
   "outputs": [
    {
     "data": {
      "text/plain": [
       "0     WHITE HANGING HEART T-LIGHT HOLDER\n",
       "1                    WHITE METAL LANTERN\n",
       "2         CREAM CUPID HEARTS COAT HANGER\n",
       "3    KNITTED UNION FLAG HOT WATER BOTTLE\n",
       "4         RED WOOLLY HOTTIE WHITE HEART.\n",
       "Name: description, dtype: object"
      ]
     },
     "execution_count": 19,
     "metadata": {},
     "output_type": "execute_result"
    }
   ],
   "source": [
    "df1.description.head()"
   ]
  },
  {
   "cell_type": "markdown",
   "id": "df9b0713",
   "metadata": {
    "hidden": true,
    "papermill": {
     "duration": 0.076956,
     "end_time": "2022-01-13T00:35:59.062621",
     "exception": false,
     "start_time": "2022-01-13T00:35:58.985665",
     "status": "completed"
    },
    "tags": []
   },
   "source": [
    "Country"
   ]
  },
  {
   "cell_type": "code",
   "execution_count": 20,
   "id": "776442c0",
   "metadata": {
    "execution": {
     "iopub.execute_input": "2022-01-13T00:35:59.321459Z",
     "iopub.status.busy": "2022-01-13T00:35:59.313464Z",
     "iopub.status.idle": "2022-01-13T00:35:59.339447Z",
     "shell.execute_reply": "2022-01-13T00:35:59.338448Z"
    },
    "hidden": true,
    "papermill": {
     "duration": 0.199875,
     "end_time": "2022-01-13T00:35:59.340446",
     "exception": false,
     "start_time": "2022-01-13T00:35:59.140571",
     "status": "completed"
    },
    "tags": []
   },
   "outputs": [
    {
     "data": {
      "text/plain": [
       "United Kingdom    0.91\n",
       "Germany           0.02\n",
       "France            0.02\n",
       "EIRE              0.02\n",
       "Spain             0.00\n",
       "Name: country, dtype: float64"
      ]
     },
     "execution_count": 20,
     "metadata": {},
     "output_type": "execute_result"
    }
   ],
   "source": [
    "df1.country.value_counts(normalize=True).head().round(2)"
   ]
  },
  {
   "cell_type": "code",
   "execution_count": 21,
   "id": "66866d82",
   "metadata": {
    "execution": {
     "iopub.execute_input": "2022-01-13T00:35:59.575302Z",
     "iopub.status.busy": "2022-01-13T00:35:59.573306Z",
     "iopub.status.idle": "2022-01-13T00:35:59.720050Z",
     "shell.execute_reply": "2022-01-13T00:35:59.721049Z"
    },
    "hidden": true,
    "papermill": {
     "duration": 0.284658,
     "end_time": "2022-01-13T00:35:59.721049",
     "exception": false,
     "start_time": "2022-01-13T00:35:59.436391",
     "status": "completed"
    },
    "scrolled": true,
    "tags": []
   },
   "outputs": [
    {
     "data": {
      "text/html": [
       "<div>\n",
       "<style scoped>\n",
       "    .dataframe tbody tr th:only-of-type {\n",
       "        vertical-align: middle;\n",
       "    }\n",
       "\n",
       "    .dataframe tbody tr th {\n",
       "        vertical-align: top;\n",
       "    }\n",
       "\n",
       "    .dataframe thead th {\n",
       "        text-align: right;\n",
       "    }\n",
       "</style>\n",
       "<table border=\"1\" class=\"dataframe\">\n",
       "  <thead>\n",
       "    <tr style=\"text-align: right;\">\n",
       "      <th></th>\n",
       "      <th>country</th>\n",
       "      <th>customer_id</th>\n",
       "    </tr>\n",
       "  </thead>\n",
       "  <tbody>\n",
       "    <tr>\n",
       "      <th>36</th>\n",
       "      <td>United Kingdom</td>\n",
       "      <td>7587</td>\n",
       "    </tr>\n",
       "    <tr>\n",
       "      <th>14</th>\n",
       "      <td>Germany</td>\n",
       "      <td>95</td>\n",
       "    </tr>\n",
       "    <tr>\n",
       "      <th>13</th>\n",
       "      <td>France</td>\n",
       "      <td>90</td>\n",
       "    </tr>\n",
       "    <tr>\n",
       "      <th>10</th>\n",
       "      <td>EIRE</td>\n",
       "      <td>44</td>\n",
       "    </tr>\n",
       "    <tr>\n",
       "      <th>31</th>\n",
       "      <td>Spain</td>\n",
       "      <td>31</td>\n",
       "    </tr>\n",
       "    <tr>\n",
       "      <th>3</th>\n",
       "      <td>Belgium</td>\n",
       "      <td>25</td>\n",
       "    </tr>\n",
       "    <tr>\n",
       "      <th>33</th>\n",
       "      <td>Switzerland</td>\n",
       "      <td>24</td>\n",
       "    </tr>\n",
       "    <tr>\n",
       "      <th>27</th>\n",
       "      <td>Portugal</td>\n",
       "      <td>20</td>\n",
       "    </tr>\n",
       "    <tr>\n",
       "      <th>19</th>\n",
       "      <td>Italy</td>\n",
       "      <td>15</td>\n",
       "    </tr>\n",
       "    <tr>\n",
       "      <th>16</th>\n",
       "      <td>Hong Kong</td>\n",
       "      <td>15</td>\n",
       "    </tr>\n",
       "  </tbody>\n",
       "</table>\n",
       "</div>"
      ],
      "text/plain": [
       "           country  customer_id\n",
       "36  United Kingdom         7587\n",
       "14         Germany           95\n",
       "13          France           90\n",
       "10            EIRE           44\n",
       "31           Spain           31\n",
       "3          Belgium           25\n",
       "33     Switzerland           24\n",
       "27        Portugal           20\n",
       "19           Italy           15\n",
       "16       Hong Kong           15"
      ]
     },
     "execution_count": 21,
     "metadata": {},
     "output_type": "execute_result"
    }
   ],
   "source": [
    "# Top 10 countries with the most purchases\n",
    "df1[['customer_id','country']].drop_duplicates().groupby('country').count().reset_index().sort_values(by='customer_id',ascending=False).head(10)"
   ]
  },
  {
   "cell_type": "markdown",
   "id": "3d06ecea",
   "metadata": {
    "heading_collapsed": true,
    "papermill": {
     "duration": 0.093941,
     "end_time": "2022-01-13T00:35:59.915928",
     "exception": false,
     "start_time": "2022-01-13T00:35:59.821987",
     "status": "completed"
    },
    "tags": []
   },
   "source": [
    "# 2.0 Feature Filtering"
   ]
  },
  {
   "cell_type": "code",
   "execution_count": 22,
   "id": "deeb37b6",
   "metadata": {
    "execution": {
     "iopub.execute_input": "2022-01-13T00:36:00.217743Z",
     "iopub.status.busy": "2022-01-13T00:36:00.215743Z",
     "iopub.status.idle": "2022-01-13T00:36:00.235763Z",
     "shell.execute_reply": "2022-01-13T00:36:00.234763Z"
    },
    "hidden": true,
    "papermill": {
     "duration": 0.162933,
     "end_time": "2022-01-13T00:36:00.236763",
     "exception": false,
     "start_time": "2022-01-13T00:36:00.073830",
     "status": "completed"
    },
    "tags": []
   },
   "outputs": [],
   "source": [
    "df2 = df1.copy()"
   ]
  },
  {
   "cell_type": "markdown",
   "id": "8da3e2de",
   "metadata": {
    "hidden": true,
    "papermill": {
     "duration": 0.100937,
     "end_time": "2022-01-13T00:36:00.455627",
     "exception": false,
     "start_time": "2022-01-13T00:36:00.354690",
     "status": "completed"
    },
    "tags": []
   },
   "source": [
    "## 2.1 Numerical features"
   ]
  },
  {
   "cell_type": "code",
   "execution_count": 23,
   "id": "a53f3251",
   "metadata": {
    "execution": {
     "iopub.execute_input": "2022-01-13T00:36:00.689484Z",
     "iopub.status.busy": "2022-01-13T00:36:00.688485Z",
     "iopub.status.idle": "2022-01-13T00:36:00.938330Z",
     "shell.execute_reply": "2022-01-13T00:36:00.937331Z"
    },
    "hidden": true,
    "papermill": {
     "duration": 0.362773,
     "end_time": "2022-01-13T00:36:00.939328",
     "exception": false,
     "start_time": "2022-01-13T00:36:00.576555",
     "status": "completed"
    },
    "tags": []
   },
   "outputs": [],
   "source": [
    "# Unit price - Select product with at least 0.04 unit price \n",
    "df2 = df2.loc[df2['unit_price']>=0.04]\n",
    "\n",
    "# Quantity - Remove customers with zero quantity in total\n",
    "total_quantity = df2[['quantity','customer_id']].groupby('customer_id').sum()\n",
    "customers_zero_quantity = total_quantity[total_quantity.quantity==0].index.to_list()\n",
    "\n",
    "df2 = df2.loc[~df2['customer_id'].isin(customers_zero_quantity)]"
   ]
  },
  {
   "cell_type": "markdown",
   "id": "41c59e5e",
   "metadata": {
    "hidden": true,
    "papermill": {
     "duration": 0.106936,
     "end_time": "2022-01-13T00:36:01.160194",
     "exception": false,
     "start_time": "2022-01-13T00:36:01.053258",
     "status": "completed"
    },
    "tags": []
   },
   "source": [
    "## 2.2 Categorical features"
   ]
  },
  {
   "cell_type": "code",
   "execution_count": 24,
   "id": "8c7d3655",
   "metadata": {
    "execution": {
     "iopub.execute_input": "2022-01-13T00:36:01.455013Z",
     "iopub.status.busy": "2022-01-13T00:36:01.453012Z",
     "iopub.status.idle": "2022-01-13T00:36:01.782809Z",
     "shell.execute_reply": "2022-01-13T00:36:01.784808Z"
    },
    "hidden": true,
    "papermill": {
     "duration": 0.506687,
     "end_time": "2022-01-13T00:36:01.784808",
     "exception": false,
     "start_time": "2022-01-13T00:36:01.278121",
     "status": "completed"
    },
    "tags": []
   },
   "outputs": [],
   "source": [
    "# Stock Code - remove stock_code that contain ['POST', 'D', 'DOT', 'M', 'S', 'AMAZONFEE', 'm', 'DCGSSBOY', 'DCGSSGIRL', 'PADS', 'B', 'CRUK']\n",
    "df2 =df2[~df2['stock_code'].isin(['POST', 'D', 'DOT', 'M', 'S', 'AMAZONFEE', 'm', 'DCGSSBOY',\n",
    "       'DCGSSGIRL', 'PADS', 'B', 'CRUK'])]\n",
    "\n",
    "# Description - remove description\n",
    "df2.drop('description', axis=1, inplace=True)\n",
    "\n",
    "# Country - Keep only country names: (Remove 'European Community', 'Unspecified')\n",
    "df2 =df2[~df2.country.isin(['European Community', 'Unspecified'])]\n",
    "\n",
    "# Bad users\n",
    "df2 = df2[~df2['customer_id'].isin( [16446] )]\n",
    "\n"
   ]
  },
  {
   "cell_type": "markdown",
   "id": "c57c0907",
   "metadata": {
    "hidden": true,
    "papermill": {
     "duration": 0.117927,
     "end_time": "2022-01-13T00:36:02.030656",
     "exception": false,
     "start_time": "2022-01-13T00:36:01.912729",
     "status": "completed"
    },
    "tags": []
   },
   "source": [
    "## 2.3 Separate dataset"
   ]
  },
  {
   "cell_type": "code",
   "execution_count": 25,
   "id": "c588d8d7",
   "metadata": {
    "execution": {
     "iopub.execute_input": "2022-01-13T00:36:02.288498Z",
     "iopub.status.busy": "2022-01-13T00:36:02.287499Z",
     "iopub.status.idle": "2022-01-13T00:36:02.360452Z",
     "shell.execute_reply": "2022-01-13T00:36:02.361452Z"
    },
    "hidden": true,
    "papermill": {
     "duration": 0.200876,
     "end_time": "2022-01-13T00:36:02.362451",
     "exception": false,
     "start_time": "2022-01-13T00:36:02.161575",
     "status": "completed"
    },
    "tags": []
   },
   "outputs": [],
   "source": [
    "# Quantity - CREATE TWO SEPARATE DATAFRAMES\n",
    "# One for the purchases and another for the returns\n",
    "\n",
    "df_chargeback = df2.loc[df2['quantity']<0,:]\n",
    "df_purchases= df2.loc[df2['quantity']>0,:]"
   ]
  },
  {
   "cell_type": "markdown",
   "id": "9c215514",
   "metadata": {
    "heading_collapsed": true,
    "papermill": {
     "duration": 0.110933,
     "end_time": "2022-01-13T00:36:02.576321",
     "exception": false,
     "start_time": "2022-01-13T00:36:02.465388",
     "status": "completed"
    },
    "tags": []
   },
   "source": [
    "# 3.0 Feature Engeneering"
   ]
  },
  {
   "cell_type": "code",
   "execution_count": 26,
   "id": "886dc43e",
   "metadata": {
    "execution": {
     "iopub.execute_input": "2022-01-13T00:36:02.814174Z",
     "iopub.status.busy": "2022-01-13T00:36:02.804179Z",
     "iopub.status.idle": "2022-01-13T00:36:02.829163Z",
     "shell.execute_reply": "2022-01-13T00:36:02.828165Z"
    },
    "hidden": true,
    "papermill": {
     "duration": 0.134916,
     "end_time": "2022-01-13T00:36:02.829163",
     "exception": false,
     "start_time": "2022-01-13T00:36:02.694247",
     "status": "completed"
    },
    "tags": []
   },
   "outputs": [],
   "source": [
    "df3 = df2.copy()"
   ]
  },
  {
   "cell_type": "markdown",
   "id": "15e0a10f",
   "metadata": {
    "hidden": true,
    "papermill": {
     "duration": 0.087945,
     "end_time": "2022-01-13T00:36:03.023043",
     "exception": false,
     "start_time": "2022-01-13T00:36:02.935098",
     "status": "completed"
    },
    "tags": []
   },
   "source": [
    "## 3.1 Feature Creation"
   ]
  },
  {
   "cell_type": "markdown",
   "id": "4b1cd322",
   "metadata": {
    "hidden": true,
    "papermill": {
     "duration": 0.089945,
     "end_time": "2022-01-13T00:36:03.195940",
     "exception": false,
     "start_time": "2022-01-13T00:36:03.105995",
     "status": "completed"
    },
    "tags": []
   },
   "source": [
    "The main ideia here is to reduce the data granularity into rows that represent each one a different customer."
   ]
  },
  {
   "cell_type": "code",
   "execution_count": 27,
   "id": "4c26b1bd",
   "metadata": {
    "execution": {
     "iopub.execute_input": "2022-01-13T00:36:03.402811Z",
     "iopub.status.busy": "2022-01-13T00:36:03.400812Z",
     "iopub.status.idle": "2022-01-13T00:36:03.459775Z",
     "shell.execute_reply": "2022-01-13T00:36:03.460776Z"
    },
    "hidden": true,
    "papermill": {
     "duration": 0.175892,
     "end_time": "2022-01-13T00:36:03.460776",
     "exception": false,
     "start_time": "2022-01-13T00:36:03.284884",
     "status": "completed"
    },
    "tags": []
   },
   "outputs": [],
   "source": [
    "# Data reference\n",
    "df_ref = df2[['customer_id']].drop_duplicates().reset_index()\n",
    "df_ref.drop('index',axis=1, inplace=True)"
   ]
  },
  {
   "cell_type": "markdown",
   "id": "b2f082d8",
   "metadata": {
    "hidden": true,
    "papermill": {
     "duration": 0.085947,
     "end_time": "2022-01-13T00:36:03.643663",
     "exception": false,
     "start_time": "2022-01-13T00:36:03.557716",
     "status": "completed"
    },
    "tags": []
   },
   "source": [
    "### 3.1.1 Gross Revenue"
   ]
  },
  {
   "cell_type": "code",
   "execution_count": 28,
   "id": "a0b307e7",
   "metadata": {
    "execution": {
     "iopub.execute_input": "2022-01-13T00:36:03.822554Z",
     "iopub.status.busy": "2022-01-13T00:36:03.821553Z",
     "iopub.status.idle": "2022-01-13T00:36:03.901461Z",
     "shell.execute_reply": "2022-01-13T00:36:03.901461Z"
    },
    "hidden": true,
    "papermill": {
     "duration": 0.17485,
     "end_time": "2022-01-13T00:36:03.902459",
     "exception": false,
     "start_time": "2022-01-13T00:36:03.727609",
     "status": "completed"
    },
    "tags": []
   },
   "outputs": [
    {
     "data": {
      "text/plain": [
       "customer_id       0\n",
       "gross_revenue    91\n",
       "dtype: int64"
      ]
     },
     "execution_count": 28,
     "metadata": {},
     "output_type": "execute_result"
    }
   ],
   "source": [
    "# Gross Revenue per item purchased\n",
    "df_purchases['gross_revenue'] = df_purchases['quantity'] * df_purchases['unit_price']\n",
    "\n",
    "# Gross Revenue per customer\n",
    "df_monetary = df_purchases[['customer_id','gross_revenue']].groupby('customer_id').sum().reset_index()\n",
    "df_ref  =pd.merge(df_ref, df_monetary, on='customer_id', how='left')\n",
    "\n",
    "# Check NAs\n",
    "df_ref.isna().sum()"
   ]
  },
  {
   "cell_type": "markdown",
   "id": "a3659648",
   "metadata": {
    "hidden": true,
    "papermill": {
     "duration": 0.082952,
     "end_time": "2022-01-13T00:36:04.069358",
     "exception": false,
     "start_time": "2022-01-13T00:36:03.986406",
     "status": "completed"
    },
    "tags": []
   },
   "source": [
    "### 3.1.2 Recency (Days since the last purchase)"
   ]
  },
  {
   "cell_type": "code",
   "execution_count": 29,
   "id": "92c6b1d9",
   "metadata": {
    "execution": {
     "iopub.execute_input": "2022-01-13T00:36:04.263237Z",
     "iopub.status.busy": "2022-01-13T00:36:04.261240Z",
     "iopub.status.idle": "2022-01-13T00:36:04.327299Z",
     "shell.execute_reply": "2022-01-13T00:36:04.326300Z"
    },
    "hidden": true,
    "papermill": {
     "duration": 0.171996,
     "end_time": "2022-01-13T00:36:04.327299",
     "exception": false,
     "start_time": "2022-01-13T00:36:04.155303",
     "status": "completed"
    },
    "scrolled": true,
    "tags": []
   },
   "outputs": [
    {
     "data": {
      "text/plain": [
       "customer_id       0\n",
       "gross_revenue    91\n",
       "recency_days     91\n",
       "dtype: int64"
      ]
     },
     "execution_count": 29,
     "metadata": {},
     "output_type": "execute_result"
    }
   ],
   "source": [
    "# Recency - Last Day purchase\n",
    "df_recency = df_purchases[['customer_id','invoice_date']].groupby('customer_id').max().reset_index()\n",
    "df_recency['recency_days'] = (df2['invoice_date'].max()-df_recency['invoice_date']).dt.days\n",
    "df_recency = df_recency[['customer_id','recency_days']].copy()\n",
    "df_ref = pd.merge(df_ref, df_recency, on='customer_id',how='left')\n",
    "\n",
    "# Check NAs\n",
    "df_ref.isna().sum()"
   ]
  },
  {
   "cell_type": "markdown",
   "id": "fe2bb14c",
   "metadata": {
    "hidden": true,
    "papermill": {
     "duration": 0.081957,
     "end_time": "2022-01-13T00:36:04.493567",
     "exception": false,
     "start_time": "2022-01-13T00:36:04.411610",
     "status": "completed"
    },
    "tags": []
   },
   "source": [
    "### 3.1.5 Product variety (Unique products purchased)"
   ]
  },
  {
   "cell_type": "code",
   "execution_count": 30,
   "id": "e9c442dd",
   "metadata": {
    "execution": {
     "iopub.execute_input": "2022-01-13T00:36:04.679452Z",
     "iopub.status.busy": "2022-01-13T00:36:04.673454Z",
     "iopub.status.idle": "2022-01-13T00:36:04.866581Z",
     "shell.execute_reply": "2022-01-13T00:36:04.865582Z"
    },
    "hidden": true,
    "papermill": {
     "duration": 0.290065,
     "end_time": "2022-01-13T00:36:04.866581",
     "exception": false,
     "start_time": "2022-01-13T00:36:04.576516",
     "status": "completed"
    },
    "scrolled": true,
    "tags": []
   },
   "outputs": [
    {
     "data": {
      "text/plain": [
       "customer_id         0\n",
       "gross_revenue      91\n",
       "recency_days       91\n",
       "product_variety    91\n",
       "dtype: int64"
      ]
     },
     "execution_count": 30,
     "metadata": {},
     "output_type": "execute_result"
    }
   ],
   "source": [
    "df_var = df_purchases[['customer_id','stock_code']].drop_duplicates().groupby('customer_id').count().reset_index()\n",
    "df_ref = pd.merge(df_ref, df_var, on='customer_id',how='left')\n",
    "df_ref.rename(columns={'stock_code':'product_variety'}, inplace=True)\n",
    "\n",
    "# Check NAs\n",
    "df_ref.isna().sum()"
   ]
  },
  {
   "cell_type": "markdown",
   "id": "d7040051",
   "metadata": {
    "hidden": true,
    "papermill": {
     "duration": 0.085946,
     "end_time": "2022-01-13T00:36:05.040475",
     "exception": false,
     "start_time": "2022-01-13T00:36:04.954529",
     "status": "completed"
    },
    "tags": []
   },
   "source": [
    "### 3.1.8 Returns"
   ]
  },
  {
   "cell_type": "code",
   "execution_count": 31,
   "id": "4a61a67f",
   "metadata": {
    "execution": {
     "iopub.execute_input": "2022-01-13T00:36:05.232356Z",
     "iopub.status.busy": "2022-01-13T00:36:05.229361Z",
     "iopub.status.idle": "2022-01-13T00:36:05.262269Z",
     "shell.execute_reply": "2022-01-13T00:36:05.261269Z"
    },
    "hidden": true,
    "papermill": {
     "duration": 0.142844,
     "end_time": "2022-01-13T00:36:05.263268",
     "exception": false,
     "start_time": "2022-01-13T00:36:05.120424",
     "status": "completed"
    },
    "scrolled": true,
    "tags": []
   },
   "outputs": [
    {
     "data": {
      "text/plain": [
       "customer_id         0\n",
       "gross_revenue      91\n",
       "recency_days       91\n",
       "product_variety    91\n",
       "returns             0\n",
       "dtype: int64"
      ]
     },
     "execution_count": 31,
     "metadata": {},
     "output_type": "execute_result"
    }
   ],
   "source": [
    "df_return = df_chargeback[['customer_id','quantity']].groupby('customer_id').sum().reset_index()\n",
    "df_return.rename(columns={'quantity':'returns'}, inplace=True) # rename column\n",
    "df_ref = pd.merge(df_ref,df_return, on='customer_id', how='left')\n",
    "df_ref['returns'] = df_ref['returns'] * -1\n",
    "df_ref['returns'].fillna(value=0, inplace=True) # Fill NAs with O (clients with no chargebacks)\n",
    "\n",
    "df_ref.isna().sum()"
   ]
  },
  {
   "cell_type": "markdown",
   "id": "18e91191",
   "metadata": {
    "hidden": true,
    "papermill": {
     "duration": 0.082954,
     "end_time": "2022-01-13T00:36:05.431734",
     "exception": false,
     "start_time": "2022-01-13T00:36:05.348780",
     "status": "completed"
    },
    "tags": []
   },
   "source": [
    "### 3.1.9 Frequency"
   ]
  },
  {
   "cell_type": "code",
   "execution_count": 32,
   "id": "30e1c9e1",
   "metadata": {
    "execution": {
     "iopub.execute_input": "2022-01-13T00:36:05.632614Z",
     "iopub.status.busy": "2022-01-13T00:36:05.631619Z",
     "iopub.status.idle": "2022-01-13T00:36:08.635496Z",
     "shell.execute_reply": "2022-01-13T00:36:08.636494Z"
    },
    "hidden": true,
    "papermill": {
     "duration": 3.11981,
     "end_time": "2022-01-13T00:36:08.636494",
     "exception": false,
     "start_time": "2022-01-13T00:36:05.516684",
     "status": "completed"
    },
    "scrolled": true,
    "tags": []
   },
   "outputs": [
    {
     "data": {
      "text/plain": [
       "customer_id         0\n",
       "gross_revenue      91\n",
       "recency_days       91\n",
       "product_variety    91\n",
       "returns             0\n",
       "frequency           0\n",
       "dtype: int64"
      ]
     },
     "execution_count": 32,
     "metadata": {},
     "output_type": "execute_result"
    }
   ],
   "source": [
    "df_aux = ( df2[['customer_id', 'invoice_no','invoice_date']].drop_duplicates()\n",
    "                                                             .groupby('customer_id')\n",
    "                                                             .agg( max_ = ('invoice_date','max'),\n",
    "                                                                   min_ = ('invoice_date', 'min'),\n",
    "                                                                   days_ = ('invoice_date', lambda x: ((x.max() - x.min()).days)+1 ),\n",
    "                                                                purchases = ('invoice_no','count') )).reset_index()  \n",
    "# Frequency\n",
    "\n",
    "df_aux['frequency'] = df_aux[['purchases','days_']].apply(lambda x: x['purchases']/x['days_'] if x['days_'] != 0 else 0, axis=1)\n",
    " \n",
    "# Merge\n",
    "df_ref = pd.merge(df_ref, df_aux[['customer_id', 'frequency']], on='customer_id', how='left')\n",
    "\n",
    "df_ref.isna().sum()"
   ]
  },
  {
   "cell_type": "markdown",
   "id": "87cff299",
   "metadata": {
    "papermill": {
     "duration": 0.097942,
     "end_time": "2022-01-13T00:36:08.871353",
     "exception": false,
     "start_time": "2022-01-13T00:36:08.773411",
     "status": "completed"
    },
    "tags": []
   },
   "source": [
    "# 4.0 Exploratory Data Analysis"
   ]
  },
  {
   "cell_type": "code",
   "execution_count": 33,
   "id": "23b9af9e",
   "metadata": {
    "execution": {
     "iopub.execute_input": "2022-01-13T00:36:09.170167Z",
     "iopub.status.busy": "2022-01-13T00:36:09.169168Z",
     "iopub.status.idle": "2022-01-13T00:36:09.184179Z",
     "shell.execute_reply": "2022-01-13T00:36:09.184179Z"
    },
    "papermill": {
     "duration": 0.177909,
     "end_time": "2022-01-13T00:36:09.185178",
     "exception": false,
     "start_time": "2022-01-13T00:36:09.007269",
     "status": "completed"
    },
    "tags": []
   },
   "outputs": [],
   "source": [
    "# Drop NAs\n",
    "df_ref.dropna(inplace=True)\n",
    "\n",
    "df4 = df_ref.copy()"
   ]
  },
  {
   "cell_type": "markdown",
   "id": "b7abf7f5",
   "metadata": {
    "papermill": {
     "duration": 0.160901,
     "end_time": "2022-01-13T00:36:09.453014",
     "exception": false,
     "start_time": "2022-01-13T00:36:09.292113",
     "status": "completed"
    },
    "tags": []
   },
   "source": [
    "## 4.1 Data Space Study"
   ]
  },
  {
   "cell_type": "code",
   "execution_count": 34,
   "id": "36c80e81",
   "metadata": {
    "execution": {
     "iopub.execute_input": "2022-01-13T00:36:09.761825Z",
     "iopub.status.busy": "2022-01-13T00:36:09.759825Z",
     "iopub.status.idle": "2022-01-13T00:36:09.764822Z",
     "shell.execute_reply": "2022-01-13T00:36:09.765822Z"
    },
    "papermill": {
     "duration": 0.1629,
     "end_time": "2022-01-13T00:36:09.766821",
     "exception": false,
     "start_time": "2022-01-13T00:36:09.603921",
     "status": "completed"
    },
    "tags": []
   },
   "outputs": [],
   "source": [
    "df_space = df4.copy()\n",
    "\n",
    "# Cols selected after data variation analysis\n",
    "cols_selected = ['customer_id', 'gross_revenue', 'recency_days', 'product_variety', 'frequency', 'returns']\n",
    "\n",
    "df_space = df_space[cols_selected]"
   ]
  },
  {
   "cell_type": "code",
   "execution_count": 35,
   "id": "e8b9d554",
   "metadata": {
    "execution": {
     "iopub.execute_input": "2022-01-13T00:36:10.187561Z",
     "iopub.status.busy": "2022-01-13T00:36:10.185563Z",
     "iopub.status.idle": "2022-01-13T00:36:10.236531Z",
     "shell.execute_reply": "2022-01-13T00:36:10.237530Z"
    },
    "papermill": {
     "duration": 0.259839,
     "end_time": "2022-01-13T00:36:10.238530",
     "exception": false,
     "start_time": "2022-01-13T00:36:09.978691",
     "status": "completed"
    },
    "tags": []
   },
   "outputs": [],
   "source": [
    "# MinMaxScaler definition\n",
    "mms = pp.MinMaxScaler()\n",
    "\n",
    "# Standardization \n",
    "\n",
    "df_space['gross_revenue'] = mms.fit_transform( df_space[['gross_revenue']])\n",
    "df_space['recency_days'] = mms.fit_transform( df_space[['recency_days']])\n",
    "df_space['product_variety'] = mms.fit_transform( df_space[['product_variety']])\n",
    "df_space['returns'] = mms.fit_transform( df_space[['returns']])\n",
    "df_space['frequency'] = mms.fit_transform( df_space[['frequency']])\n",
    "\n",
    "X_space = df_space.copy().drop('customer_id',axis=1)"
   ]
  },
  {
   "cell_type": "code",
   "execution_count": 36,
   "id": "5cc5a8a9",
   "metadata": {
    "execution": {
     "iopub.execute_input": "2022-01-13T00:36:10.537346Z",
     "iopub.status.busy": "2022-01-13T00:36:10.535347Z",
     "iopub.status.idle": "2022-01-13T00:36:10.549341Z",
     "shell.execute_reply": "2022-01-13T00:36:10.548339Z"
    },
    "papermill": {
     "duration": 0.160904,
     "end_time": "2022-01-13T00:36:10.549341",
     "exception": false,
     "start_time": "2022-01-13T00:36:10.388437",
     "status": "completed"
    },
    "tags": []
   },
   "outputs": [
    {
     "data": {
      "text/plain": [
       "(5682, 5)"
      ]
     },
     "execution_count": 36,
     "metadata": {},
     "output_type": "execute_result"
    }
   ],
   "source": [
    "X_space.shape"
   ]
  },
  {
   "cell_type": "markdown",
   "id": "29b035c8",
   "metadata": {
    "papermill": {
     "duration": 0.141913,
     "end_time": "2022-01-13T00:36:10.828167",
     "exception": false,
     "start_time": "2022-01-13T00:36:10.686254",
     "status": "completed"
    },
    "tags": []
   },
   "source": [
    "### 4.2 Tree-Based Embedding"
   ]
  },
  {
   "cell_type": "markdown",
   "id": "19423da7",
   "metadata": {
    "papermill": {
     "duration": 0.105935,
     "end_time": "2022-01-13T00:36:11.103996",
     "exception": false,
     "start_time": "2022-01-13T00:36:10.998061",
     "status": "completed"
    },
    "tags": []
   },
   "source": [
    "**Note**: the dataframe below shows a unique customer per row, a unique tree per column. The values inside each cell represents the position (leaf number) of the respective customer in that tree."
   ]
  },
  {
   "cell_type": "code",
   "execution_count": 37,
   "id": "e7a00d0a",
   "metadata": {
    "execution": {
     "iopub.execute_input": "2022-01-13T00:36:11.329856Z",
     "iopub.status.busy": "2022-01-13T00:36:11.328857Z",
     "iopub.status.idle": "2022-01-13T00:36:13.831366Z",
     "shell.execute_reply": "2022-01-13T00:36:13.832365Z"
    },
    "papermill": {
     "duration": 2.636428,
     "end_time": "2022-01-13T00:36:13.833365",
     "exception": false,
     "start_time": "2022-01-13T00:36:11.196937",
     "status": "completed"
    },
    "tags": []
   },
   "outputs": [
    {
     "data": {
      "text/html": [
       "<div>\n",
       "<style scoped>\n",
       "    .dataframe tbody tr th:only-of-type {\n",
       "        vertical-align: middle;\n",
       "    }\n",
       "\n",
       "    .dataframe tbody tr th {\n",
       "        vertical-align: top;\n",
       "    }\n",
       "\n",
       "    .dataframe thead th {\n",
       "        text-align: right;\n",
       "    }\n",
       "</style>\n",
       "<table border=\"1\" class=\"dataframe\">\n",
       "  <thead>\n",
       "    <tr style=\"text-align: right;\">\n",
       "      <th></th>\n",
       "      <th>0</th>\n",
       "      <th>1</th>\n",
       "      <th>2</th>\n",
       "      <th>3</th>\n",
       "      <th>4</th>\n",
       "      <th>5</th>\n",
       "      <th>6</th>\n",
       "      <th>7</th>\n",
       "      <th>8</th>\n",
       "      <th>9</th>\n",
       "      <th>...</th>\n",
       "      <th>90</th>\n",
       "      <th>91</th>\n",
       "      <th>92</th>\n",
       "      <th>93</th>\n",
       "      <th>94</th>\n",
       "      <th>95</th>\n",
       "      <th>96</th>\n",
       "      <th>97</th>\n",
       "      <th>98</th>\n",
       "      <th>99</th>\n",
       "    </tr>\n",
       "  </thead>\n",
       "  <tbody>\n",
       "    <tr>\n",
       "      <th>0</th>\n",
       "      <td>3200</td>\n",
       "      <td>4891</td>\n",
       "      <td>4912</td>\n",
       "      <td>3453</td>\n",
       "      <td>3173</td>\n",
       "      <td>3974</td>\n",
       "      <td>4034</td>\n",
       "      <td>4159</td>\n",
       "      <td>3826</td>\n",
       "      <td>6967</td>\n",
       "      <td>...</td>\n",
       "      <td>4291</td>\n",
       "      <td>4830</td>\n",
       "      <td>4073</td>\n",
       "      <td>4139</td>\n",
       "      <td>4588</td>\n",
       "      <td>4282</td>\n",
       "      <td>3287</td>\n",
       "      <td>3326</td>\n",
       "      <td>4177</td>\n",
       "      <td>3930</td>\n",
       "    </tr>\n",
       "    <tr>\n",
       "      <th>1</th>\n",
       "      <td>6371</td>\n",
       "      <td>6691</td>\n",
       "      <td>6819</td>\n",
       "      <td>6359</td>\n",
       "      <td>6829</td>\n",
       "      <td>6975</td>\n",
       "      <td>6830</td>\n",
       "      <td>6607</td>\n",
       "      <td>6790</td>\n",
       "      <td>6466</td>\n",
       "      <td>...</td>\n",
       "      <td>6763</td>\n",
       "      <td>6636</td>\n",
       "      <td>6373</td>\n",
       "      <td>6534</td>\n",
       "      <td>6454</td>\n",
       "      <td>6798</td>\n",
       "      <td>6763</td>\n",
       "      <td>6688</td>\n",
       "      <td>6892</td>\n",
       "      <td>6457</td>\n",
       "    </tr>\n",
       "    <tr>\n",
       "      <th>2</th>\n",
       "      <td>6775</td>\n",
       "      <td>6672</td>\n",
       "      <td>6822</td>\n",
       "      <td>6777</td>\n",
       "      <td>6724</td>\n",
       "      <td>6927</td>\n",
       "      <td>6723</td>\n",
       "      <td>6643</td>\n",
       "      <td>6786</td>\n",
       "      <td>6726</td>\n",
       "      <td>...</td>\n",
       "      <td>6817</td>\n",
       "      <td>5922</td>\n",
       "      <td>6838</td>\n",
       "      <td>6511</td>\n",
       "      <td>6462</td>\n",
       "      <td>6716</td>\n",
       "      <td>6731</td>\n",
       "      <td>6583</td>\n",
       "      <td>6803</td>\n",
       "      <td>6876</td>\n",
       "    </tr>\n",
       "    <tr>\n",
       "      <th>3</th>\n",
       "      <td>700</td>\n",
       "      <td>1258</td>\n",
       "      <td>720</td>\n",
       "      <td>295</td>\n",
       "      <td>568</td>\n",
       "      <td>835</td>\n",
       "      <td>629</td>\n",
       "      <td>875</td>\n",
       "      <td>412</td>\n",
       "      <td>1063</td>\n",
       "      <td>...</td>\n",
       "      <td>624</td>\n",
       "      <td>495</td>\n",
       "      <td>864</td>\n",
       "      <td>719</td>\n",
       "      <td>816</td>\n",
       "      <td>888</td>\n",
       "      <td>425</td>\n",
       "      <td>751</td>\n",
       "      <td>1055</td>\n",
       "      <td>703</td>\n",
       "    </tr>\n",
       "    <tr>\n",
       "      <th>4</th>\n",
       "      <td>1642</td>\n",
       "      <td>1480</td>\n",
       "      <td>1051</td>\n",
       "      <td>2065</td>\n",
       "      <td>1016</td>\n",
       "      <td>1388</td>\n",
       "      <td>1482</td>\n",
       "      <td>1650</td>\n",
       "      <td>2366</td>\n",
       "      <td>2697</td>\n",
       "      <td>...</td>\n",
       "      <td>2289</td>\n",
       "      <td>2216</td>\n",
       "      <td>1568</td>\n",
       "      <td>1853</td>\n",
       "      <td>2354</td>\n",
       "      <td>1443</td>\n",
       "      <td>1350</td>\n",
       "      <td>1332</td>\n",
       "      <td>1611</td>\n",
       "      <td>1976</td>\n",
       "    </tr>\n",
       "  </tbody>\n",
       "</table>\n",
       "<p>5 rows × 100 columns</p>\n",
       "</div>"
      ],
      "text/plain": [
       "     0     1     2     3     4     5     6     7     8     9   ...    90  \\\n",
       "0  3200  4891  4912  3453  3173  3974  4034  4159  3826  6967  ...  4291   \n",
       "1  6371  6691  6819  6359  6829  6975  6830  6607  6790  6466  ...  6763   \n",
       "2  6775  6672  6822  6777  6724  6927  6723  6643  6786  6726  ...  6817   \n",
       "3   700  1258   720   295   568   835   629   875   412  1063  ...   624   \n",
       "4  1642  1480  1051  2065  1016  1388  1482  1650  2366  2697  ...  2289   \n",
       "\n",
       "     91    92    93    94    95    96    97    98    99  \n",
       "0  4830  4073  4139  4588  4282  3287  3326  4177  3930  \n",
       "1  6636  6373  6534  6454  6798  6763  6688  6892  6457  \n",
       "2  5922  6838  6511  6462  6716  6731  6583  6803  6876  \n",
       "3   495   864   719   816   888   425   751  1055   703  \n",
       "4  2216  1568  1853  2354  1443  1350  1332  1611  1976  \n",
       "\n",
       "[5 rows x 100 columns]"
      ]
     },
     "execution_count": 37,
     "metadata": {},
     "output_type": "execute_result"
    }
   ],
   "source": [
    "# training dataset\n",
    "X = df4[cols_selected].drop(columns=['customer_id','gross_revenue'],axis=1)\n",
    "y =df4['gross_revenue']\n",
    "\n",
    "# model definition\n",
    "rf = en.RandomForestRegressor( n_estimators=100, random_state=42)\n",
    "\n",
    "# model training\n",
    "rf.fit(X,y)\n",
    "\n",
    "# Turn leafs into dataframe\n",
    "df_leaf = pd.DataFrame(rf.apply(X))# Apply trees in the forest to X, return leaf indices\n",
    "df_leaf.head()"
   ]
  },
  {
   "cell_type": "code",
   "execution_count": 38,
   "id": "25709df5",
   "metadata": {
    "execution": {
     "iopub.execute_input": "2022-01-13T00:36:14.071218Z",
     "iopub.status.busy": "2022-01-13T00:36:14.070220Z",
     "iopub.status.idle": "2022-01-13T00:37:12.642669Z",
     "shell.execute_reply": "2022-01-13T00:37:12.643667Z"
    },
    "papermill": {
     "duration": 58.683383,
     "end_time": "2022-01-13T00:37:12.643667",
     "exception": false,
     "start_time": "2022-01-13T00:36:13.960284",
     "status": "completed"
    },
    "tags": []
   },
   "outputs": [
    {
     "data": {
      "image/png": "[encoded data removed]",
      "text/plain": [
       "<Figure size 432x288 with 1 Axes>"
      ]
     },
     "metadata": {
      "needs_background": "light"
     },
     "output_type": "display_data"
    }
   ],
   "source": [
    "# Reduce dimensionality\n",
    "reducer = umap.UMAP( random_state=42 )\n",
    "embedding = reducer.fit_transform( df_leaf )\n",
    "\n",
    "# embedding\n",
    "df_tree = pd.DataFrame()\n",
    "df_tree['embedding_x'] = embedding[:, 0]\n",
    "df_tree['embedding_y'] = embedding[:, 1]\n",
    "\n",
    "# plot Tree-Based Embedding using UMAP\n",
    "sns.scatterplot( x='embedding_x', \n",
    "                 y='embedding_y', \n",
    "                 data=df_tree );"
   ]
  },
  {
   "cell_type": "markdown",
   "id": "667ea058",
   "metadata": {
    "papermill": {
     "duration": 0.09194,
     "end_time": "2022-01-13T00:37:12.824554",
     "exception": false,
     "start_time": "2022-01-13T00:37:12.732614",
     "status": "completed"
    },
    "tags": []
   },
   "source": [
    "# 5.0 Hyperparameter Fine-Tunning"
   ]
  },
  {
   "cell_type": "markdown",
   "id": "f415636a",
   "metadata": {
    "papermill": {
     "duration": 0.09494,
     "end_time": "2022-01-13T00:37:13.006442",
     "exception": false,
     "start_time": "2022-01-13T00:37:12.911502",
     "status": "completed"
    },
    "tags": []
   },
   "source": [
    "This step servers for testing how many clusters fits the model the best."
   ]
  },
  {
   "cell_type": "code",
   "execution_count": 39,
   "id": "02f8fbac",
   "metadata": {
    "execution": {
     "iopub.execute_input": "2022-01-13T00:37:13.189330Z",
     "iopub.status.busy": "2022-01-13T00:37:13.188331Z",
     "iopub.status.idle": "2022-01-13T00:37:13.247384Z",
     "shell.execute_reply": "2022-01-13T00:37:13.246383Z"
    },
    "papermill": {
     "duration": 0.150996,
     "end_time": "2022-01-13T00:37:13.247384",
     "exception": false,
     "start_time": "2022-01-13T00:37:13.096388",
     "status": "completed"
    },
    "tags": []
   },
   "outputs": [
    {
     "data": {
      "text/html": [
       "<div>\n",
       "<style scoped>\n",
       "    .dataframe tbody tr th:only-of-type {\n",
       "        vertical-align: middle;\n",
       "    }\n",
       "\n",
       "    .dataframe tbody tr th {\n",
       "        vertical-align: top;\n",
       "    }\n",
       "\n",
       "    .dataframe thead th {\n",
       "        text-align: right;\n",
       "    }\n",
       "</style>\n",
       "<table border=\"1\" class=\"dataframe\">\n",
       "  <thead>\n",
       "    <tr style=\"text-align: right;\">\n",
       "      <th></th>\n",
       "      <th>embedding_x</th>\n",
       "      <th>embedding_y</th>\n",
       "    </tr>\n",
       "  </thead>\n",
       "  <tbody>\n",
       "    <tr>\n",
       "      <th>0</th>\n",
       "      <td>2.110939</td>\n",
       "      <td>2.280515</td>\n",
       "    </tr>\n",
       "    <tr>\n",
       "      <th>1</th>\n",
       "      <td>-11.168382</td>\n",
       "      <td>-2.985210</td>\n",
       "    </tr>\n",
       "    <tr>\n",
       "      <th>2</th>\n",
       "      <td>-11.806499</td>\n",
       "      <td>-3.749706</td>\n",
       "    </tr>\n",
       "    <tr>\n",
       "      <th>3</th>\n",
       "      <td>11.148773</td>\n",
       "      <td>-4.583150</td>\n",
       "    </tr>\n",
       "    <tr>\n",
       "      <th>4</th>\n",
       "      <td>5.252467</td>\n",
       "      <td>-5.936544</td>\n",
       "    </tr>\n",
       "  </tbody>\n",
       "</table>\n",
       "</div>"
      ],
      "text/plain": [
       "   embedding_x  embedding_y\n",
       "0     2.110939     2.280515\n",
       "1   -11.168382    -2.985210\n",
       "2   -11.806499    -3.749706\n",
       "3    11.148773    -4.583150\n",
       "4     5.252467    -5.936544"
      ]
     },
     "execution_count": 39,
     "metadata": {},
     "output_type": "execute_result"
    }
   ],
   "source": [
    "# Save tree base embedding into CSV\n",
    "df_tree.to_csv(path + 'src\\\\data\\\\tree_based_embedding.csv')\n",
    "\n",
    "# Convert df_tree into X\n",
    "X = df_tree.copy()\n",
    "\n",
    "# Check X\n",
    "X.head()"
   ]
  },
  {
   "cell_type": "markdown",
   "id": "76778310",
   "metadata": {
    "heading_collapsed": true,
    "papermill": {
     "duration": 0.092949,
     "end_time": "2022-01-13T00:37:13.432132",
     "exception": false,
     "start_time": "2022-01-13T00:37:13.339183",
     "status": "completed"
    },
    "tags": []
   },
   "source": [
    "# 6.0 Model Training"
   ]
  },
  {
   "cell_type": "markdown",
   "id": "10cb3d48",
   "metadata": {
    "heading_collapsed": true,
    "hidden": true,
    "papermill": {
     "duration": 0.089944,
     "end_time": "2022-01-13T00:37:13.611022",
     "exception": false,
     "start_time": "2022-01-13T00:37:13.521078",
     "status": "completed"
    },
    "tags": []
   },
   "source": [
    "## 6.1 Final Model"
   ]
  },
  {
   "cell_type": "code",
   "execution_count": 40,
   "id": "fffab0e8",
   "metadata": {
    "execution": {
     "iopub.execute_input": "2022-01-13T00:37:13.806902Z",
     "iopub.status.busy": "2022-01-13T00:37:13.805900Z",
     "iopub.status.idle": "2022-01-13T00:37:14.049139Z",
     "shell.execute_reply": "2022-01-13T00:37:14.050138Z"
    },
    "hidden": true,
    "papermill": {
     "duration": 0.345175,
     "end_time": "2022-01-13T00:37:14.051136",
     "exception": false,
     "start_time": "2022-01-13T00:37:13.705961",
     "status": "completed"
    },
    "tags": []
   },
   "outputs": [],
   "source": [
    "# Final number of clusteres -> 8 \n",
    "k = 8\n",
    "\n",
    "# Model definition\n",
    "model_train = c.KMeans( init='random', n_clusters=k, n_init=10, max_iter=300, random_state=42)\n",
    "\n",
    "# Model Training\n",
    "model_train.fit(X)\n",
    "\n",
    "# Clustering\n",
    "labels = model_train.labels_"
   ]
  },
  {
   "cell_type": "markdown",
   "id": "5c1412d5",
   "metadata": {
    "heading_collapsed": true,
    "hidden": true,
    "papermill": {
     "duration": 0.091945,
     "end_time": "2022-01-13T00:37:14.285994",
     "exception": false,
     "start_time": "2022-01-13T00:37:14.194049",
     "status": "completed"
    },
    "tags": []
   },
   "source": [
    "## 6.2 Cluster Validation"
   ]
  },
  {
   "cell_type": "code",
   "execution_count": 41,
   "id": "418d32d9",
   "metadata": {
    "execution": {
     "iopub.execute_input": "2022-01-13T00:37:14.477873Z",
     "iopub.status.busy": "2022-01-13T00:37:14.476876Z",
     "iopub.status.idle": "2022-01-13T00:37:16.090974Z",
     "shell.execute_reply": "2022-01-13T00:37:16.090974Z"
    },
    "hidden": true,
    "papermill": {
     "duration": 1.713035,
     "end_time": "2022-01-13T00:37:16.091971",
     "exception": false,
     "start_time": "2022-01-13T00:37:14.378936",
     "status": "completed"
    },
    "tags": []
   },
   "outputs": [
    {
     "name": "stdout",
     "output_type": "stream",
     "text": [
      "SS value: 0.43634262681007385\n"
     ]
    }
   ],
   "source": [
    "# SS ( Silhouette Score )\n",
    "print( 'SS value: {}'.format( m.silhouette_score( X, labels, metric='euclidean' ) ) )"
   ]
  },
  {
   "cell_type": "markdown",
   "id": "a2251acd",
   "metadata": {
    "papermill": {
     "duration": 0.091942,
     "end_time": "2022-01-13T00:37:16.276855",
     "exception": false,
     "start_time": "2022-01-13T00:37:16.184913",
     "status": "completed"
    },
    "tags": []
   },
   "source": [
    "# 7.0 Cluster Analysis"
   ]
  },
  {
   "cell_type": "code",
   "execution_count": 42,
   "id": "d52fed92",
   "metadata": {
    "execution": {
     "iopub.execute_input": "2022-01-13T00:37:16.474734Z",
     "iopub.status.busy": "2022-01-13T00:37:16.473734Z",
     "iopub.status.idle": "2022-01-13T00:37:16.487769Z",
     "shell.execute_reply": "2022-01-13T00:37:16.486770Z"
    },
    "papermill": {
     "duration": 0.118969,
     "end_time": "2022-01-13T00:37:16.487769",
     "exception": false,
     "start_time": "2022-01-13T00:37:16.368800",
     "status": "completed"
    },
    "scrolled": true,
    "tags": []
   },
   "outputs": [
    {
     "data": {
      "text/html": [
       "<div>\n",
       "<style scoped>\n",
       "    .dataframe tbody tr th:only-of-type {\n",
       "        vertical-align: middle;\n",
       "    }\n",
       "\n",
       "    .dataframe tbody tr th {\n",
       "        vertical-align: top;\n",
       "    }\n",
       "\n",
       "    .dataframe thead th {\n",
       "        text-align: right;\n",
       "    }\n",
       "</style>\n",
       "<table border=\"1\" class=\"dataframe\">\n",
       "  <thead>\n",
       "    <tr style=\"text-align: right;\">\n",
       "      <th></th>\n",
       "      <th>embedding_x</th>\n",
       "      <th>embedding_y</th>\n",
       "      <th>cluster</th>\n",
       "    </tr>\n",
       "  </thead>\n",
       "  <tbody>\n",
       "    <tr>\n",
       "      <th>0</th>\n",
       "      <td>2.110939</td>\n",
       "      <td>2.280515</td>\n",
       "      <td>3</td>\n",
       "    </tr>\n",
       "    <tr>\n",
       "      <th>1</th>\n",
       "      <td>-11.168382</td>\n",
       "      <td>-2.985210</td>\n",
       "      <td>1</td>\n",
       "    </tr>\n",
       "    <tr>\n",
       "      <th>2</th>\n",
       "      <td>-11.806499</td>\n",
       "      <td>-3.749706</td>\n",
       "      <td>1</td>\n",
       "    </tr>\n",
       "    <tr>\n",
       "      <th>3</th>\n",
       "      <td>11.148773</td>\n",
       "      <td>-4.583150</td>\n",
       "      <td>4</td>\n",
       "    </tr>\n",
       "    <tr>\n",
       "      <th>4</th>\n",
       "      <td>5.252467</td>\n",
       "      <td>-5.936544</td>\n",
       "      <td>2</td>\n",
       "    </tr>\n",
       "  </tbody>\n",
       "</table>\n",
       "</div>"
      ],
      "text/plain": [
       "   embedding_x  embedding_y  cluster\n",
       "0     2.110939     2.280515        3\n",
       "1   -11.168382    -2.985210        1\n",
       "2   -11.806499    -3.749706        1\n",
       "3    11.148773    -4.583150        4\n",
       "4     5.252467    -5.936544        2"
      ]
     },
     "execution_count": 42,
     "metadata": {},
     "output_type": "execute_result"
    }
   ],
   "source": [
    "df9 = X.copy()\n",
    "\n",
    "# Adding the clustes \n",
    "df9['cluster'] = labels\n",
    "\n",
    "df9.head()"
   ]
  },
  {
   "cell_type": "markdown",
   "id": "dfb924f4",
   "metadata": {
    "papermill": {
     "duration": 0.091943,
     "end_time": "2022-01-13T00:37:16.680652",
     "exception": false,
     "start_time": "2022-01-13T00:37:16.588709",
     "status": "completed"
    },
    "tags": []
   },
   "source": [
    "## 7.2 Cluster Profile"
   ]
  },
  {
   "cell_type": "code",
   "execution_count": 43,
   "id": "18eec30a",
   "metadata": {
    "execution": {
     "iopub.execute_input": "2022-01-13T00:37:16.901522Z",
     "iopub.status.busy": "2022-01-13T00:37:16.899522Z",
     "iopub.status.idle": "2022-01-13T00:37:16.937538Z",
     "shell.execute_reply": "2022-01-13T00:37:16.936538Z"
    },
    "papermill": {
     "duration": 0.163942,
     "end_time": "2022-01-13T00:37:16.937538",
     "exception": false,
     "start_time": "2022-01-13T00:37:16.773596",
     "status": "completed"
    },
    "tags": []
   },
   "outputs": [
    {
     "data": {
      "text/html": [
       "<div>\n",
       "<style scoped>\n",
       "    .dataframe tbody tr th:only-of-type {\n",
       "        vertical-align: middle;\n",
       "    }\n",
       "\n",
       "    .dataframe tbody tr th {\n",
       "        vertical-align: top;\n",
       "    }\n",
       "\n",
       "    .dataframe thead th {\n",
       "        text-align: right;\n",
       "    }\n",
       "</style>\n",
       "<table border=\"1\" class=\"dataframe\">\n",
       "  <thead>\n",
       "    <tr style=\"text-align: right;\">\n",
       "      <th></th>\n",
       "      <th>customer_id</th>\n",
       "      <th>gross_revenue</th>\n",
       "      <th>recency_days</th>\n",
       "      <th>product_variety</th>\n",
       "      <th>frequency</th>\n",
       "      <th>returns</th>\n",
       "      <th>cluster</th>\n",
       "    </tr>\n",
       "  </thead>\n",
       "  <tbody>\n",
       "    <tr>\n",
       "      <th>0</th>\n",
       "      <td>17850</td>\n",
       "      <td>5391.21</td>\n",
       "      <td>372</td>\n",
       "      <td>21</td>\n",
       "      <td>0.486111</td>\n",
       "      <td>40</td>\n",
       "      <td>3</td>\n",
       "    </tr>\n",
       "    <tr>\n",
       "      <th>1</th>\n",
       "      <td>13047</td>\n",
       "      <td>3232.59</td>\n",
       "      <td>56</td>\n",
       "      <td>105</td>\n",
       "      <td>0.048780</td>\n",
       "      <td>35</td>\n",
       "      <td>1</td>\n",
       "    </tr>\n",
       "    <tr>\n",
       "      <th>2</th>\n",
       "      <td>12583</td>\n",
       "      <td>6705.38</td>\n",
       "      <td>2</td>\n",
       "      <td>114</td>\n",
       "      <td>0.045699</td>\n",
       "      <td>50</td>\n",
       "      <td>1</td>\n",
       "    </tr>\n",
       "    <tr>\n",
       "      <th>3</th>\n",
       "      <td>13748</td>\n",
       "      <td>948.25</td>\n",
       "      <td>95</td>\n",
       "      <td>24</td>\n",
       "      <td>0.017921</td>\n",
       "      <td>0</td>\n",
       "      <td>4</td>\n",
       "    </tr>\n",
       "    <tr>\n",
       "      <th>4</th>\n",
       "      <td>15100</td>\n",
       "      <td>876.00</td>\n",
       "      <td>333</td>\n",
       "      <td>1</td>\n",
       "      <td>0.136364</td>\n",
       "      <td>22</td>\n",
       "      <td>2</td>\n",
       "    </tr>\n",
       "  </tbody>\n",
       "</table>\n",
       "</div>"
      ],
      "text/plain": [
       "   customer_id  gross_revenue  recency_days  product_variety  frequency  \\\n",
       "0        17850        5391.21           372               21   0.486111   \n",
       "1        13047        3232.59            56              105   0.048780   \n",
       "2        12583        6705.38             2              114   0.045699   \n",
       "3        13748         948.25            95               24   0.017921   \n",
       "4        15100         876.00           333                1   0.136364   \n",
       "\n",
       "   returns  cluster  \n",
       "0       40        3  \n",
       "1       35        1  \n",
       "2       50        1  \n",
       "3        0        4  \n",
       "4       22        2  "
      ]
     },
     "execution_count": 43,
     "metadata": {},
     "output_type": "execute_result"
    }
   ],
   "source": [
    "df9 =df4[cols_selected].copy() \n",
    "\n",
    "# Adding the clustes \n",
    "df9['cluster'] = labels\n",
    "\n",
    "# Change data types\n",
    "df9['recency_days'] = df9['recency_days'].astype(int)\n",
    "df9['product_variety'] = df9['product_variety'].astype(int)\n",
    "df9['returns'] = df9['returns'].astype(int)\n",
    "\n",
    "df9.head()"
   ]
  },
  {
   "cell_type": "code",
   "execution_count": 44,
   "id": "7f5d7f79",
   "metadata": {
    "execution": {
     "iopub.execute_input": "2022-01-13T00:37:17.153402Z",
     "iopub.status.busy": "2022-01-13T00:37:17.147408Z",
     "iopub.status.idle": "2022-01-13T00:37:17.265662Z",
     "shell.execute_reply": "2022-01-13T00:37:17.265662Z"
    },
    "papermill": {
     "duration": 0.230187,
     "end_time": "2022-01-13T00:37:17.266661",
     "exception": false,
     "start_time": "2022-01-13T00:37:17.036474",
     "status": "completed"
    },
    "scrolled": true,
    "tags": []
   },
   "outputs": [
    {
     "data": {
      "text/html": [
       "<div>\n",
       "<style scoped>\n",
       "    .dataframe tbody tr th:only-of-type {\n",
       "        vertical-align: middle;\n",
       "    }\n",
       "\n",
       "    .dataframe tbody tr th {\n",
       "        vertical-align: top;\n",
       "    }\n",
       "\n",
       "    .dataframe thead th {\n",
       "        text-align: right;\n",
       "    }\n",
       "</style>\n",
       "<table border=\"1\" class=\"dataframe\">\n",
       "  <thead>\n",
       "    <tr style=\"text-align: right;\">\n",
       "      <th></th>\n",
       "      <th>cluster</th>\n",
       "      <th>customer_id</th>\n",
       "      <th>perc_customer</th>\n",
       "      <th>gross_revenue</th>\n",
       "      <th>recency_days</th>\n",
       "      <th>product_variety</th>\n",
       "      <th>frequency</th>\n",
       "      <th>returns</th>\n",
       "    </tr>\n",
       "  </thead>\n",
       "  <tbody>\n",
       "    <tr>\n",
       "      <th>1</th>\n",
       "      <td>1</td>\n",
       "      <td>622</td>\n",
       "      <td>10.946850</td>\n",
       "      <td>7045.288939</td>\n",
       "      <td>67.276527</td>\n",
       "      <td>208.196141</td>\n",
       "      <td>0.255821</td>\n",
       "      <td>118.389068</td>\n",
       "    </tr>\n",
       "    <tr>\n",
       "      <th>5</th>\n",
       "      <td>5</td>\n",
       "      <td>776</td>\n",
       "      <td>13.657163</td>\n",
       "      <td>2458.197706</td>\n",
       "      <td>122.063144</td>\n",
       "      <td>150.672680</td>\n",
       "      <td>0.560110</td>\n",
       "      <td>8.587629</td>\n",
       "    </tr>\n",
       "    <tr>\n",
       "      <th>7</th>\n",
       "      <td>7</td>\n",
       "      <td>446</td>\n",
       "      <td>7.849349</td>\n",
       "      <td>2068.398834</td>\n",
       "      <td>91.607623</td>\n",
       "      <td>115.156951</td>\n",
       "      <td>0.380825</td>\n",
       "      <td>11.511211</td>\n",
       "    </tr>\n",
       "    <tr>\n",
       "      <th>2</th>\n",
       "      <td>2</td>\n",
       "      <td>687</td>\n",
       "      <td>12.090813</td>\n",
       "      <td>1646.220568</td>\n",
       "      <td>62.493450</td>\n",
       "      <td>39.042213</td>\n",
       "      <td>0.071745</td>\n",
       "      <td>16.248908</td>\n",
       "    </tr>\n",
       "    <tr>\n",
       "      <th>4</th>\n",
       "      <td>4</td>\n",
       "      <td>1016</td>\n",
       "      <td>17.881028</td>\n",
       "      <td>765.004872</td>\n",
       "      <td>88.320866</td>\n",
       "      <td>23.921260</td>\n",
       "      <td>0.152151</td>\n",
       "      <td>1.621063</td>\n",
       "    </tr>\n",
       "    <tr>\n",
       "      <th>3</th>\n",
       "      <td>3</td>\n",
       "      <td>721</td>\n",
       "      <td>12.689194</td>\n",
       "      <td>753.139778</td>\n",
       "      <td>150.493759</td>\n",
       "      <td>43.177531</td>\n",
       "      <td>0.959256</td>\n",
       "      <td>1.199723</td>\n",
       "    </tr>\n",
       "    <tr>\n",
       "      <th>6</th>\n",
       "      <td>6</td>\n",
       "      <td>707</td>\n",
       "      <td>12.442802</td>\n",
       "      <td>262.280651</td>\n",
       "      <td>174.316832</td>\n",
       "      <td>14.172560</td>\n",
       "      <td>0.953059</td>\n",
       "      <td>0.575672</td>\n",
       "    </tr>\n",
       "    <tr>\n",
       "      <th>0</th>\n",
       "      <td>0</td>\n",
       "      <td>707</td>\n",
       "      <td>12.442802</td>\n",
       "      <td>240.569675</td>\n",
       "      <td>173.328147</td>\n",
       "      <td>9.237624</td>\n",
       "      <td>0.909091</td>\n",
       "      <td>0.499293</td>\n",
       "    </tr>\n",
       "  </tbody>\n",
       "</table>\n",
       "</div>"
      ],
      "text/plain": [
       "   cluster  customer_id  perc_customer  gross_revenue  recency_days  \\\n",
       "1        1          622      10.946850    7045.288939     67.276527   \n",
       "5        5          776      13.657163    2458.197706    122.063144   \n",
       "7        7          446       7.849349    2068.398834     91.607623   \n",
       "2        2          687      12.090813    1646.220568     62.493450   \n",
       "4        4         1016      17.881028     765.004872     88.320866   \n",
       "3        3          721      12.689194     753.139778    150.493759   \n",
       "6        6          707      12.442802     262.280651    174.316832   \n",
       "0        0          707      12.442802     240.569675    173.328147   \n",
       "\n",
       "   product_variety  frequency     returns  \n",
       "1       208.196141   0.255821  118.389068  \n",
       "5       150.672680   0.560110    8.587629  \n",
       "7       115.156951   0.380825   11.511211  \n",
       "2        39.042213   0.071745   16.248908  \n",
       "4        23.921260   0.152151    1.621063  \n",
       "3        43.177531   0.959256    1.199723  \n",
       "6        14.172560   0.953059    0.575672  \n",
       "0         9.237624   0.909091    0.499293  "
      ]
     },
     "execution_count": 44,
     "metadata": {},
     "output_type": "execute_result"
    }
   ],
   "source": [
    "# Number of customers\n",
    "df_cluster = df9[['customer_id', 'cluster']].groupby( 'cluster' ).count().reset_index()\n",
    "df_cluster['perc_customer'] = 100*( df_cluster['customer_id'] / df_cluster['customer_id'].sum() )\n",
    "\n",
    "# Average Gross Revenue\n",
    "df_avg_gross_rev = df9[['gross_revenue','cluster']].groupby('cluster').mean().reset_index()\n",
    "df_cluster = pd.merge(df_cluster, df_avg_gross_rev, how='inner',on='cluster')\n",
    "\n",
    "# Average Recency Days\n",
    "df_avg_rec_days = df9[['recency_days','cluster']].groupby('cluster').mean().reset_index()\n",
    "df_cluster = pd.merge(df_cluster, df_avg_rec_days, how='inner',on='cluster')\n",
    "\n",
    "\n",
    "# Average Product Variety\n",
    "df_avg_pv = df9[['product_variety','cluster']].groupby('cluster').mean().reset_index()\n",
    "df_cluster = pd.merge(df_cluster, df_avg_pv, how='inner',on='cluster')\n",
    "\n",
    "# Average frequency\n",
    "df_freq = df9[['frequency','cluster']].groupby('cluster').mean().reset_index()\n",
    "df_cluster = pd.merge(df_cluster, df_freq, how='inner',on='cluster')\n",
    "\n",
    "# Average Returns\n",
    "df_cg = df9[['returns','cluster']].groupby('cluster').mean().reset_index()\n",
    "df_cluster = pd.merge(df_cluster, df_cg, how='inner',on='cluster')\n",
    "\n",
    "# Assign cluster Insiders number\n",
    "insiders = df_cluster.sort_values(by='gross_revenue', ascending=False).cluster.to_list()[0]\n",
    "\n",
    "# Clusters sorted by gross revenue\n",
    "df_cluster.sort_values(by='gross_revenue', ascending=False)"
   ]
  },
  {
   "cell_type": "markdown",
   "id": "24a6b70e",
   "metadata": {
    "papermill": {
     "duration": 0.09494,
     "end_time": "2022-01-13T00:37:17.455546",
     "exception": false,
     "start_time": "2022-01-13T00:37:17.360606",
     "status": "completed"
    },
    "tags": []
   },
   "source": [
    "**Cluster Names Ideas:**\n",
    "* 1 Cluster Insiders\n",
    "* 5 Cluster More Products\n",
    "* 7 Cluster Spend Money \n",
    "* 2 Cluster Even More Products\n",
    "* 4 Cluster Less Days\n",
    "* 3 Cluster Less 1k\n",
    "* 6 Cluster Stop Returners\n",
    "* 0 Cluster More Purchases"
   ]
  },
  {
   "cell_type": "markdown",
   "id": "575916cf",
   "metadata": {
    "papermill": {
     "duration": 0.110937,
     "end_time": "2022-01-13T00:37:17.683411",
     "exception": false,
     "start_time": "2022-01-13T00:37:17.572474",
     "status": "completed"
    },
    "tags": []
   },
   "source": [
    "# 8.0 Deploy"
   ]
  },
  {
   "cell_type": "markdown",
   "id": "163786d5",
   "metadata": {
    "papermill": {
     "duration": 0.127922,
     "end_time": "2022-01-13T00:37:17.913265",
     "exception": false,
     "start_time": "2022-01-13T00:37:17.785343",
     "status": "completed"
    },
    "tags": []
   },
   "source": [
    "## 8.1 Insert into SQLite"
   ]
  },
  {
   "cell_type": "markdown",
   "id": "0b4f0ff8",
   "metadata": {
    "tags": [
     "papermill-error-cell-tag"
    ]
   },
   "source": [
    "<span id=\"papermill-error-cell\" style=\"color:red; font-family:Helvetica Neue, Helvetica, Arial, sans-serif; font-size:2em;\">Execution using papermill encountered an exception here and stopped:</span>"
   ]
  },
  {
   "cell_type": "code",
   "execution_count": 45,
   "id": "23fd09e4",
   "metadata": {
    "execution": {
     "iopub.execute_input": "2022-01-13T00:37:18.123136Z",
     "iopub.status.busy": "2022-01-13T00:37:18.122134Z",
     "iopub.status.idle": "2022-01-13T00:37:21.104523Z",
     "shell.execute_reply": "2022-01-13T00:37:21.101526Z"
    },
    "papermill": {
     "duration": 3.092322,
     "end_time": "2022-01-13T00:37:21.104523",
     "exception": true,
     "start_time": "2022-01-13T00:37:18.012201",
     "status": "failed"
    },
    "tags": []
   },
   "outputs": [
    {
     "ename": "AttributeError",
     "evalue": "'Engine' object has no attribute 'close'",
     "output_type": "error",
     "traceback": [
      "\u001b[1;31m---------------------------------------------------------------------------\u001b[0m",
      "\u001b[1;31mAttributeError\u001b[0m                            Traceback (most recent call last)",
      "\u001b[1;32m<ipython-input-45-a0938cdd6790>\u001b[0m in \u001b[0;36m<module>\u001b[1;34m\u001b[0m\n\u001b[0;32m     42\u001b[0m \u001b[1;33m\u001b[0m\u001b[0m\n\u001b[0;32m     43\u001b[0m \u001b[1;31m#conn.commit()\u001b[0m\u001b[1;33m\u001b[0m\u001b[1;33m\u001b[0m\u001b[1;33m\u001b[0m\u001b[0m\n\u001b[1;32m---> 44\u001b[1;33m \u001b[0mconn\u001b[0m\u001b[1;33m.\u001b[0m\u001b[0mclose\u001b[0m\u001b[1;33m(\u001b[0m\u001b[1;33m)\u001b[0m\u001b[1;33m\u001b[0m\u001b[1;33m\u001b[0m\u001b[0m\n\u001b[0m\u001b[0;32m     45\u001b[0m \u001b[1;33m\u001b[0m\u001b[0m\n\u001b[0;32m     46\u001b[0m \u001b[1;31m# Check database table\u001b[0m\u001b[1;33m\u001b[0m\u001b[1;33m\u001b[0m\u001b[1;33m\u001b[0m\u001b[0m\n",
      "\u001b[1;31mAttributeError\u001b[0m: 'Engine' object has no attribute 'close'"
     ]
    }
   ],
   "source": [
    "from sqlalchemy import create_engine\n",
    "\n",
    "# Drop Last Table\n",
    "query_drop_table = \"\"\"\n",
    "    DROP TABLE insiders\n",
    "\"\"\"\n",
    "\n",
    "conn = sqlite3.connect(path + 'src\\\\data\\\\insiders_db.sqlite')\n",
    "conn.execute(query_drop_table)\n",
    "conn.commit()\n",
    "\n",
    "# Create table\n",
    "\n",
    "query_create_table_insiders = \"\"\"\n",
    "    CREATE TABLE insiders (\n",
    "        customer_id     INTEGER,\n",
    "        gross_revenue   REAL,\n",
    "        recency_days    INTERGER,\n",
    "        product_variety INTERGER,\n",
    "        frequency       REAL,\n",
    "        returns         INTEGER,\n",
    "        cluster         INTEGER\n",
    "    \n",
    "    )\n",
    "\n",
    "\"\"\"\n",
    "\n",
    "conn.execute( query_create_table_insiders )\n",
    "conn.commit()\n",
    "\n",
    "# Insert data\n",
    "conn = create_engine( 'sqlite:///insiders_db.sqlite')\n",
    "df9.to_sql('insiders', con=conn, if_exists= 'append', index= False) #Index = False\n",
    "\n",
    "\n",
    "# Select data\n",
    "query = '''\n",
    "    SELECT * FROM insiders\n",
    "\n",
    "'''\n",
    "df_query = pd.read_sql_query(query, con=conn)\n",
    "\n",
    "#conn.commit()\n",
    "conn.close()\n",
    "\n",
    "# Check database table\n",
    "print(df_query.shape)\n",
    "df_query.head()"
   ]
  }
 ],
 "metadata": {
  "kernelspec": {
   "display_name": "Python 3",
   "language": "python",
   "name": "python3"
  },
  "language_info": {
   "codemirror_mode": {
    "name": "ipython",
    "version": 3
   },
   "file_extension": ".py",
   "mimetype": "text/x-python",
   "name": "python",
   "nbconvert_exporter": "python",
   "pygments_lexer": "ipython3",
   "version": "3.7.6"
  },
  "papermill": {
   "default_parameters": {},
   "duration": 134.138255,
   "end_time": "2022-01-13T00:37:23.948414",
   "environment_variables": {},
   "exception": true,
   "input_path": "src\\models\\c13.0-vzz-deploy-src.ipynb",
   "output_path": "reports\\c13.0-vzz-deploy-src_12_01_2022.ipynb",
   "parameters": {},
   "start_time": "2022-01-13T00:35:09.810159",
   "version": "2.3.3"
  }
 },
 "nbformat": 4,
 "nbformat_minor": 5
}