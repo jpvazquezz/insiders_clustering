{
 "cells": [
  {
   "cell_type": "markdown",
   "id": "03b2eb9f",
   "metadata": {
    "hide_input": true,
    "papermill": {
     "duration": 0.066957,
     "end_time": "2022-01-27T19:13:11.161305",
     "exception": false,
     "start_time": "2022-01-27T19:13:11.094348",
     "status": "completed"
    },
    "tags": []
   },
   "source": [
    "# 0.0 Imports"
   ]
  },
  {
   "cell_type": "code",
   "execution_count": 1,
   "id": "33937e63",
   "metadata": {
    "execution": {
     "iopub.execute_input": "2022-01-27T19:13:11.314210Z",
     "iopub.status.busy": "2022-01-27T19:13:11.313210Z",
     "iopub.status.idle": "2022-01-27T19:13:40.133950Z",
     "shell.execute_reply": "2022-01-27T19:13:40.133950Z"
    },
    "hide_input": false,
    "papermill": {
     "duration": 28.89969,
     "end_time": "2022-01-27T19:13:40.134949",
     "exception": false,
     "start_time": "2022-01-27T19:13:11.235259",
     "status": "completed"
    },
    "tags": []
   },
   "outputs": [],
   "source": [
    "import numpy as np\n",
    "import pandas as pd\n",
    "import seaborn as sns\n",
    "import matplotlib.pyplot as plt\n",
    "import inflection\n",
    "import datetime as dt\n",
    "import re\n",
    "\n",
    "\n",
    "from sklearn import ensemble as en\n",
    "from sklearn import cluster as c\n",
    "from sklearn import mixture as mx\n",
    "from scipy.cluster import hierarchy as hc \n",
    "\n",
    "from sklearn.metrics import calinski_harabasz_score,davies_bouldin_score\n",
    "from sklearn import preprocessing as pp\n",
    "from sklearn import metrics as m\n",
    "from sklearn.decomposition import PCA\n",
    "from sklearn.manifold import TSNE\n",
    "from sklearn.neighbors import NearestNeighbors\n",
    "import umap.umap_ as umap\n",
    "\n",
    "import sqlite3\n",
    "from sqlalchemy import create_engine\n",
    "from plotly import express as px\n",
    "\n",
    "from IPython.display import Image\n",
    "import warnings\n",
    "warnings.filterwarnings('ignore')"
   ]
  },
  {
   "cell_type": "markdown",
   "id": "0ef7a075",
   "metadata": {
    "papermill": {
     "duration": 0.067963,
     "end_time": "2022-01-27T19:13:40.270572",
     "exception": false,
     "start_time": "2022-01-27T19:13:40.202609",
     "status": "completed"
    },
    "tags": []
   },
   "source": [
    "## 0.1 Loading Data"
   ]
  },
  {
   "cell_type": "code",
   "execution_count": 2,
   "id": "448d6367",
   "metadata": {
    "execution": {
     "iopub.execute_input": "2022-01-27T19:13:40.420484Z",
     "iopub.status.busy": "2022-01-27T19:13:40.419484Z",
     "iopub.status.idle": "2022-01-27T19:13:41.513808Z",
     "shell.execute_reply": "2022-01-27T19:13:41.513808Z"
    },
    "papermill": {
     "duration": 1.176274,
     "end_time": "2022-01-27T19:13:41.514807",
     "exception": false,
     "start_time": "2022-01-27T19:13:40.338533",
     "status": "completed"
    },
    "tags": []
   },
   "outputs": [],
   "source": [
    "df = pd.read_csv('data\\\\raw\\\\Ecommerce.csv',encoding= 'unicode_escape')\n",
    "df.drop('Unnamed: 8', axis=1,inplace=True)"
   ]
  },
  {
   "cell_type": "markdown",
   "id": "d6947f31",
   "metadata": {
    "heading_collapsed": true,
    "papermill": {
     "duration": 0.067961,
     "end_time": "2022-01-27T19:13:41.647727",
     "exception": false,
     "start_time": "2022-01-27T19:13:41.579766",
     "status": "completed"
    },
    "tags": []
   },
   "source": [
    "# 1.0 Data Description"
   ]
  },
  {
   "cell_type": "code",
   "execution_count": 3,
   "id": "e887f584",
   "metadata": {
    "execution": {
     "iopub.execute_input": "2022-01-27T19:13:41.816483Z",
     "iopub.status.busy": "2022-01-27T19:13:41.814483Z",
     "iopub.status.idle": "2022-01-27T19:13:41.832706Z",
     "shell.execute_reply": "2022-01-27T19:13:41.833705Z"
    },
    "hidden": true,
    "papermill": {
     "duration": 0.112171,
     "end_time": "2022-01-27T19:13:41.833705",
     "exception": false,
     "start_time": "2022-01-27T19:13:41.721534",
     "status": "completed"
    },
    "tags": []
   },
   "outputs": [],
   "source": [
    "df1 = df.copy()"
   ]
  },
  {
   "cell_type": "markdown",
   "id": "30f315b8",
   "metadata": {
    "hidden": true,
    "papermill": {
     "duration": 0.06896,
     "end_time": "2022-01-27T19:13:41.976616",
     "exception": false,
     "start_time": "2022-01-27T19:13:41.907656",
     "status": "completed"
    },
    "tags": []
   },
   "source": [
    "* Invoice Number: identificador único de cada transação.\n",
    "* Stock Code Product: código do item.\n",
    "* Description Product: nome do item\n",
    "* Quantity: A quantidade de cada item comprado por transação.\n",
    "* Invoice Date: O dia em que a transação ocorreu\n",
    "* Unit Price: Preço do produto por unidade\n",
    "* Customer ID: identificador único do cliente\n",
    "* Country: O nome do país que o cliente reside"
   ]
  },
  {
   "cell_type": "code",
   "execution_count": 4,
   "id": "aa7a8ce2",
   "metadata": {
    "execution": {
     "iopub.execute_input": "2022-01-27T19:13:42.153506Z",
     "iopub.status.busy": "2022-01-27T19:13:42.152509Z",
     "iopub.status.idle": "2022-01-27T19:13:42.179662Z",
     "shell.execute_reply": "2022-01-27T19:13:42.179662Z"
    },
    "hidden": true,
    "papermill": {
     "duration": 0.132091,
     "end_time": "2022-01-27T19:13:42.179662",
     "exception": false,
     "start_time": "2022-01-27T19:13:42.047571",
     "status": "completed"
    },
    "scrolled": true,
    "tags": []
   },
   "outputs": [
    {
     "data": {
      "text/html": [
       "<div>\n",
       "<style scoped>\n",
       "    .dataframe tbody tr th:only-of-type {\n",
       "        vertical-align: middle;\n",
       "    }\n",
       "\n",
       "    .dataframe tbody tr th {\n",
       "        vertical-align: top;\n",
       "    }\n",
       "\n",
       "    .dataframe thead th {\n",
       "        text-align: right;\n",
       "    }\n",
       "</style>\n",
       "<table border=\"1\" class=\"dataframe\">\n",
       "  <thead>\n",
       "    <tr style=\"text-align: right;\">\n",
       "      <th></th>\n",
       "      <th>InvoiceNo</th>\n",
       "      <th>StockCode</th>\n",
       "      <th>Description</th>\n",
       "      <th>Quantity</th>\n",
       "      <th>InvoiceDate</th>\n",
       "      <th>UnitPrice</th>\n",
       "      <th>CustomerID</th>\n",
       "      <th>Country</th>\n",
       "    </tr>\n",
       "  </thead>\n",
       "  <tbody>\n",
       "    <tr>\n",
       "      <th>0</th>\n",
       "      <td>536365</td>\n",
       "      <td>85123A</td>\n",
       "      <td>WHITE HANGING HEART T-LIGHT HOLDER</td>\n",
       "      <td>6</td>\n",
       "      <td>29-Nov-16</td>\n",
       "      <td>2.55</td>\n",
       "      <td>17850.0</td>\n",
       "      <td>United Kingdom</td>\n",
       "    </tr>\n",
       "    <tr>\n",
       "      <th>1</th>\n",
       "      <td>536365</td>\n",
       "      <td>71053</td>\n",
       "      <td>WHITE METAL LANTERN</td>\n",
       "      <td>6</td>\n",
       "      <td>29-Nov-16</td>\n",
       "      <td>3.39</td>\n",
       "      <td>17850.0</td>\n",
       "      <td>United Kingdom</td>\n",
       "    </tr>\n",
       "    <tr>\n",
       "      <th>2</th>\n",
       "      <td>536365</td>\n",
       "      <td>84406B</td>\n",
       "      <td>CREAM CUPID HEARTS COAT HANGER</td>\n",
       "      <td>8</td>\n",
       "      <td>29-Nov-16</td>\n",
       "      <td>2.75</td>\n",
       "      <td>17850.0</td>\n",
       "      <td>United Kingdom</td>\n",
       "    </tr>\n",
       "    <tr>\n",
       "      <th>3</th>\n",
       "      <td>536365</td>\n",
       "      <td>84029G</td>\n",
       "      <td>KNITTED UNION FLAG HOT WATER BOTTLE</td>\n",
       "      <td>6</td>\n",
       "      <td>29-Nov-16</td>\n",
       "      <td>3.39</td>\n",
       "      <td>17850.0</td>\n",
       "      <td>United Kingdom</td>\n",
       "    </tr>\n",
       "    <tr>\n",
       "      <th>4</th>\n",
       "      <td>536365</td>\n",
       "      <td>84029E</td>\n",
       "      <td>RED WOOLLY HOTTIE WHITE HEART.</td>\n",
       "      <td>6</td>\n",
       "      <td>29-Nov-16</td>\n",
       "      <td>3.39</td>\n",
       "      <td>17850.0</td>\n",
       "      <td>United Kingdom</td>\n",
       "    </tr>\n",
       "  </tbody>\n",
       "</table>\n",
       "</div>"
      ],
      "text/plain": [
       "  InvoiceNo StockCode                          Description  Quantity  \\\n",
       "0    536365    85123A   WHITE HANGING HEART T-LIGHT HOLDER         6   \n",
       "1    536365     71053                  WHITE METAL LANTERN         6   \n",
       "2    536365    84406B       CREAM CUPID HEARTS COAT HANGER         8   \n",
       "3    536365    84029G  KNITTED UNION FLAG HOT WATER BOTTLE         6   \n",
       "4    536365    84029E       RED WOOLLY HOTTIE WHITE HEART.         6   \n",
       "\n",
       "  InvoiceDate  UnitPrice  CustomerID         Country  \n",
       "0   29-Nov-16       2.55     17850.0  United Kingdom  \n",
       "1   29-Nov-16       3.39     17850.0  United Kingdom  \n",
       "2   29-Nov-16       2.75     17850.0  United Kingdom  \n",
       "3   29-Nov-16       3.39     17850.0  United Kingdom  \n",
       "4   29-Nov-16       3.39     17850.0  United Kingdom  "
      ]
     },
     "execution_count": 4,
     "metadata": {},
     "output_type": "execute_result"
    }
   ],
   "source": [
    "df1.head()"
   ]
  },
  {
   "cell_type": "markdown",
   "id": "c9b3f90f",
   "metadata": {
    "hidden": true,
    "papermill": {
     "duration": 0.067956,
     "end_time": "2022-01-27T19:13:42.322572",
     "exception": false,
     "start_time": "2022-01-27T19:13:42.254616",
     "status": "completed"
    },
    "tags": []
   },
   "source": [
    "## 1.1 Rename columns"
   ]
  },
  {
   "cell_type": "code",
   "execution_count": 5,
   "id": "0310ad85",
   "metadata": {
    "execution": {
     "iopub.execute_input": "2022-01-27T19:13:42.468582Z",
     "iopub.status.busy": "2022-01-27T19:13:42.468582Z",
     "iopub.status.idle": "2022-01-27T19:13:42.482895Z",
     "shell.execute_reply": "2022-01-27T19:13:42.482895Z"
    },
    "hidden": true,
    "papermill": {
     "duration": 0.09527,
     "end_time": "2022-01-27T19:13:42.482895",
     "exception": false,
     "start_time": "2022-01-27T19:13:42.387625",
     "status": "completed"
    },
    "tags": []
   },
   "outputs": [],
   "source": [
    "old_cols = df1.columns.tolist()\n",
    "\n",
    "snakecase = lambda x: inflection.underscore(x)\n",
    "\n",
    "new_cols = list(map(snakecase, old_cols))\n",
    "\n",
    "# Rename columns\n",
    "df1.columns = new_cols"
   ]
  },
  {
   "cell_type": "markdown",
   "id": "ebfb4c0d",
   "metadata": {
    "hidden": true,
    "papermill": {
     "duration": 0.070956,
     "end_time": "2022-01-27T19:13:42.625805",
     "exception": false,
     "start_time": "2022-01-27T19:13:42.554849",
     "status": "completed"
    },
    "tags": []
   },
   "source": [
    "## 1.2 Data Dimension"
   ]
  },
  {
   "cell_type": "code",
   "execution_count": 6,
   "id": "23039ef9",
   "metadata": {
    "execution": {
     "iopub.execute_input": "2022-01-27T19:13:42.800700Z",
     "iopub.status.busy": "2022-01-27T19:13:42.799699Z",
     "iopub.status.idle": "2022-01-27T19:13:42.814689Z",
     "shell.execute_reply": "2022-01-27T19:13:42.814689Z"
    },
    "hidden": true,
    "papermill": {
     "duration": 0.115925,
     "end_time": "2022-01-27T19:13:42.815688",
     "exception": false,
     "start_time": "2022-01-27T19:13:42.699763",
     "status": "completed"
    },
    "tags": []
   },
   "outputs": [
    {
     "name": "stdout",
     "output_type": "stream",
     "text": [
      "Number of row: 541909\n",
      "Number of columns: 8\n"
     ]
    }
   ],
   "source": [
    "print('Number of row: {}'.format(df1.shape[0]))\n",
    "print('Number of columns: {}'.format(df1.shape[1]))"
   ]
  },
  {
   "cell_type": "markdown",
   "id": "c4b2da4e",
   "metadata": {
    "hidden": true,
    "papermill": {
     "duration": 0.069957,
     "end_time": "2022-01-27T19:13:42.959602",
     "exception": false,
     "start_time": "2022-01-27T19:13:42.889645",
     "status": "completed"
    },
    "tags": []
   },
   "source": [
    "## 1.3 Data Types"
   ]
  },
  {
   "cell_type": "code",
   "execution_count": 7,
   "id": "73965b97",
   "metadata": {
    "execution": {
     "iopub.execute_input": "2022-01-27T19:13:43.109510Z",
     "iopub.status.busy": "2022-01-27T19:13:43.108508Z",
     "iopub.status.idle": "2022-01-27T19:13:43.124748Z",
     "shell.execute_reply": "2022-01-27T19:13:43.124748Z"
    },
    "hidden": true,
    "papermill": {
     "duration": 0.098186,
     "end_time": "2022-01-27T19:13:43.125747",
     "exception": false,
     "start_time": "2022-01-27T19:13:43.027561",
     "status": "completed"
    },
    "scrolled": true,
    "tags": []
   },
   "outputs": [
    {
     "data": {
      "text/plain": [
       "invoice_no       object\n",
       "stock_code       object\n",
       "description      object\n",
       "quantity          int64\n",
       "invoice_date     object\n",
       "unit_price      float64\n",
       "customer_id     float64\n",
       "country          object\n",
       "dtype: object"
      ]
     },
     "execution_count": 7,
     "metadata": {},
     "output_type": "execute_result"
    }
   ],
   "source": [
    "df1.dtypes"
   ]
  },
  {
   "cell_type": "markdown",
   "id": "45d8ac96",
   "metadata": {
    "hidden": true,
    "papermill": {
     "duration": 0.071961,
     "end_time": "2022-01-27T19:13:43.266020",
     "exception": false,
     "start_time": "2022-01-27T19:13:43.194059",
     "status": "completed"
    },
    "tags": []
   },
   "source": [
    "## 1.4 Check NAs"
   ]
  },
  {
   "cell_type": "code",
   "execution_count": 8,
   "id": "c4df09be",
   "metadata": {
    "execution": {
     "iopub.execute_input": "2022-01-27T19:13:43.552390Z",
     "iopub.status.busy": "2022-01-27T19:13:43.550389Z",
     "iopub.status.idle": "2022-01-27T19:13:43.725420Z",
     "shell.execute_reply": "2022-01-27T19:13:43.724420Z"
    },
    "hidden": true,
    "papermill": {
     "duration": 0.389444,
     "end_time": "2022-01-27T19:13:43.725420",
     "exception": false,
     "start_time": "2022-01-27T19:13:43.335976",
     "status": "completed"
    },
    "tags": []
   },
   "outputs": [
    {
     "data": {
      "text/plain": [
       "description      1454\n",
       "customer_id    135080\n",
       "dtype: int64"
      ]
     },
     "execution_count": 8,
     "metadata": {},
     "output_type": "execute_result"
    }
   ],
   "source": [
    "df1.isna().sum()[df1.isna().sum()>0]"
   ]
  },
  {
   "cell_type": "markdown",
   "id": "082e5b10",
   "metadata": {
    "hidden": true,
    "papermill": {
     "duration": 0.071956,
     "end_time": "2022-01-27T19:13:43.873326",
     "exception": false,
     "start_time": "2022-01-27T19:13:43.801370",
     "status": "completed"
    },
    "tags": []
   },
   "source": [
    "## 1.5 Replace NAs"
   ]
  },
  {
   "cell_type": "code",
   "execution_count": 9,
   "id": "8e2a93a5",
   "metadata": {
    "execution": {
     "iopub.execute_input": "2022-01-27T19:13:44.031232Z",
     "iopub.status.busy": "2022-01-27T19:13:44.030233Z",
     "iopub.status.idle": "2022-01-27T19:13:44.103185Z",
     "shell.execute_reply": "2022-01-27T19:13:44.104184Z"
    },
    "hidden": true,
    "papermill": {
     "duration": 0.157903,
     "end_time": "2022-01-27T19:13:44.104184",
     "exception": false,
     "start_time": "2022-01-27T19:13:43.946281",
     "status": "completed"
    },
    "tags": []
   },
   "outputs": [],
   "source": [
    "# Separate dataframe with NAs\n",
    "df_missing = df1.loc[df1.customer_id.isna()]\n",
    "df_full = df1.loc[~df1.customer_id.isna()]"
   ]
  },
  {
   "cell_type": "code",
   "execution_count": 10,
   "id": "023e6f81",
   "metadata": {
    "execution": {
     "iopub.execute_input": "2022-01-27T19:13:44.283271Z",
     "iopub.status.busy": "2022-01-27T19:13:44.282272Z",
     "iopub.status.idle": "2022-01-27T19:13:44.292333Z",
     "shell.execute_reply": "2022-01-27T19:13:44.293332Z"
    },
    "hidden": true,
    "papermill": {
     "duration": 0.111006,
     "end_time": "2022-01-27T19:13:44.293332",
     "exception": false,
     "start_time": "2022-01-27T19:13:44.182326",
     "status": "completed"
    },
    "tags": []
   },
   "outputs": [
    {
     "name": "stdout",
     "output_type": "stream",
     "text": [
      "0\n"
     ]
    }
   ],
   "source": [
    "# Checking if any invoice_no in df_missing is present in df_full so we could add the respective customer_id\n",
    "print(df_full.invoice_no.isin(df_missing.invoice_no.drop_duplicates()).sum())"
   ]
  },
  {
   "cell_type": "code",
   "execution_count": 11,
   "id": "7870e308",
   "metadata": {
    "execution": {
     "iopub.execute_input": "2022-01-27T19:13:44.448559Z",
     "iopub.status.busy": "2022-01-27T19:13:44.447560Z",
     "iopub.status.idle": "2022-01-27T19:13:44.466124Z",
     "shell.execute_reply": "2022-01-27T19:13:44.465122Z"
    },
    "hidden": true,
    "papermill": {
     "duration": 0.095522,
     "end_time": "2022-01-27T19:13:44.466124",
     "exception": false,
     "start_time": "2022-01-27T19:13:44.370602",
     "status": "completed"
    },
    "tags": []
   },
   "outputs": [
    {
     "data": {
      "text/plain": [
       "3710"
      ]
     },
     "execution_count": 11,
     "metadata": {},
     "output_type": "execute_result"
    }
   ],
   "source": [
    "# Check the number of unique invoices\n",
    "df_missing.invoice_no.nunique()"
   ]
  },
  {
   "cell_type": "code",
   "execution_count": 12,
   "id": "62f848c2",
   "metadata": {
    "execution": {
     "iopub.execute_input": "2022-01-27T19:13:44.666744Z",
     "iopub.status.busy": "2022-01-27T19:13:44.665744Z",
     "iopub.status.idle": "2022-01-27T19:13:45.079236Z",
     "shell.execute_reply": "2022-01-27T19:13:45.078236Z"
    },
    "hidden": true,
    "papermill": {
     "duration": 0.542424,
     "end_time": "2022-01-27T19:13:45.079236",
     "exception": false,
     "start_time": "2022-01-27T19:13:44.536812",
     "status": "completed"
    },
    "scrolled": true,
    "tags": []
   },
   "outputs": [
    {
     "data": {
      "text/html": [
       "<div>\n",
       "<style scoped>\n",
       "    .dataframe tbody tr th:only-of-type {\n",
       "        vertical-align: middle;\n",
       "    }\n",
       "\n",
       "    .dataframe tbody tr th {\n",
       "        vertical-align: top;\n",
       "    }\n",
       "\n",
       "    .dataframe thead th {\n",
       "        text-align: right;\n",
       "    }\n",
       "</style>\n",
       "<table border=\"1\" class=\"dataframe\">\n",
       "  <thead>\n",
       "    <tr style=\"text-align: right;\">\n",
       "      <th></th>\n",
       "      <th>invoice_no</th>\n",
       "      <th>stock_code</th>\n",
       "      <th>description</th>\n",
       "      <th>quantity</th>\n",
       "      <th>invoice_date</th>\n",
       "      <th>unit_price</th>\n",
       "      <th>country</th>\n",
       "      <th>customer_id</th>\n",
       "    </tr>\n",
       "  </thead>\n",
       "  <tbody>\n",
       "    <tr>\n",
       "      <th>0</th>\n",
       "      <td>536365</td>\n",
       "      <td>85123A</td>\n",
       "      <td>WHITE HANGING HEART T-LIGHT HOLDER</td>\n",
       "      <td>6</td>\n",
       "      <td>29-Nov-16</td>\n",
       "      <td>2.55</td>\n",
       "      <td>United Kingdom</td>\n",
       "      <td>17850.0</td>\n",
       "    </tr>\n",
       "    <tr>\n",
       "      <th>1</th>\n",
       "      <td>536365</td>\n",
       "      <td>71053</td>\n",
       "      <td>WHITE METAL LANTERN</td>\n",
       "      <td>6</td>\n",
       "      <td>29-Nov-16</td>\n",
       "      <td>3.39</td>\n",
       "      <td>United Kingdom</td>\n",
       "      <td>17850.0</td>\n",
       "    </tr>\n",
       "    <tr>\n",
       "      <th>2</th>\n",
       "      <td>536365</td>\n",
       "      <td>84406B</td>\n",
       "      <td>CREAM CUPID HEARTS COAT HANGER</td>\n",
       "      <td>8</td>\n",
       "      <td>29-Nov-16</td>\n",
       "      <td>2.75</td>\n",
       "      <td>United Kingdom</td>\n",
       "      <td>17850.0</td>\n",
       "    </tr>\n",
       "    <tr>\n",
       "      <th>3</th>\n",
       "      <td>536365</td>\n",
       "      <td>84029G</td>\n",
       "      <td>KNITTED UNION FLAG HOT WATER BOTTLE</td>\n",
       "      <td>6</td>\n",
       "      <td>29-Nov-16</td>\n",
       "      <td>3.39</td>\n",
       "      <td>United Kingdom</td>\n",
       "      <td>17850.0</td>\n",
       "    </tr>\n",
       "    <tr>\n",
       "      <th>4</th>\n",
       "      <td>536365</td>\n",
       "      <td>84029E</td>\n",
       "      <td>RED WOOLLY HOTTIE WHITE HEART.</td>\n",
       "      <td>6</td>\n",
       "      <td>29-Nov-16</td>\n",
       "      <td>3.39</td>\n",
       "      <td>United Kingdom</td>\n",
       "      <td>17850.0</td>\n",
       "    </tr>\n",
       "  </tbody>\n",
       "</table>\n",
       "</div>"
      ],
      "text/plain": [
       "  invoice_no stock_code                          description  quantity  \\\n",
       "0     536365     85123A   WHITE HANGING HEART T-LIGHT HOLDER         6   \n",
       "1     536365      71053                  WHITE METAL LANTERN         6   \n",
       "2     536365     84406B       CREAM CUPID HEARTS COAT HANGER         8   \n",
       "3     536365     84029G  KNITTED UNION FLAG HOT WATER BOTTLE         6   \n",
       "4     536365     84029E       RED WOOLLY HOTTIE WHITE HEART.         6   \n",
       "\n",
       "  invoice_date  unit_price         country  customer_id  \n",
       "0    29-Nov-16        2.55  United Kingdom      17850.0  \n",
       "1    29-Nov-16        3.39  United Kingdom      17850.0  \n",
       "2    29-Nov-16        2.75  United Kingdom      17850.0  \n",
       "3    29-Nov-16        3.39  United Kingdom      17850.0  \n",
       "4    29-Nov-16        3.39  United Kingdom      17850.0  "
      ]
     },
     "execution_count": 12,
     "metadata": {},
     "output_type": "execute_result"
    }
   ],
   "source": [
    "# create customer_ids in a reference dataframe\n",
    "df_invoice = pd.DataFrame(df_missing['invoice_no'].drop_duplicates())\n",
    "df_invoice['customer_id'] = np.arange(19000,19000+len(df_invoice),1)\n",
    "\n",
    "# merge original dataframe with reference dataframe\n",
    "df1 = pd.merge(df1,df_invoice, on='invoice_no',how='left')\n",
    "\n",
    "# coalesce - fill the customer_id column with the column that doen not have NA.\n",
    "df1['customer_id'] = df1['customer_id_x'].combine_first(df1['customer_id_y'])\n",
    "\n",
    "# drop extra columns\n",
    "df1.drop(columns=['customer_id_x','customer_id_y'], axis=1,inplace=True)\n",
    "df1.head()"
   ]
  },
  {
   "cell_type": "markdown",
   "id": "50579a7d",
   "metadata": {
    "hidden": true,
    "papermill": {
     "duration": 0.073952,
     "end_time": "2022-01-27T19:13:45.228144",
     "exception": false,
     "start_time": "2022-01-27T19:13:45.154192",
     "status": "completed"
    },
    "tags": []
   },
   "source": [
    "## 1.6 Change data types"
   ]
  },
  {
   "cell_type": "code",
   "execution_count": 13,
   "id": "683ff839",
   "metadata": {
    "execution": {
     "iopub.execute_input": "2022-01-27T19:13:45.402040Z",
     "iopub.status.busy": "2022-01-27T19:13:45.401041Z",
     "iopub.status.idle": "2022-01-27T19:13:45.488986Z",
     "shell.execute_reply": "2022-01-27T19:13:45.487986Z"
    },
    "hidden": true,
    "papermill": {
     "duration": 0.189885,
     "end_time": "2022-01-27T19:13:45.488986",
     "exception": false,
     "start_time": "2022-01-27T19:13:45.299101",
     "status": "completed"
    },
    "tags": []
   },
   "outputs": [],
   "source": [
    "# invoice date\n",
    "df1['invoice_date'] =  pd.to_datetime(df1['invoice_date'], format = '%d-%b-%y')\n",
    "\n",
    "# customer_id\n",
    "df1['customer_id'] = df1['customer_id'].astype( int )"
   ]
  },
  {
   "cell_type": "code",
   "execution_count": 14,
   "id": "f5d9c1f1",
   "metadata": {
    "execution": {
     "iopub.execute_input": "2022-01-27T19:13:45.656882Z",
     "iopub.status.busy": "2022-01-27T19:13:45.655881Z",
     "iopub.status.idle": "2022-01-27T19:13:45.664890Z",
     "shell.execute_reply": "2022-01-27T19:13:45.663890Z"
    },
    "hidden": true,
    "papermill": {
     "duration": 0.105949,
     "end_time": "2022-01-27T19:13:45.664890",
     "exception": false,
     "start_time": "2022-01-27T19:13:45.558941",
     "status": "completed"
    },
    "tags": []
   },
   "outputs": [
    {
     "data": {
      "text/plain": [
       "invoice_no              object\n",
       "stock_code              object\n",
       "description             object\n",
       "quantity                 int64\n",
       "invoice_date    datetime64[ns]\n",
       "unit_price             float64\n",
       "country                 object\n",
       "customer_id              int32\n",
       "dtype: object"
      ]
     },
     "execution_count": 14,
     "metadata": {},
     "output_type": "execute_result"
    }
   ],
   "source": [
    "df1.dtypes"
   ]
  },
  {
   "cell_type": "markdown",
   "id": "b5a99b5f",
   "metadata": {
    "hidden": true,
    "papermill": {
     "duration": 0.074948,
     "end_time": "2022-01-27T19:13:45.830786",
     "exception": false,
     "start_time": "2022-01-27T19:13:45.755838",
     "status": "completed"
    },
    "tags": []
   },
   "source": [
    "## 1.7 Descriptive Statistics"
   ]
  },
  {
   "cell_type": "code",
   "execution_count": 15,
   "id": "b2270260",
   "metadata": {
    "execution": {
     "iopub.execute_input": "2022-01-27T19:13:46.030665Z",
     "iopub.status.busy": "2022-01-27T19:13:46.029666Z",
     "iopub.status.idle": "2022-01-27T19:13:46.039660Z",
     "shell.execute_reply": "2022-01-27T19:13:46.040657Z"
    },
    "hidden": true,
    "papermill": {
     "duration": 0.136916,
     "end_time": "2022-01-27T19:13:46.040657",
     "exception": false,
     "start_time": "2022-01-27T19:13:45.903741",
     "status": "completed"
    },
    "tags": []
   },
   "outputs": [],
   "source": [
    "num = df1.select_dtypes(include=['int64','float64'])\n",
    "cat = df1.select_dtypes(exclude=['int64','float64'])"
   ]
  },
  {
   "cell_type": "markdown",
   "id": "eeef1fd8",
   "metadata": {
    "hidden": true,
    "papermill": {
     "duration": 0.074957,
     "end_time": "2022-01-27T19:13:46.197563",
     "exception": false,
     "start_time": "2022-01-27T19:13:46.122606",
     "status": "completed"
    },
    "tags": []
   },
   "source": [
    "### 1.7.1 Numerical Variables"
   ]
  },
  {
   "cell_type": "code",
   "execution_count": 16,
   "id": "ccc0f8c6",
   "metadata": {
    "execution": {
     "iopub.execute_input": "2022-01-27T19:13:46.359464Z",
     "iopub.status.busy": "2022-01-27T19:13:46.358464Z",
     "iopub.status.idle": "2022-01-27T19:13:46.508221Z",
     "shell.execute_reply": "2022-01-27T19:13:46.507222Z"
    },
    "hidden": true,
    "papermill": {
     "duration": 0.237706,
     "end_time": "2022-01-27T19:13:46.508221",
     "exception": false,
     "start_time": "2022-01-27T19:13:46.270515",
     "status": "completed"
    },
    "tags": []
   },
   "outputs": [
    {
     "data": {
      "text/html": [
       "<div>\n",
       "<style scoped>\n",
       "    .dataframe tbody tr th:only-of-type {\n",
       "        vertical-align: middle;\n",
       "    }\n",
       "\n",
       "    .dataframe tbody tr th {\n",
       "        vertical-align: top;\n",
       "    }\n",
       "\n",
       "    .dataframe thead th {\n",
       "        text-align: right;\n",
       "    }\n",
       "</style>\n",
       "<table border=\"1\" class=\"dataframe\">\n",
       "  <thead>\n",
       "    <tr style=\"text-align: right;\">\n",
       "      <th></th>\n",
       "      <th>attributes</th>\n",
       "      <th>mean</th>\n",
       "      <th>median</th>\n",
       "      <th>std</th>\n",
       "      <th>min</th>\n",
       "      <th>max</th>\n",
       "      <th>range</th>\n",
       "      <th>skew</th>\n",
       "      <th>kurtosis</th>\n",
       "    </tr>\n",
       "  </thead>\n",
       "  <tbody>\n",
       "    <tr>\n",
       "      <th>0</th>\n",
       "      <td>quantity</td>\n",
       "      <td>9.552250</td>\n",
       "      <td>3.00</td>\n",
       "      <td>218.080957</td>\n",
       "      <td>-80995.00</td>\n",
       "      <td>80995.0</td>\n",
       "      <td>161990.00</td>\n",
       "      <td>-0.264076</td>\n",
       "      <td>119769.160031</td>\n",
       "    </tr>\n",
       "    <tr>\n",
       "      <th>1</th>\n",
       "      <td>unit_price</td>\n",
       "      <td>4.611114</td>\n",
       "      <td>2.08</td>\n",
       "      <td>96.759764</td>\n",
       "      <td>-11062.06</td>\n",
       "      <td>38970.0</td>\n",
       "      <td>50032.06</td>\n",
       "      <td>186.506972</td>\n",
       "      <td>59005.719097</td>\n",
       "    </tr>\n",
       "  </tbody>\n",
       "</table>\n",
       "</div>"
      ],
      "text/plain": [
       "   attributes      mean  median         std       min      max      range  \\\n",
       "0    quantity  9.552250    3.00  218.080957 -80995.00  80995.0  161990.00   \n",
       "1  unit_price  4.611114    2.08   96.759764 -11062.06  38970.0   50032.06   \n",
       "\n",
       "         skew       kurtosis  \n",
       "0   -0.264076  119769.160031  \n",
       "1  186.506972   59005.719097  "
      ]
     },
     "execution_count": 16,
     "metadata": {},
     "output_type": "execute_result"
    }
   ],
   "source": [
    "# Central Tendency - Mean, Median\n",
    "\n",
    "ct1 = pd.DataFrame(num.apply(np.mean)).T\n",
    "ct2 = pd.DataFrame(num.apply(np.median)).T\n",
    "\n",
    "# Dispersion - Min, Max, Standard Deviation, Range, Skew, Kurtosis\n",
    "\n",
    "d1 = pd.DataFrame(num.apply(np.std)).T\n",
    "d2 = pd.DataFrame(num.apply(np.min)).T\n",
    "d3 = pd.DataFrame(num.apply(np.max)).T\n",
    "d4 = pd.DataFrame(num.apply(lambda x: x.max() - x.min())).T\n",
    "d5 = pd.DataFrame(num.apply(lambda x: x.skew())).T\n",
    "d6 = pd.DataFrame(num.apply(lambda x: x.kurtosis())).T\n",
    "\n",
    "# Concatanate\n",
    "num_df = pd.concat([ct1, ct2, d1,d2,d3,d4,d5,d6]).T.reset_index()\n",
    "num_df.columns =['attributes','mean','median','std','min','max','range','skew','kurtosis']\n",
    "num_df"
   ]
  },
  {
   "cell_type": "markdown",
   "id": "0d655223",
   "metadata": {
    "hidden": true,
    "papermill": {
     "duration": 0.076951,
     "end_time": "2022-01-27T19:13:46.662126",
     "exception": false,
     "start_time": "2022-01-27T19:13:46.585175",
     "status": "completed"
    },
    "tags": []
   },
   "source": [
    "### 1.7.2 Categorical variables"
   ]
  },
  {
   "cell_type": "markdown",
   "id": "d914bdbd",
   "metadata": {
    "hidden": true,
    "papermill": {
     "duration": 0.077953,
     "end_time": "2022-01-27T19:13:46.825027",
     "exception": false,
     "start_time": "2022-01-27T19:13:46.747074",
     "status": "completed"
    },
    "tags": []
   },
   "source": [
    "Invoice Nº"
   ]
  },
  {
   "cell_type": "code",
   "execution_count": 17,
   "id": "6162e76d",
   "metadata": {
    "execution": {
     "iopub.execute_input": "2022-01-27T19:13:47.041894Z",
     "iopub.status.busy": "2022-01-27T19:13:46.991925Z",
     "iopub.status.idle": "2022-01-27T19:13:48.200724Z",
     "shell.execute_reply": "2022-01-27T19:13:48.199721Z"
    },
    "hidden": true,
    "papermill": {
     "duration": 1.295747,
     "end_time": "2022-01-27T19:13:48.200724",
     "exception": false,
     "start_time": "2022-01-27T19:13:46.904977",
     "status": "completed"
    },
    "tags": []
   },
   "outputs": [
    {
     "name": "stdout",
     "output_type": "stream",
     "text": [
      "Total number of chargebacks: 9291\n",
      "Percetage of chargebacks: 0.017\n",
      "Total number or negative quantity: 9288\n"
     ]
    }
   ],
   "source": [
    "# Identifying all invoice numbers that represent chargebacks\n",
    "df_chargeback = df1.loc[df1.invoice_no.apply(lambda x: bool(re.search('[^0-9]+',x))),:]\n",
    "\n",
    "print('Total number of chargebacks:',df_chargeback.shape[0])\n",
    "print('Percetage of chargebacks:', round((df_chargeback.shape[0]/df1.shape[0]),3))\n",
    "print('Total number or negative quantity: {}'.format(len(df_chargeback[df_chargeback.quantity<0])))"
   ]
  },
  {
   "cell_type": "markdown",
   "id": "2aecec3b",
   "metadata": {
    "hidden": true,
    "papermill": {
     "duration": 0.075962,
     "end_time": "2022-01-27T19:13:48.349749",
     "exception": false,
     "start_time": "2022-01-27T19:13:48.273787",
     "status": "completed"
    },
    "tags": []
   },
   "source": [
    "Stock Code"
   ]
  },
  {
   "cell_type": "code",
   "execution_count": 18,
   "id": "afc7cc0f",
   "metadata": {
    "execution": {
     "iopub.execute_input": "2022-01-27T19:13:48.592599Z",
     "iopub.status.busy": "2022-01-27T19:13:48.505651Z",
     "iopub.status.idle": "2022-01-27T19:13:49.698682Z",
     "shell.execute_reply": "2022-01-27T19:13:49.698682Z"
    },
    "hidden": true,
    "papermill": {
     "duration": 1.27598,
     "end_time": "2022-01-27T19:13:49.699681",
     "exception": false,
     "start_time": "2022-01-27T19:13:48.423701",
     "status": "completed"
    },
    "tags": []
   },
   "outputs": [
    {
     "data": {
      "text/plain": [
       "array(['POST', 'D', 'DOT', 'M', 'S', 'AMAZONFEE', 'm', 'DCGSSBOY',\n",
       "       'DCGSSGIRL', 'PADS', 'B', 'CRUK'], dtype=object)"
      ]
     },
     "execution_count": 18,
     "metadata": {},
     "output_type": "execute_result"
    }
   ],
   "source": [
    "# Identifying stock codes that contain only characters\n",
    "\n",
    "df1.loc[df1.stock_code.apply(lambda x: bool(re.search('^[a-zA-Z]+$',x))),'stock_code'].unique()"
   ]
  },
  {
   "cell_type": "markdown",
   "id": "26c7d6bb",
   "metadata": {
    "hidden": true,
    "papermill": {
     "duration": 0.080954,
     "end_time": "2022-01-27T19:13:49.854589",
     "exception": false,
     "start_time": "2022-01-27T19:13:49.773635",
     "status": "completed"
    },
    "tags": []
   },
   "source": [
    "**To Do**: remove stock_code that contain ['POST', 'D', 'DOT', 'M', 'S', 'AMAZONFEE', 'm', 'DCGSSBOY',\n",
    "       'DCGSSGIRL', 'PADS', 'B', 'CRUK']"
   ]
  },
  {
   "cell_type": "markdown",
   "id": "a84c4e74",
   "metadata": {
    "hidden": true,
    "papermill": {
     "duration": 0.080956,
     "end_time": "2022-01-27T19:13:50.015773",
     "exception": false,
     "start_time": "2022-01-27T19:13:49.934817",
     "status": "completed"
    },
    "tags": []
   },
   "source": [
    "Description"
   ]
  },
  {
   "cell_type": "code",
   "execution_count": 19,
   "id": "9c4afedb",
   "metadata": {
    "execution": {
     "iopub.execute_input": "2022-01-27T19:13:50.177383Z",
     "iopub.status.busy": "2022-01-27T19:13:50.175385Z",
     "iopub.status.idle": "2022-01-27T19:13:50.186045Z",
     "shell.execute_reply": "2022-01-27T19:13:50.186045Z"
    },
    "hidden": true,
    "papermill": {
     "duration": 0.095381,
     "end_time": "2022-01-27T19:13:50.187048",
     "exception": false,
     "start_time": "2022-01-27T19:13:50.091667",
     "status": "completed"
    },
    "tags": []
   },
   "outputs": [
    {
     "data": {
      "text/plain": [
       "0     WHITE HANGING HEART T-LIGHT HOLDER\n",
       "1                    WHITE METAL LANTERN\n",
       "2         CREAM CUPID HEARTS COAT HANGER\n",
       "3    KNITTED UNION FLAG HOT WATER BOTTLE\n",
       "4         RED WOOLLY HOTTIE WHITE HEART.\n",
       "Name: description, dtype: object"
      ]
     },
     "execution_count": 19,
     "metadata": {},
     "output_type": "execute_result"
    }
   ],
   "source": [
    "df1.description.head()"
   ]
  },
  {
   "cell_type": "markdown",
   "id": "787ea825",
   "metadata": {
    "hidden": true,
    "papermill": {
     "duration": 0.081949,
     "end_time": "2022-01-27T19:13:50.346946",
     "exception": false,
     "start_time": "2022-01-27T19:13:50.264997",
     "status": "completed"
    },
    "tags": []
   },
   "source": [
    "Country"
   ]
  },
  {
   "cell_type": "code",
   "execution_count": 20,
   "id": "0550f89e",
   "metadata": {
    "execution": {
     "iopub.execute_input": "2022-01-27T19:13:50.601790Z",
     "iopub.status.busy": "2022-01-27T19:13:50.596793Z",
     "iopub.status.idle": "2022-01-27T19:13:50.615194Z",
     "shell.execute_reply": "2022-01-27T19:13:50.614194Z"
    },
    "hidden": true,
    "papermill": {
     "duration": 0.192287,
     "end_time": "2022-01-27T19:13:50.615194",
     "exception": false,
     "start_time": "2022-01-27T19:13:50.422907",
     "status": "completed"
    },
    "tags": []
   },
   "outputs": [
    {
     "data": {
      "text/plain": [
       "United Kingdom    0.91\n",
       "Germany           0.02\n",
       "France            0.02\n",
       "EIRE              0.02\n",
       "Spain             0.00\n",
       "Name: country, dtype: float64"
      ]
     },
     "execution_count": 20,
     "metadata": {},
     "output_type": "execute_result"
    }
   ],
   "source": [
    "df1.country.value_counts(normalize=True).head().round(2)"
   ]
  },
  {
   "cell_type": "code",
   "execution_count": 21,
   "id": "b2991264",
   "metadata": {
    "execution": {
     "iopub.execute_input": "2022-01-27T19:13:50.804079Z",
     "iopub.status.busy": "2022-01-27T19:13:50.797081Z",
     "iopub.status.idle": "2022-01-27T19:13:50.900775Z",
     "shell.execute_reply": "2022-01-27T19:13:50.899775Z"
    },
    "hidden": true,
    "papermill": {
     "duration": 0.200636,
     "end_time": "2022-01-27T19:13:50.900775",
     "exception": false,
     "start_time": "2022-01-27T19:13:50.700139",
     "status": "completed"
    },
    "scrolled": true,
    "tags": []
   },
   "outputs": [
    {
     "data": {
      "text/html": [
       "<div>\n",
       "<style scoped>\n",
       "    .dataframe tbody tr th:only-of-type {\n",
       "        vertical-align: middle;\n",
       "    }\n",
       "\n",
       "    .dataframe tbody tr th {\n",
       "        vertical-align: top;\n",
       "    }\n",
       "\n",
       "    .dataframe thead th {\n",
       "        text-align: right;\n",
       "    }\n",
       "</style>\n",
       "<table border=\"1\" class=\"dataframe\">\n",
       "  <thead>\n",
       "    <tr style=\"text-align: right;\">\n",
       "      <th></th>\n",
       "      <th>country</th>\n",
       "      <th>customer_id</th>\n",
       "    </tr>\n",
       "  </thead>\n",
       "  <tbody>\n",
       "    <tr>\n",
       "      <th>36</th>\n",
       "      <td>United Kingdom</td>\n",
       "      <td>7587</td>\n",
       "    </tr>\n",
       "    <tr>\n",
       "      <th>14</th>\n",
       "      <td>Germany</td>\n",
       "      <td>95</td>\n",
       "    </tr>\n",
       "    <tr>\n",
       "      <th>13</th>\n",
       "      <td>France</td>\n",
       "      <td>90</td>\n",
       "    </tr>\n",
       "    <tr>\n",
       "      <th>10</th>\n",
       "      <td>EIRE</td>\n",
       "      <td>44</td>\n",
       "    </tr>\n",
       "    <tr>\n",
       "      <th>31</th>\n",
       "      <td>Spain</td>\n",
       "      <td>31</td>\n",
       "    </tr>\n",
       "    <tr>\n",
       "      <th>3</th>\n",
       "      <td>Belgium</td>\n",
       "      <td>25</td>\n",
       "    </tr>\n",
       "    <tr>\n",
       "      <th>33</th>\n",
       "      <td>Switzerland</td>\n",
       "      <td>24</td>\n",
       "    </tr>\n",
       "    <tr>\n",
       "      <th>27</th>\n",
       "      <td>Portugal</td>\n",
       "      <td>20</td>\n",
       "    </tr>\n",
       "    <tr>\n",
       "      <th>19</th>\n",
       "      <td>Italy</td>\n",
       "      <td>15</td>\n",
       "    </tr>\n",
       "    <tr>\n",
       "      <th>16</th>\n",
       "      <td>Hong Kong</td>\n",
       "      <td>15</td>\n",
       "    </tr>\n",
       "  </tbody>\n",
       "</table>\n",
       "</div>"
      ],
      "text/plain": [
       "           country  customer_id\n",
       "36  United Kingdom         7587\n",
       "14         Germany           95\n",
       "13          France           90\n",
       "10            EIRE           44\n",
       "31           Spain           31\n",
       "3          Belgium           25\n",
       "33     Switzerland           24\n",
       "27        Portugal           20\n",
       "19           Italy           15\n",
       "16       Hong Kong           15"
      ]
     },
     "execution_count": 21,
     "metadata": {},
     "output_type": "execute_result"
    }
   ],
   "source": [
    "# Top 10 countries with the most purchases\n",
    "df1[['customer_id','country']].drop_duplicates().groupby('country').count().reset_index().sort_values(by='customer_id',ascending=False).head(10)"
   ]
  },
  {
   "cell_type": "markdown",
   "id": "5ad11737",
   "metadata": {
    "heading_collapsed": true,
    "papermill": {
     "duration": 0.075953,
     "end_time": "2022-01-27T19:13:51.052681",
     "exception": false,
     "start_time": "2022-01-27T19:13:50.976728",
     "status": "completed"
    },
    "tags": []
   },
   "source": [
    "# 2.0 Feature Filtering"
   ]
  },
  {
   "cell_type": "code",
   "execution_count": 22,
   "id": "aa4956f9",
   "metadata": {
    "execution": {
     "iopub.execute_input": "2022-01-27T19:13:51.229582Z",
     "iopub.status.busy": "2022-01-27T19:13:51.228581Z",
     "iopub.status.idle": "2022-01-27T19:13:51.245638Z",
     "shell.execute_reply": "2022-01-27T19:13:51.244638Z"
    },
    "hidden": true,
    "papermill": {
     "duration": 0.110008,
     "end_time": "2022-01-27T19:13:51.245638",
     "exception": false,
     "start_time": "2022-01-27T19:13:51.135630",
     "status": "completed"
    },
    "tags": []
   },
   "outputs": [],
   "source": [
    "df2 = df1.copy()"
   ]
  },
  {
   "cell_type": "markdown",
   "id": "1fb87776",
   "metadata": {
    "hidden": true,
    "papermill": {
     "duration": 0.078952,
     "end_time": "2022-01-27T19:13:51.406538",
     "exception": false,
     "start_time": "2022-01-27T19:13:51.327586",
     "status": "completed"
    },
    "tags": []
   },
   "source": [
    "## 2.1 Numerical features"
   ]
  },
  {
   "cell_type": "code",
   "execution_count": 23,
   "id": "ae130f94",
   "metadata": {
    "execution": {
     "iopub.execute_input": "2022-01-27T19:13:51.573440Z",
     "iopub.status.busy": "2022-01-27T19:13:51.572440Z",
     "iopub.status.idle": "2022-01-27T19:13:51.750304Z",
     "shell.execute_reply": "2022-01-27T19:13:51.749305Z"
    },
    "hidden": true,
    "papermill": {
     "duration": 0.263817,
     "end_time": "2022-01-27T19:13:51.750304",
     "exception": false,
     "start_time": "2022-01-27T19:13:51.486487",
     "status": "completed"
    },
    "tags": []
   },
   "outputs": [],
   "source": [
    "# Unit price - Select product with at least 0.04 unit price \n",
    "df2 = df2.loc[df2['unit_price']>=0.04]\n",
    "\n",
    "# Quantity - Remove customers with zero quantity in total\n",
    "total_quantity = df2[['quantity','customer_id']].groupby('customer_id').sum()\n",
    "customers_zero_quantity = total_quantity[total_quantity.quantity==0].index.to_list()\n",
    "\n",
    "df2 = df2.loc[~df2['customer_id'].isin(customers_zero_quantity)]"
   ]
  },
  {
   "cell_type": "markdown",
   "id": "b79787af",
   "metadata": {
    "hidden": true,
    "papermill": {
     "duration": 0.075952,
     "end_time": "2022-01-27T19:13:51.907210",
     "exception": false,
     "start_time": "2022-01-27T19:13:51.831258",
     "status": "completed"
    },
    "tags": []
   },
   "source": [
    "## 2.2 Categorical features"
   ]
  },
  {
   "cell_type": "code",
   "execution_count": 24,
   "id": "bc6e6bbb",
   "metadata": {
    "execution": {
     "iopub.execute_input": "2022-01-27T19:13:52.127220Z",
     "iopub.status.busy": "2022-01-27T19:13:52.126221Z",
     "iopub.status.idle": "2022-01-27T19:13:52.380687Z",
     "shell.execute_reply": "2022-01-27T19:13:52.379688Z"
    },
    "hidden": true,
    "papermill": {
     "duration": 0.395525,
     "end_time": "2022-01-27T19:13:52.380687",
     "exception": false,
     "start_time": "2022-01-27T19:13:51.985162",
     "status": "completed"
    },
    "tags": []
   },
   "outputs": [],
   "source": [
    "# Stock Code - remove stock_code that contain ['POST', 'D', 'DOT', 'M', 'S', 'AMAZONFEE', 'm', 'DCGSSBOY', 'DCGSSGIRL', 'PADS', 'B', 'CRUK']\n",
    "df2 =df2[~df2['stock_code'].isin(['POST', 'D', 'DOT', 'M', 'S', 'AMAZONFEE', 'm', 'DCGSSBOY',\n",
    "       'DCGSSGIRL', 'PADS', 'B', 'CRUK'])]\n",
    "\n",
    "# Description - remove description\n",
    "df2.drop('description', axis=1, inplace=True)\n",
    "\n",
    "# Country - Keep only country names: (Remove 'European Community', 'Unspecified')\n",
    "df2 =df2[~df2.country.isin(['European Community', 'Unspecified'])]\n",
    "\n",
    "# Bad users\n",
    "df2 = df2[~df2['customer_id'].isin( [16446] )]\n",
    "\n"
   ]
  },
  {
   "cell_type": "markdown",
   "id": "cc194c02",
   "metadata": {
    "hidden": true,
    "papermill": {
     "duration": 0.078949,
     "end_time": "2022-01-27T19:13:52.535590",
     "exception": false,
     "start_time": "2022-01-27T19:13:52.456641",
     "status": "completed"
    },
    "tags": []
   },
   "source": [
    "## 2.3 Separate dataset"
   ]
  },
  {
   "cell_type": "code",
   "execution_count": 25,
   "id": "6aa05872",
   "metadata": {
    "execution": {
     "iopub.execute_input": "2022-01-27T19:13:52.727477Z",
     "iopub.status.busy": "2022-01-27T19:13:52.726477Z",
     "iopub.status.idle": "2022-01-27T19:13:52.793428Z",
     "shell.execute_reply": "2022-01-27T19:13:52.794428Z"
    },
    "hidden": true,
    "papermill": {
     "duration": 0.176886,
     "end_time": "2022-01-27T19:13:52.794428",
     "exception": false,
     "start_time": "2022-01-27T19:13:52.617542",
     "status": "completed"
    },
    "tags": []
   },
   "outputs": [],
   "source": [
    "# Quantity - CREATE TWO SEPARATE DATAFRAMES\n",
    "# One for the purchases and another for the returns\n",
    "\n",
    "df_chargeback = df2.loc[df2['quantity']<0,:]\n",
    "df_purchases= df2.loc[df2['quantity']>0,:]"
   ]
  },
  {
   "cell_type": "markdown",
   "id": "52f2a724",
   "metadata": {
    "heading_collapsed": true,
    "papermill": {
     "duration": 0.078951,
     "end_time": "2022-01-27T19:13:52.955331",
     "exception": false,
     "start_time": "2022-01-27T19:13:52.876380",
     "status": "completed"
    },
    "tags": []
   },
   "source": [
    "# 3.0 Feature Engeneering"
   ]
  },
  {
   "cell_type": "code",
   "execution_count": 26,
   "id": "100d0f26",
   "metadata": {
    "execution": {
     "iopub.execute_input": "2022-01-27T19:13:53.134227Z",
     "iopub.status.busy": "2022-01-27T19:13:53.133226Z",
     "iopub.status.idle": "2022-01-27T19:13:53.156430Z",
     "shell.execute_reply": "2022-01-27T19:13:53.155431Z"
    },
    "hidden": true,
    "papermill": {
     "duration": 0.11715,
     "end_time": "2022-01-27T19:13:53.156430",
     "exception": false,
     "start_time": "2022-01-27T19:13:53.039280",
     "status": "completed"
    },
    "tags": []
   },
   "outputs": [],
   "source": [
    "df3 = df2.copy()"
   ]
  },
  {
   "cell_type": "markdown",
   "id": "3c751e77",
   "metadata": {
    "hidden": true,
    "papermill": {
     "duration": 0.07796,
     "end_time": "2022-01-27T19:13:53.313704",
     "exception": false,
     "start_time": "2022-01-27T19:13:53.235744",
     "status": "completed"
    },
    "tags": []
   },
   "source": [
    "## 3.1 Feature Creation"
   ]
  },
  {
   "cell_type": "markdown",
   "id": "96bef38e",
   "metadata": {
    "hidden": true,
    "papermill": {
     "duration": 0.078955,
     "end_time": "2022-01-27T19:13:53.467609",
     "exception": false,
     "start_time": "2022-01-27T19:13:53.388654",
     "status": "completed"
    },
    "tags": []
   },
   "source": [
    "The main ideia here is to reduce the data granularity into rows that represent each one a different customer."
   ]
  },
  {
   "cell_type": "code",
   "execution_count": 27,
   "id": "0ea71e96",
   "metadata": {
    "execution": {
     "iopub.execute_input": "2022-01-27T19:13:53.640541Z",
     "iopub.status.busy": "2022-01-27T19:13:53.638544Z",
     "iopub.status.idle": "2022-01-27T19:13:53.679693Z",
     "shell.execute_reply": "2022-01-27T19:13:53.678694Z"
    },
    "hidden": true,
    "papermill": {
     "duration": 0.136098,
     "end_time": "2022-01-27T19:13:53.679693",
     "exception": false,
     "start_time": "2022-01-27T19:13:53.543595",
     "status": "completed"
    },
    "tags": []
   },
   "outputs": [],
   "source": [
    "# Data reference\n",
    "df_ref = df2[['customer_id']].drop_duplicates().reset_index()\n",
    "df_ref.drop('index',axis=1, inplace=True)"
   ]
  },
  {
   "cell_type": "markdown",
   "id": "9352964c",
   "metadata": {
    "hidden": true,
    "papermill": {
     "duration": 0.082957,
     "end_time": "2022-01-27T19:13:53.859610",
     "exception": false,
     "start_time": "2022-01-27T19:13:53.776653",
     "status": "completed"
    },
    "tags": []
   },
   "source": [
    "### 3.1.1 Gross Revenue"
   ]
  },
  {
   "cell_type": "code",
   "execution_count": 28,
   "id": "28d1d729",
   "metadata": {
    "execution": {
     "iopub.execute_input": "2022-01-27T19:13:54.033501Z",
     "iopub.status.busy": "2022-01-27T19:13:54.032504Z",
     "iopub.status.idle": "2022-01-27T19:13:54.110332Z",
     "shell.execute_reply": "2022-01-27T19:13:54.111330Z"
    },
    "hidden": true,
    "papermill": {
     "duration": 0.171772,
     "end_time": "2022-01-27T19:13:54.111330",
     "exception": false,
     "start_time": "2022-01-27T19:13:53.939558",
     "status": "completed"
    },
    "tags": []
   },
   "outputs": [
    {
     "data": {
      "text/plain": [
       "customer_id       0\n",
       "gross_revenue    91\n",
       "dtype: int64"
      ]
     },
     "execution_count": 28,
     "metadata": {},
     "output_type": "execute_result"
    }
   ],
   "source": [
    "# Gross Revenue per item purchased\n",
    "df_purchases['gross_revenue'] = df_purchases['quantity'] * df_purchases['unit_price']\n",
    "\n",
    "# Gross Revenue per customer\n",
    "df_monetary = df_purchases[['customer_id','gross_revenue']].groupby('customer_id').sum().reset_index()\n",
    "df_ref  =pd.merge(df_ref, df_monetary, on='customer_id', how='left')\n",
    "\n",
    "# Check NAs\n",
    "df_ref.isna().sum()"
   ]
  },
  {
   "cell_type": "markdown",
   "id": "58405c02",
   "metadata": {
    "hidden": true,
    "papermill": {
     "duration": 0.075952,
     "end_time": "2022-01-27T19:13:54.276228",
     "exception": false,
     "start_time": "2022-01-27T19:13:54.200276",
     "status": "completed"
    },
    "tags": []
   },
   "source": [
    "### 3.1.2 Recency (Days since the last purchase)"
   ]
  },
  {
   "cell_type": "code",
   "execution_count": 29,
   "id": "ca615f87",
   "metadata": {
    "execution": {
     "iopub.execute_input": "2022-01-27T19:13:54.455123Z",
     "iopub.status.busy": "2022-01-27T19:13:54.455123Z",
     "iopub.status.idle": "2022-01-27T19:13:54.506933Z",
     "shell.execute_reply": "2022-01-27T19:13:54.505933Z"
    },
    "hidden": true,
    "papermill": {
     "duration": 0.153752,
     "end_time": "2022-01-27T19:13:54.506933",
     "exception": false,
     "start_time": "2022-01-27T19:13:54.353181",
     "status": "completed"
    },
    "scrolled": true,
    "tags": []
   },
   "outputs": [
    {
     "data": {
      "text/plain": [
       "customer_id       0\n",
       "gross_revenue    91\n",
       "recency_days     91\n",
       "dtype: int64"
      ]
     },
     "execution_count": 29,
     "metadata": {},
     "output_type": "execute_result"
    }
   ],
   "source": [
    "# Recency - Last Day purchase\n",
    "df_recency = df_purchases[['customer_id','invoice_date']].groupby('customer_id').max().reset_index()\n",
    "df_recency['recency_days'] = (df2['invoice_date'].max()-df_recency['invoice_date']).dt.days\n",
    "df_recency = df_recency[['customer_id','recency_days']].copy()\n",
    "df_ref = pd.merge(df_ref, df_recency, on='customer_id',how='left')\n",
    "\n",
    "# Check NAs\n",
    "df_ref.isna().sum()"
   ]
  },
  {
   "cell_type": "markdown",
   "id": "c49a95b9",
   "metadata": {
    "hidden": true,
    "papermill": {
     "duration": 0.081957,
     "end_time": "2022-01-27T19:13:54.668933",
     "exception": false,
     "start_time": "2022-01-27T19:13:54.586976",
     "status": "completed"
    },
    "tags": []
   },
   "source": [
    "### 3.1.5 Product variety (Unique products purchased)"
   ]
  },
  {
   "cell_type": "code",
   "execution_count": 30,
   "id": "8fd434b2",
   "metadata": {
    "execution": {
     "iopub.execute_input": "2022-01-27T19:13:54.864816Z",
     "iopub.status.busy": "2022-01-27T19:13:54.858815Z",
     "iopub.status.idle": "2022-01-27T19:13:55.026177Z",
     "shell.execute_reply": "2022-01-27T19:13:55.025174Z"
    },
    "hidden": true,
    "papermill": {
     "duration": 0.259307,
     "end_time": "2022-01-27T19:13:55.026177",
     "exception": false,
     "start_time": "2022-01-27T19:13:54.766870",
     "status": "completed"
    },
    "scrolled": true,
    "tags": []
   },
   "outputs": [
    {
     "data": {
      "text/plain": [
       "customer_id         0\n",
       "gross_revenue      91\n",
       "recency_days       91\n",
       "product_variety    91\n",
       "dtype: int64"
      ]
     },
     "execution_count": 30,
     "metadata": {},
     "output_type": "execute_result"
    }
   ],
   "source": [
    "df_var = df_purchases[['customer_id','stock_code']].drop_duplicates().groupby('customer_id').count().reset_index()\n",
    "df_ref = pd.merge(df_ref, df_var, on='customer_id',how='left')\n",
    "df_ref.rename(columns={'stock_code':'product_variety'}, inplace=True)\n",
    "\n",
    "# Check NAs\n",
    "df_ref.isna().sum()"
   ]
  },
  {
   "cell_type": "markdown",
   "id": "5eef3d57",
   "metadata": {
    "hidden": true,
    "papermill": {
     "duration": 0.082956,
     "end_time": "2022-01-27T19:13:55.194198",
     "exception": false,
     "start_time": "2022-01-27T19:13:55.111242",
     "status": "completed"
    },
    "tags": []
   },
   "source": [
    "### 3.1.8 Returns"
   ]
  },
  {
   "cell_type": "code",
   "execution_count": 31,
   "id": "38ff82d6",
   "metadata": {
    "execution": {
     "iopub.execute_input": "2022-01-27T19:13:55.367092Z",
     "iopub.status.busy": "2022-01-27T19:13:55.367092Z",
     "iopub.status.idle": "2022-01-27T19:13:55.390762Z",
     "shell.execute_reply": "2022-01-27T19:13:55.389759Z"
    },
    "hidden": true,
    "papermill": {
     "duration": 0.115614,
     "end_time": "2022-01-27T19:13:55.390762",
     "exception": false,
     "start_time": "2022-01-27T19:13:55.275148",
     "status": "completed"
    },
    "scrolled": true,
    "tags": []
   },
   "outputs": [
    {
     "data": {
      "text/plain": [
       "customer_id         0\n",
       "gross_revenue      91\n",
       "recency_days       91\n",
       "product_variety    91\n",
       "returns             0\n",
       "dtype: int64"
      ]
     },
     "execution_count": 31,
     "metadata": {},
     "output_type": "execute_result"
    }
   ],
   "source": [
    "df_return = df_chargeback[['customer_id','quantity']].groupby('customer_id').sum().reset_index()\n",
    "df_return.rename(columns={'quantity':'returns'}, inplace=True) # rename column\n",
    "df_ref = pd.merge(df_ref,df_return, on='customer_id', how='left')\n",
    "df_ref['returns'] = df_ref['returns'] * -1\n",
    "df_ref['returns'].fillna(value=0, inplace=True) # Fill NAs with O (clients with no chargebacks)\n",
    "\n",
    "df_ref.isna().sum()"
   ]
  },
  {
   "cell_type": "markdown",
   "id": "93010750",
   "metadata": {
    "hidden": true,
    "papermill": {
     "duration": 0.091944,
     "end_time": "2022-01-27T19:13:55.590636",
     "exception": false,
     "start_time": "2022-01-27T19:13:55.498692",
     "status": "completed"
    },
    "tags": []
   },
   "source": [
    "### 3.1.9 Frequency"
   ]
  },
  {
   "cell_type": "code",
   "execution_count": 32,
   "id": "23675dcb",
   "metadata": {
    "execution": {
     "iopub.execute_input": "2022-01-27T19:13:55.809501Z",
     "iopub.status.busy": "2022-01-27T19:13:55.808503Z",
     "iopub.status.idle": "2022-01-27T19:13:58.203624Z",
     "shell.execute_reply": "2022-01-27T19:13:58.203624Z"
    },
    "hidden": true,
    "papermill": {
     "duration": 2.52904,
     "end_time": "2022-01-27T19:13:58.203624",
     "exception": false,
     "start_time": "2022-01-27T19:13:55.674584",
     "status": "completed"
    },
    "scrolled": true,
    "tags": []
   },
   "outputs": [
    {
     "data": {
      "text/plain": [
       "customer_id         0\n",
       "gross_revenue      91\n",
       "recency_days       91\n",
       "product_variety    91\n",
       "returns             0\n",
       "frequency           0\n",
       "dtype: int64"
      ]
     },
     "execution_count": 32,
     "metadata": {},
     "output_type": "execute_result"
    }
   ],
   "source": [
    "df_aux = ( df2[['customer_id', 'invoice_no','invoice_date']].drop_duplicates()\n",
    "                                                             .groupby('customer_id')\n",
    "                                                             .agg( max_ = ('invoice_date','max'),\n",
    "                                                                   min_ = ('invoice_date', 'min'),\n",
    "                                                                   days_ = ('invoice_date', lambda x: ((x.max() - x.min()).days)+1 ),\n",
    "                                                                purchases = ('invoice_no','count') )).reset_index()  \n",
    "# Frequency\n",
    "\n",
    "df_aux['frequency'] = df_aux[['purchases','days_']].apply(lambda x: x['purchases']/x['days_'] if x['days_'] != 0 else 0, axis=1)\n",
    " \n",
    "# Merge\n",
    "df_ref = pd.merge(df_ref, df_aux[['customer_id', 'frequency']], on='customer_id', how='left')\n",
    "\n",
    "df_ref.isna().sum()"
   ]
  },
  {
   "cell_type": "markdown",
   "id": "63bcd599",
   "metadata": {
    "papermill": {
     "duration": 0.083953,
     "end_time": "2022-01-27T19:13:58.368917",
     "exception": false,
     "start_time": "2022-01-27T19:13:58.284964",
     "status": "completed"
    },
    "tags": []
   },
   "source": [
    "# 4.0 Exploratory Data Analysis"
   ]
  },
  {
   "cell_type": "code",
   "execution_count": 33,
   "id": "592079a7",
   "metadata": {
    "execution": {
     "iopub.execute_input": "2022-01-27T19:13:58.534819Z",
     "iopub.status.busy": "2022-01-27T19:13:58.532817Z",
     "iopub.status.idle": "2022-01-27T19:13:58.554179Z",
     "shell.execute_reply": "2022-01-27T19:13:58.554179Z"
    },
    "papermill": {
     "duration": 0.107309,
     "end_time": "2022-01-27T19:13:58.555181",
     "exception": false,
     "start_time": "2022-01-27T19:13:58.447872",
     "status": "completed"
    },
    "tags": []
   },
   "outputs": [],
   "source": [
    "# Drop NAs\n",
    "df_ref.dropna(inplace=True)\n",
    "\n",
    "df4 = df_ref.copy()"
   ]
  },
  {
   "cell_type": "markdown",
   "id": "5212a514",
   "metadata": {
    "papermill": {
     "duration": 0.106932,
     "end_time": "2022-01-27T19:13:58.749059",
     "exception": false,
     "start_time": "2022-01-27T19:13:58.642127",
     "status": "completed"
    },
    "tags": []
   },
   "source": [
    "## 4.1 Data Space Study"
   ]
  },
  {
   "cell_type": "code",
   "execution_count": 34,
   "id": "040fb2be",
   "metadata": {
    "execution": {
     "iopub.execute_input": "2022-01-27T19:13:58.934479Z",
     "iopub.status.busy": "2022-01-27T19:13:58.930483Z",
     "iopub.status.idle": "2022-01-27T19:13:58.948601Z",
     "shell.execute_reply": "2022-01-27T19:13:58.947601Z"
    },
    "papermill": {
     "duration": 0.109068,
     "end_time": "2022-01-27T19:13:58.948601",
     "exception": false,
     "start_time": "2022-01-27T19:13:58.839533",
     "status": "completed"
    },
    "tags": []
   },
   "outputs": [],
   "source": [
    "df_space = df4.copy()\n",
    "\n",
    "# Cols selected after data variation analysis\n",
    "cols_selected = ['customer_id', 'gross_revenue', 'recency_days', 'product_variety', 'frequency', 'returns']\n",
    "\n",
    "df_space = df_space[cols_selected]"
   ]
  },
  {
   "cell_type": "code",
   "execution_count": 35,
   "id": "a8685321",
   "metadata": {
    "execution": {
     "iopub.execute_input": "2022-01-27T19:13:59.158471Z",
     "iopub.status.busy": "2022-01-27T19:13:59.152473Z",
     "iopub.status.idle": "2022-01-27T19:13:59.166797Z",
     "shell.execute_reply": "2022-01-27T19:13:59.167798Z"
    },
    "papermill": {
     "duration": 0.132253,
     "end_time": "2022-01-27T19:13:59.167798",
     "exception": false,
     "start_time": "2022-01-27T19:13:59.035545",
     "status": "completed"
    },
    "tags": []
   },
   "outputs": [],
   "source": [
    "# MinMaxScaler definition\n",
    "mms = pp.MinMaxScaler()\n",
    "\n",
    "# Standardization \n",
    "\n",
    "df_space['gross_revenue'] = mms.fit_transform( df_space[['gross_revenue']])\n",
    "df_space['recency_days'] = mms.fit_transform( df_space[['recency_days']])\n",
    "df_space['product_variety'] = mms.fit_transform( df_space[['product_variety']])\n",
    "df_space['returns'] = mms.fit_transform( df_space[['returns']])\n",
    "df_space['frequency'] = mms.fit_transform( df_space[['frequency']])\n",
    "\n",
    "X_space = df_space.copy().drop('customer_id',axis=1)"
   ]
  },
  {
   "cell_type": "code",
   "execution_count": 36,
   "id": "84e72d29",
   "metadata": {
    "execution": {
     "iopub.execute_input": "2022-01-27T19:13:59.351686Z",
     "iopub.status.busy": "2022-01-27T19:13:59.350686Z",
     "iopub.status.idle": "2022-01-27T19:13:59.358785Z",
     "shell.execute_reply": "2022-01-27T19:13:59.359783Z"
    },
    "papermill": {
     "duration": 0.108036,
     "end_time": "2022-01-27T19:13:59.359783",
     "exception": false,
     "start_time": "2022-01-27T19:13:59.251747",
     "status": "completed"
    },
    "tags": []
   },
   "outputs": [
    {
     "data": {
      "text/plain": [
       "(5682, 5)"
      ]
     },
     "execution_count": 36,
     "metadata": {},
     "output_type": "execute_result"
    }
   ],
   "source": [
    "X_space.shape"
   ]
  },
  {
   "cell_type": "markdown",
   "id": "f7c87e0c",
   "metadata": {
    "papermill": {
     "duration": 0.080956,
     "end_time": "2022-01-27T19:13:59.526773",
     "exception": false,
     "start_time": "2022-01-27T19:13:59.445817",
     "status": "completed"
    },
    "tags": []
   },
   "source": [
    "### 4.2 Tree-Based Embedding"
   ]
  },
  {
   "cell_type": "markdown",
   "id": "4f3b7f8e",
   "metadata": {
    "papermill": {
     "duration": 0.082953,
     "end_time": "2022-01-27T19:13:59.693598",
     "exception": false,
     "start_time": "2022-01-27T19:13:59.610645",
     "status": "completed"
    },
    "tags": []
   },
   "source": [
    "**Note**: the dataframe below shows a unique customer per row, a unique tree per column. The values inside each cell represents the position (leaf number) of the respective customer in that tree."
   ]
  },
  {
   "cell_type": "code",
   "execution_count": 37,
   "id": "85a578bc",
   "metadata": {
    "execution": {
     "iopub.execute_input": "2022-01-27T19:13:59.932455Z",
     "iopub.status.busy": "2022-01-27T19:13:59.931455Z",
     "iopub.status.idle": "2022-01-27T19:14:01.854272Z",
     "shell.execute_reply": "2022-01-27T19:14:01.854272Z"
    },
    "papermill": {
     "duration": 2.074725,
     "end_time": "2022-01-27T19:14:01.855271",
     "exception": false,
     "start_time": "2022-01-27T19:13:59.780546",
     "status": "completed"
    },
    "tags": []
   },
   "outputs": [
    {
     "data": {
      "text/html": [
       "<div>\n",
       "<style scoped>\n",
       "    .dataframe tbody tr th:only-of-type {\n",
       "        vertical-align: middle;\n",
       "    }\n",
       "\n",
       "    .dataframe tbody tr th {\n",
       "        vertical-align: top;\n",
       "    }\n",
       "\n",
       "    .dataframe thead th {\n",
       "        text-align: right;\n",
       "    }\n",
       "</style>\n",
       "<table border=\"1\" class=\"dataframe\">\n",
       "  <thead>\n",
       "    <tr style=\"text-align: right;\">\n",
       "      <th></th>\n",
       "      <th>0</th>\n",
       "      <th>1</th>\n",
       "      <th>2</th>\n",
       "      <th>3</th>\n",
       "      <th>4</th>\n",
       "      <th>5</th>\n",
       "      <th>6</th>\n",
       "      <th>7</th>\n",
       "      <th>8</th>\n",
       "      <th>9</th>\n",
       "      <th>...</th>\n",
       "      <th>90</th>\n",
       "      <th>91</th>\n",
       "      <th>92</th>\n",
       "      <th>93</th>\n",
       "      <th>94</th>\n",
       "      <th>95</th>\n",
       "      <th>96</th>\n",
       "      <th>97</th>\n",
       "      <th>98</th>\n",
       "      <th>99</th>\n",
       "    </tr>\n",
       "  </thead>\n",
       "  <tbody>\n",
       "    <tr>\n",
       "      <th>0</th>\n",
       "      <td>3200</td>\n",
       "      <td>4891</td>\n",
       "      <td>4912</td>\n",
       "      <td>3453</td>\n",
       "      <td>3173</td>\n",
       "      <td>3974</td>\n",
       "      <td>4034</td>\n",
       "      <td>4159</td>\n",
       "      <td>3826</td>\n",
       "      <td>6967</td>\n",
       "      <td>...</td>\n",
       "      <td>4291</td>\n",
       "      <td>4830</td>\n",
       "      <td>4073</td>\n",
       "      <td>4139</td>\n",
       "      <td>4588</td>\n",
       "      <td>4282</td>\n",
       "      <td>3287</td>\n",
       "      <td>3326</td>\n",
       "      <td>4177</td>\n",
       "      <td>3930</td>\n",
       "    </tr>\n",
       "    <tr>\n",
       "      <th>1</th>\n",
       "      <td>6371</td>\n",
       "      <td>6691</td>\n",
       "      <td>6819</td>\n",
       "      <td>6359</td>\n",
       "      <td>6829</td>\n",
       "      <td>6975</td>\n",
       "      <td>6830</td>\n",
       "      <td>6607</td>\n",
       "      <td>6790</td>\n",
       "      <td>6466</td>\n",
       "      <td>...</td>\n",
       "      <td>6763</td>\n",
       "      <td>6636</td>\n",
       "      <td>6373</td>\n",
       "      <td>6534</td>\n",
       "      <td>6454</td>\n",
       "      <td>6798</td>\n",
       "      <td>6763</td>\n",
       "      <td>6688</td>\n",
       "      <td>6892</td>\n",
       "      <td>6457</td>\n",
       "    </tr>\n",
       "    <tr>\n",
       "      <th>2</th>\n",
       "      <td>6775</td>\n",
       "      <td>6672</td>\n",
       "      <td>6822</td>\n",
       "      <td>6777</td>\n",
       "      <td>6724</td>\n",
       "      <td>6927</td>\n",
       "      <td>6723</td>\n",
       "      <td>6643</td>\n",
       "      <td>6786</td>\n",
       "      <td>6726</td>\n",
       "      <td>...</td>\n",
       "      <td>6817</td>\n",
       "      <td>5922</td>\n",
       "      <td>6838</td>\n",
       "      <td>6511</td>\n",
       "      <td>6462</td>\n",
       "      <td>6716</td>\n",
       "      <td>6731</td>\n",
       "      <td>6583</td>\n",
       "      <td>6803</td>\n",
       "      <td>6876</td>\n",
       "    </tr>\n",
       "    <tr>\n",
       "      <th>3</th>\n",
       "      <td>700</td>\n",
       "      <td>1258</td>\n",
       "      <td>720</td>\n",
       "      <td>295</td>\n",
       "      <td>568</td>\n",
       "      <td>835</td>\n",
       "      <td>629</td>\n",
       "      <td>875</td>\n",
       "      <td>412</td>\n",
       "      <td>1063</td>\n",
       "      <td>...</td>\n",
       "      <td>624</td>\n",
       "      <td>495</td>\n",
       "      <td>864</td>\n",
       "      <td>719</td>\n",
       "      <td>816</td>\n",
       "      <td>888</td>\n",
       "      <td>425</td>\n",
       "      <td>751</td>\n",
       "      <td>1055</td>\n",
       "      <td>703</td>\n",
       "    </tr>\n",
       "    <tr>\n",
       "      <th>4</th>\n",
       "      <td>1642</td>\n",
       "      <td>1480</td>\n",
       "      <td>1051</td>\n",
       "      <td>2065</td>\n",
       "      <td>1016</td>\n",
       "      <td>1388</td>\n",
       "      <td>1482</td>\n",
       "      <td>1650</td>\n",
       "      <td>2366</td>\n",
       "      <td>2697</td>\n",
       "      <td>...</td>\n",
       "      <td>2289</td>\n",
       "      <td>2216</td>\n",
       "      <td>1568</td>\n",
       "      <td>1853</td>\n",
       "      <td>2354</td>\n",
       "      <td>1443</td>\n",
       "      <td>1350</td>\n",
       "      <td>1332</td>\n",
       "      <td>1611</td>\n",
       "      <td>1976</td>\n",
       "    </tr>\n",
       "  </tbody>\n",
       "</table>\n",
       "<p>5 rows × 100 columns</p>\n",
       "</div>"
      ],
      "text/plain": [
       "     0     1     2     3     4     5     6     7     8     9   ...    90  \\\n",
       "0  3200  4891  4912  3453  3173  3974  4034  4159  3826  6967  ...  4291   \n",
       "1  6371  6691  6819  6359  6829  6975  6830  6607  6790  6466  ...  6763   \n",
       "2  6775  6672  6822  6777  6724  6927  6723  6643  6786  6726  ...  6817   \n",
       "3   700  1258   720   295   568   835   629   875   412  1063  ...   624   \n",
       "4  1642  1480  1051  2065  1016  1388  1482  1650  2366  2697  ...  2289   \n",
       "\n",
       "     91    92    93    94    95    96    97    98    99  \n",
       "0  4830  4073  4139  4588  4282  3287  3326  4177  3930  \n",
       "1  6636  6373  6534  6454  6798  6763  6688  6892  6457  \n",
       "2  5922  6838  6511  6462  6716  6731  6583  6803  6876  \n",
       "3   495   864   719   816   888   425   751  1055   703  \n",
       "4  2216  1568  1853  2354  1443  1350  1332  1611  1976  \n",
       "\n",
       "[5 rows x 100 columns]"
      ]
     },
     "execution_count": 37,
     "metadata": {},
     "output_type": "execute_result"
    }
   ],
   "source": [
    "# training dataset\n",
    "X = df4[cols_selected].drop(columns=['customer_id','gross_revenue'],axis=1)\n",
    "y =df4['gross_revenue']\n",
    "\n",
    "# model definition\n",
    "rf = en.RandomForestRegressor( n_estimators=100, random_state=42)\n",
    "\n",
    "# model training\n",
    "rf.fit(X,y)\n",
    "\n",
    "# Turn leafs into dataframe\n",
    "df_leaf = pd.DataFrame(rf.apply(X))# Apply trees in the forest to X, return leaf indices\n",
    "df_leaf.head()"
   ]
  },
  {
   "cell_type": "code",
   "execution_count": 38,
   "id": "2e004235",
   "metadata": {
    "execution": {
     "iopub.execute_input": "2022-01-27T19:14:02.051150Z",
     "iopub.status.busy": "2022-01-27T19:14:02.049153Z",
     "iopub.status.idle": "2022-01-27T19:14:48.086693Z",
     "shell.execute_reply": "2022-01-27T19:14:48.086693Z"
    },
    "papermill": {
     "duration": 46.133482,
     "end_time": "2022-01-27T19:14:48.086693",
     "exception": false,
     "start_time": "2022-01-27T19:14:01.953211",
     "status": "completed"
    },
    "tags": []
   },
   "outputs": [
    {
     "data": {
      "image/png": "[encoded data removed]",
      "text/plain": [
       "<Figure size 432x288 with 1 Axes>"
      ]
     },
     "metadata": {
      "needs_background": "light"
     },
     "output_type": "display_data"
    }
   ],
   "source": [
    "# Reduce dimensionality\n",
    "reducer = umap.UMAP( random_state=42 )\n",
    "embedding = reducer.fit_transform( df_leaf )\n",
    "\n",
    "# embedding\n",
    "df_tree = pd.DataFrame()\n",
    "df_tree['embedding_x'] = embedding[:, 0]\n",
    "df_tree['embedding_y'] = embedding[:, 1]\n",
    "\n",
    "# plot Tree-Based Embedding using UMAP\n",
    "sns.scatterplot( x='embedding_x', \n",
    "                 y='embedding_y', \n",
    "                 data=df_tree );"
   ]
  },
  {
   "cell_type": "markdown",
   "id": "ff512dcf",
   "metadata": {
    "papermill": {
     "duration": 0.083953,
     "end_time": "2022-01-27T19:14:48.264335",
     "exception": false,
     "start_time": "2022-01-27T19:14:48.180382",
     "status": "completed"
    },
    "tags": []
   },
   "source": [
    "# 5.0 Hyperparameter Fine-Tunning"
   ]
  },
  {
   "cell_type": "markdown",
   "id": "04388c26",
   "metadata": {
    "papermill": {
     "duration": 0.082949,
     "end_time": "2022-01-27T19:14:48.434231",
     "exception": false,
     "start_time": "2022-01-27T19:14:48.351282",
     "status": "completed"
    },
    "tags": []
   },
   "source": [
    "This step servers for testing how many clusters fits the model the best."
   ]
  },
  {
   "cell_type": "code",
   "execution_count": 39,
   "id": "87971d35",
   "metadata": {
    "execution": {
     "iopub.execute_input": "2022-01-27T19:14:48.615120Z",
     "iopub.status.busy": "2022-01-27T19:14:48.613122Z",
     "iopub.status.idle": "2022-01-27T19:14:48.664237Z",
     "shell.execute_reply": "2022-01-27T19:14:48.663238Z"
    },
    "papermill": {
     "duration": 0.143058,
     "end_time": "2022-01-27T19:14:48.664237",
     "exception": false,
     "start_time": "2022-01-27T19:14:48.521179",
     "status": "completed"
    },
    "tags": []
   },
   "outputs": [
    {
     "data": {
      "text/html": [
       "<div>\n",
       "<style scoped>\n",
       "    .dataframe tbody tr th:only-of-type {\n",
       "        vertical-align: middle;\n",
       "    }\n",
       "\n",
       "    .dataframe tbody tr th {\n",
       "        vertical-align: top;\n",
       "    }\n",
       "\n",
       "    .dataframe thead th {\n",
       "        text-align: right;\n",
       "    }\n",
       "</style>\n",
       "<table border=\"1\" class=\"dataframe\">\n",
       "  <thead>\n",
       "    <tr style=\"text-align: right;\">\n",
       "      <th></th>\n",
       "      <th>embedding_x</th>\n",
       "      <th>embedding_y</th>\n",
       "    </tr>\n",
       "  </thead>\n",
       "  <tbody>\n",
       "    <tr>\n",
       "      <th>0</th>\n",
       "      <td>2.110939</td>\n",
       "      <td>2.280515</td>\n",
       "    </tr>\n",
       "    <tr>\n",
       "      <th>1</th>\n",
       "      <td>-11.168382</td>\n",
       "      <td>-2.985210</td>\n",
       "    </tr>\n",
       "    <tr>\n",
       "      <th>2</th>\n",
       "      <td>-11.806499</td>\n",
       "      <td>-3.749706</td>\n",
       "    </tr>\n",
       "    <tr>\n",
       "      <th>3</th>\n",
       "      <td>11.148773</td>\n",
       "      <td>-4.583150</td>\n",
       "    </tr>\n",
       "    <tr>\n",
       "      <th>4</th>\n",
       "      <td>5.252467</td>\n",
       "      <td>-5.936544</td>\n",
       "    </tr>\n",
       "  </tbody>\n",
       "</table>\n",
       "</div>"
      ],
      "text/plain": [
       "   embedding_x  embedding_y\n",
       "0     2.110939     2.280515\n",
       "1   -11.168382    -2.985210\n",
       "2   -11.806499    -3.749706\n",
       "3    11.148773    -4.583150\n",
       "4     5.252467    -5.936544"
      ]
     },
     "execution_count": 39,
     "metadata": {},
     "output_type": "execute_result"
    }
   ],
   "source": [
    "# Save tree base embedding into CSV\n",
    "df_tree.to_csv('src\\\\data\\\\tree_based_embedding.csv')\n",
    "\n",
    "# Convert df_tree into X\n",
    "X = df_tree.copy()\n",
    "\n",
    "# Check X\n",
    "X.head()"
   ]
  },
  {
   "cell_type": "markdown",
   "id": "4020c4c4",
   "metadata": {
    "heading_collapsed": true,
    "papermill": {
     "duration": 0.097941,
     "end_time": "2022-01-27T19:14:48.848123",
     "exception": false,
     "start_time": "2022-01-27T19:14:48.750182",
     "status": "completed"
    },
    "tags": []
   },
   "source": [
    "# 6.0 Model Training"
   ]
  },
  {
   "cell_type": "markdown",
   "id": "63aec49d",
   "metadata": {
    "heading_collapsed": true,
    "hidden": true,
    "papermill": {
     "duration": 0.087944,
     "end_time": "2022-01-27T19:14:49.023014",
     "exception": false,
     "start_time": "2022-01-27T19:14:48.935070",
     "status": "completed"
    },
    "tags": []
   },
   "source": [
    "## 6.1 Final Model"
   ]
  },
  {
   "cell_type": "code",
   "execution_count": 40,
   "id": "5aedff40",
   "metadata": {
    "execution": {
     "iopub.execute_input": "2022-01-27T19:14:49.240883Z",
     "iopub.status.busy": "2022-01-27T19:14:49.239881Z",
     "iopub.status.idle": "2022-01-27T19:14:49.471738Z",
     "shell.execute_reply": "2022-01-27T19:14:49.472737Z"
    },
    "hidden": true,
    "papermill": {
     "duration": 0.359778,
     "end_time": "2022-01-27T19:14:49.473736",
     "exception": false,
     "start_time": "2022-01-27T19:14:49.113958",
     "status": "completed"
    },
    "tags": []
   },
   "outputs": [],
   "source": [
    "# Final number of clusteres -> 8 \n",
    "k = 8\n",
    "\n",
    "# Model definition\n",
    "model_train = c.KMeans( init='random', n_clusters=k, n_init=10, max_iter=300, random_state=42)\n",
    "\n",
    "# Model Training\n",
    "model_train.fit(X)\n",
    "\n",
    "# Clustering\n",
    "labels = model_train.labels_"
   ]
  },
  {
   "cell_type": "markdown",
   "id": "8ecfaedb",
   "metadata": {
    "heading_collapsed": true,
    "hidden": true,
    "papermill": {
     "duration": 0.09794,
     "end_time": "2022-01-27T19:14:49.703596",
     "exception": false,
     "start_time": "2022-01-27T19:14:49.605656",
     "status": "completed"
    },
    "tags": []
   },
   "source": [
    "## 6.2 Cluster Validation"
   ]
  },
  {
   "cell_type": "code",
   "execution_count": 41,
   "id": "95296f95",
   "metadata": {
    "execution": {
     "iopub.execute_input": "2022-01-27T19:14:49.899476Z",
     "iopub.status.busy": "2022-01-27T19:14:49.897477Z",
     "iopub.status.idle": "2022-01-27T19:14:50.733239Z",
     "shell.execute_reply": "2022-01-27T19:14:50.734238Z"
    },
    "hidden": true,
    "papermill": {
     "duration": 0.936698,
     "end_time": "2022-01-27T19:14:50.734238",
     "exception": false,
     "start_time": "2022-01-27T19:14:49.797540",
     "status": "completed"
    },
    "tags": []
   },
   "outputs": [
    {
     "name": "stdout",
     "output_type": "stream",
     "text": [
      "SS value: 0.43634262681007385\n"
     ]
    }
   ],
   "source": [
    "# SS ( Silhouette Score )\n",
    "print( 'SS value: {}'.format( m.silhouette_score( X, labels, metric='euclidean' ) ) )"
   ]
  },
  {
   "cell_type": "markdown",
   "id": "1e01ffe3",
   "metadata": {
    "papermill": {
     "duration": 0.10594,
     "end_time": "2022-01-27T19:14:50.934357",
     "exception": false,
     "start_time": "2022-01-27T19:14:50.828417",
     "status": "completed"
    },
    "tags": []
   },
   "source": [
    "# 7.0 Cluster Analysis"
   ]
  },
  {
   "cell_type": "code",
   "execution_count": 42,
   "id": "cc6f846d",
   "metadata": {
    "execution": {
     "iopub.execute_input": "2022-01-27T19:14:51.126242Z",
     "iopub.status.busy": "2022-01-27T19:14:51.125240Z",
     "iopub.status.idle": "2022-01-27T19:14:51.141431Z",
     "shell.execute_reply": "2022-01-27T19:14:51.140431Z"
    },
    "papermill": {
     "duration": 0.119126,
     "end_time": "2022-01-27T19:14:51.141431",
     "exception": false,
     "start_time": "2022-01-27T19:14:51.022305",
     "status": "completed"
    },
    "scrolled": true,
    "tags": []
   },
   "outputs": [
    {
     "data": {
      "text/html": [
       "<div>\n",
       "<style scoped>\n",
       "    .dataframe tbody tr th:only-of-type {\n",
       "        vertical-align: middle;\n",
       "    }\n",
       "\n",
       "    .dataframe tbody tr th {\n",
       "        vertical-align: top;\n",
       "    }\n",
       "\n",
       "    .dataframe thead th {\n",
       "        text-align: right;\n",
       "    }\n",
       "</style>\n",
       "<table border=\"1\" class=\"dataframe\">\n",
       "  <thead>\n",
       "    <tr style=\"text-align: right;\">\n",
       "      <th></th>\n",
       "      <th>embedding_x</th>\n",
       "      <th>embedding_y</th>\n",
       "      <th>cluster</th>\n",
       "    </tr>\n",
       "  </thead>\n",
       "  <tbody>\n",
       "    <tr>\n",
       "      <th>0</th>\n",
       "      <td>2.110939</td>\n",
       "      <td>2.280515</td>\n",
       "      <td>3</td>\n",
       "    </tr>\n",
       "    <tr>\n",
       "      <th>1</th>\n",
       "      <td>-11.168382</td>\n",
       "      <td>-2.985210</td>\n",
       "      <td>1</td>\n",
       "    </tr>\n",
       "    <tr>\n",
       "      <th>2</th>\n",
       "      <td>-11.806499</td>\n",
       "      <td>-3.749706</td>\n",
       "      <td>1</td>\n",
       "    </tr>\n",
       "    <tr>\n",
       "      <th>3</th>\n",
       "      <td>11.148773</td>\n",
       "      <td>-4.583150</td>\n",
       "      <td>4</td>\n",
       "    </tr>\n",
       "    <tr>\n",
       "      <th>4</th>\n",
       "      <td>5.252467</td>\n",
       "      <td>-5.936544</td>\n",
       "      <td>2</td>\n",
       "    </tr>\n",
       "  </tbody>\n",
       "</table>\n",
       "</div>"
      ],
      "text/plain": [
       "   embedding_x  embedding_y  cluster\n",
       "0     2.110939     2.280515        3\n",
       "1   -11.168382    -2.985210        1\n",
       "2   -11.806499    -3.749706        1\n",
       "3    11.148773    -4.583150        4\n",
       "4     5.252467    -5.936544        2"
      ]
     },
     "execution_count": 42,
     "metadata": {},
     "output_type": "execute_result"
    }
   ],
   "source": [
    "df9 = X.copy()\n",
    "\n",
    "# Adding the clustes \n",
    "df9['cluster'] = labels\n",
    "\n",
    "df9.head()"
   ]
  },
  {
   "cell_type": "markdown",
   "id": "aeee0955",
   "metadata": {
    "papermill": {
     "duration": 0.090944,
     "end_time": "2022-01-27T19:14:51.318325",
     "exception": false,
     "start_time": "2022-01-27T19:14:51.227381",
     "status": "completed"
    },
    "tags": []
   },
   "source": [
    "## 7.2 Cluster Profile"
   ]
  },
  {
   "cell_type": "code",
   "execution_count": 43,
   "id": "fc07a91c",
   "metadata": {
    "execution": {
     "iopub.execute_input": "2022-01-27T19:14:51.508208Z",
     "iopub.status.busy": "2022-01-27T19:14:51.507208Z",
     "iopub.status.idle": "2022-01-27T19:14:51.536217Z",
     "shell.execute_reply": "2022-01-27T19:14:51.535218Z"
    },
    "papermill": {
     "duration": 0.125953,
     "end_time": "2022-01-27T19:14:51.537217",
     "exception": false,
     "start_time": "2022-01-27T19:14:51.411264",
     "status": "completed"
    },
    "tags": []
   },
   "outputs": [
    {
     "data": {
      "text/html": [
       "<div>\n",
       "<style scoped>\n",
       "    .dataframe tbody tr th:only-of-type {\n",
       "        vertical-align: middle;\n",
       "    }\n",
       "\n",
       "    .dataframe tbody tr th {\n",
       "        vertical-align: top;\n",
       "    }\n",
       "\n",
       "    .dataframe thead th {\n",
       "        text-align: right;\n",
       "    }\n",
       "</style>\n",
       "<table border=\"1\" class=\"dataframe\">\n",
       "  <thead>\n",
       "    <tr style=\"text-align: right;\">\n",
       "      <th></th>\n",
       "      <th>customer_id</th>\n",
       "      <th>gross_revenue</th>\n",
       "      <th>recency_days</th>\n",
       "      <th>product_variety</th>\n",
       "      <th>frequency</th>\n",
       "      <th>returns</th>\n",
       "      <th>cluster</th>\n",
       "    </tr>\n",
       "  </thead>\n",
       "  <tbody>\n",
       "    <tr>\n",
       "      <th>0</th>\n",
       "      <td>17850</td>\n",
       "      <td>5391.21</td>\n",
       "      <td>372</td>\n",
       "      <td>21</td>\n",
       "      <td>0.486111</td>\n",
       "      <td>40</td>\n",
       "      <td>3</td>\n",
       "    </tr>\n",
       "    <tr>\n",
       "      <th>1</th>\n",
       "      <td>13047</td>\n",
       "      <td>3232.59</td>\n",
       "      <td>56</td>\n",
       "      <td>105</td>\n",
       "      <td>0.048780</td>\n",
       "      <td>35</td>\n",
       "      <td>1</td>\n",
       "    </tr>\n",
       "    <tr>\n",
       "      <th>2</th>\n",
       "      <td>12583</td>\n",
       "      <td>6705.38</td>\n",
       "      <td>2</td>\n",
       "      <td>114</td>\n",
       "      <td>0.045699</td>\n",
       "      <td>50</td>\n",
       "      <td>1</td>\n",
       "    </tr>\n",
       "    <tr>\n",
       "      <th>3</th>\n",
       "      <td>13748</td>\n",
       "      <td>948.25</td>\n",
       "      <td>95</td>\n",
       "      <td>24</td>\n",
       "      <td>0.017921</td>\n",
       "      <td>0</td>\n",
       "      <td>4</td>\n",
       "    </tr>\n",
       "    <tr>\n",
       "      <th>4</th>\n",
       "      <td>15100</td>\n",
       "      <td>876.00</td>\n",
       "      <td>333</td>\n",
       "      <td>1</td>\n",
       "      <td>0.136364</td>\n",
       "      <td>22</td>\n",
       "      <td>2</td>\n",
       "    </tr>\n",
       "  </tbody>\n",
       "</table>\n",
       "</div>"
      ],
      "text/plain": [
       "   customer_id  gross_revenue  recency_days  product_variety  frequency  \\\n",
       "0        17850        5391.21           372               21   0.486111   \n",
       "1        13047        3232.59            56              105   0.048780   \n",
       "2        12583        6705.38             2              114   0.045699   \n",
       "3        13748         948.25            95               24   0.017921   \n",
       "4        15100         876.00           333                1   0.136364   \n",
       "\n",
       "   returns  cluster  \n",
       "0       40        3  \n",
       "1       35        1  \n",
       "2       50        1  \n",
       "3        0        4  \n",
       "4       22        2  "
      ]
     },
     "execution_count": 43,
     "metadata": {},
     "output_type": "execute_result"
    }
   ],
   "source": [
    "df9 =df4[cols_selected].copy() \n",
    "\n",
    "# Adding the clustes \n",
    "df9['cluster'] = labels\n",
    "\n",
    "# Change data types\n",
    "df9['recency_days'] = df9['recency_days'].astype(int)\n",
    "df9['product_variety'] = df9['product_variety'].astype(int)\n",
    "df9['returns'] = df9['returns'].astype(int)\n",
    "\n",
    "df9.head()"
   ]
  },
  {
   "cell_type": "code",
   "execution_count": 44,
   "id": "51a21aab",
   "metadata": {
    "execution": {
     "iopub.execute_input": "2022-01-27T19:14:51.731247Z",
     "iopub.status.busy": "2022-01-27T19:14:51.724251Z",
     "iopub.status.idle": "2022-01-27T19:14:51.822856Z",
     "shell.execute_reply": "2022-01-27T19:14:51.823855Z"
    },
    "papermill": {
     "duration": 0.198551,
     "end_time": "2022-01-27T19:14:51.823855",
     "exception": false,
     "start_time": "2022-01-27T19:14:51.625304",
     "status": "completed"
    },
    "scrolled": true,
    "tags": []
   },
   "outputs": [
    {
     "data": {
      "text/html": [
       "<div>\n",
       "<style scoped>\n",
       "    .dataframe tbody tr th:only-of-type {\n",
       "        vertical-align: middle;\n",
       "    }\n",
       "\n",
       "    .dataframe tbody tr th {\n",
       "        vertical-align: top;\n",
       "    }\n",
       "\n",
       "    .dataframe thead th {\n",
       "        text-align: right;\n",
       "    }\n",
       "</style>\n",
       "<table border=\"1\" class=\"dataframe\">\n",
       "  <thead>\n",
       "    <tr style=\"text-align: right;\">\n",
       "      <th></th>\n",
       "      <th>cluster</th>\n",
       "      <th>customer_id</th>\n",
       "      <th>perc_customer</th>\n",
       "      <th>gross_revenue</th>\n",
       "      <th>recency_days</th>\n",
       "      <th>product_variety</th>\n",
       "      <th>frequency</th>\n",
       "      <th>returns</th>\n",
       "    </tr>\n",
       "  </thead>\n",
       "  <tbody>\n",
       "    <tr>\n",
       "      <th>1</th>\n",
       "      <td>1</td>\n",
       "      <td>622</td>\n",
       "      <td>10.946850</td>\n",
       "      <td>7045.288939</td>\n",
       "      <td>67.276527</td>\n",
       "      <td>208.196141</td>\n",
       "      <td>0.255821</td>\n",
       "      <td>118.389068</td>\n",
       "    </tr>\n",
       "    <tr>\n",
       "      <th>5</th>\n",
       "      <td>5</td>\n",
       "      <td>776</td>\n",
       "      <td>13.657163</td>\n",
       "      <td>2458.197706</td>\n",
       "      <td>122.063144</td>\n",
       "      <td>150.672680</td>\n",
       "      <td>0.560110</td>\n",
       "      <td>8.587629</td>\n",
       "    </tr>\n",
       "    <tr>\n",
       "      <th>7</th>\n",
       "      <td>7</td>\n",
       "      <td>446</td>\n",
       "      <td>7.849349</td>\n",
       "      <td>2068.398834</td>\n",
       "      <td>91.607623</td>\n",
       "      <td>115.156951</td>\n",
       "      <td>0.380825</td>\n",
       "      <td>11.511211</td>\n",
       "    </tr>\n",
       "    <tr>\n",
       "      <th>2</th>\n",
       "      <td>2</td>\n",
       "      <td>687</td>\n",
       "      <td>12.090813</td>\n",
       "      <td>1646.220568</td>\n",
       "      <td>62.493450</td>\n",
       "      <td>39.042213</td>\n",
       "      <td>0.071745</td>\n",
       "      <td>16.248908</td>\n",
       "    </tr>\n",
       "    <tr>\n",
       "      <th>4</th>\n",
       "      <td>4</td>\n",
       "      <td>1016</td>\n",
       "      <td>17.881028</td>\n",
       "      <td>765.004872</td>\n",
       "      <td>88.320866</td>\n",
       "      <td>23.921260</td>\n",
       "      <td>0.152151</td>\n",
       "      <td>1.621063</td>\n",
       "    </tr>\n",
       "    <tr>\n",
       "      <th>3</th>\n",
       "      <td>3</td>\n",
       "      <td>721</td>\n",
       "      <td>12.689194</td>\n",
       "      <td>753.139778</td>\n",
       "      <td>150.493759</td>\n",
       "      <td>43.177531</td>\n",
       "      <td>0.959256</td>\n",
       "      <td>1.199723</td>\n",
       "    </tr>\n",
       "    <tr>\n",
       "      <th>6</th>\n",
       "      <td>6</td>\n",
       "      <td>707</td>\n",
       "      <td>12.442802</td>\n",
       "      <td>262.280651</td>\n",
       "      <td>174.316832</td>\n",
       "      <td>14.172560</td>\n",
       "      <td>0.953059</td>\n",
       "      <td>0.575672</td>\n",
       "    </tr>\n",
       "    <tr>\n",
       "      <th>0</th>\n",
       "      <td>0</td>\n",
       "      <td>707</td>\n",
       "      <td>12.442802</td>\n",
       "      <td>240.569675</td>\n",
       "      <td>173.328147</td>\n",
       "      <td>9.237624</td>\n",
       "      <td>0.909091</td>\n",
       "      <td>0.499293</td>\n",
       "    </tr>\n",
       "  </tbody>\n",
       "</table>\n",
       "</div>"
      ],
      "text/plain": [
       "   cluster  customer_id  perc_customer  gross_revenue  recency_days  \\\n",
       "1        1          622      10.946850    7045.288939     67.276527   \n",
       "5        5          776      13.657163    2458.197706    122.063144   \n",
       "7        7          446       7.849349    2068.398834     91.607623   \n",
       "2        2          687      12.090813    1646.220568     62.493450   \n",
       "4        4         1016      17.881028     765.004872     88.320866   \n",
       "3        3          721      12.689194     753.139778    150.493759   \n",
       "6        6          707      12.442802     262.280651    174.316832   \n",
       "0        0          707      12.442802     240.569675    173.328147   \n",
       "\n",
       "   product_variety  frequency     returns  \n",
       "1       208.196141   0.255821  118.389068  \n",
       "5       150.672680   0.560110    8.587629  \n",
       "7       115.156951   0.380825   11.511211  \n",
       "2        39.042213   0.071745   16.248908  \n",
       "4        23.921260   0.152151    1.621063  \n",
       "3        43.177531   0.959256    1.199723  \n",
       "6        14.172560   0.953059    0.575672  \n",
       "0         9.237624   0.909091    0.499293  "
      ]
     },
     "execution_count": 44,
     "metadata": {},
     "output_type": "execute_result"
    }
   ],
   "source": [
    "# Number of customers\n",
    "df_cluster = df9[['customer_id', 'cluster']].groupby( 'cluster' ).count().reset_index()\n",
    "df_cluster['perc_customer'] = 100*( df_cluster['customer_id'] / df_cluster['customer_id'].sum() )\n",
    "\n",
    "# Average Gross Revenue\n",
    "df_avg_gross_rev = df9[['gross_revenue','cluster']].groupby('cluster').mean().reset_index()\n",
    "df_cluster = pd.merge(df_cluster, df_avg_gross_rev, how='inner',on='cluster')\n",
    "\n",
    "# Average Recency Days\n",
    "df_avg_rec_days = df9[['recency_days','cluster']].groupby('cluster').mean().reset_index()\n",
    "df_cluster = pd.merge(df_cluster, df_avg_rec_days, how='inner',on='cluster')\n",
    "\n",
    "\n",
    "# Average Product Variety\n",
    "df_avg_pv = df9[['product_variety','cluster']].groupby('cluster').mean().reset_index()\n",
    "df_cluster = pd.merge(df_cluster, df_avg_pv, how='inner',on='cluster')\n",
    "\n",
    "# Average frequency\n",
    "df_freq = df9[['frequency','cluster']].groupby('cluster').mean().reset_index()\n",
    "df_cluster = pd.merge(df_cluster, df_freq, how='inner',on='cluster')\n",
    "\n",
    "# Average Returns\n",
    "df_cg = df9[['returns','cluster']].groupby('cluster').mean().reset_index()\n",
    "df_cluster = pd.merge(df_cluster, df_cg, how='inner',on='cluster')\n",
    "\n",
    "# Assign cluster Insiders number\n",
    "insiders = df_cluster.sort_values(by='gross_revenue', ascending=False).cluster.to_list()[0]\n",
    "\n",
    "# Clusters sorted by gross revenue\n",
    "df_cluster.sort_values(by='gross_revenue', ascending=False)"
   ]
  },
  {
   "cell_type": "markdown",
   "id": "28591a18",
   "metadata": {
    "papermill": {
     "duration": 0.092949,
     "end_time": "2022-01-27T19:14:52.013437",
     "exception": false,
     "start_time": "2022-01-27T19:14:51.920488",
     "status": "completed"
    },
    "tags": []
   },
   "source": [
    "**Cluster Names Ideas:**\n",
    "* 1 Cluster Insiders\n",
    "* 5 Cluster More Products\n",
    "* 7 Cluster Spend Money \n",
    "* 2 Cluster Even More Products\n",
    "* 4 Cluster Less Days\n",
    "* 3 Cluster Less 1k\n",
    "* 6 Cluster Stop Returners\n",
    "* 0 Cluster More Purchases"
   ]
  },
  {
   "cell_type": "markdown",
   "id": "7777a528",
   "metadata": {
    "papermill": {
     "duration": 0.088948,
     "end_time": "2022-01-27T19:14:52.199324",
     "exception": false,
     "start_time": "2022-01-27T19:14:52.110376",
     "status": "completed"
    },
    "tags": []
   },
   "source": [
    "# 8.0 Deploy"
   ]
  },
  {
   "cell_type": "markdown",
   "id": "ebf37a58",
   "metadata": {
    "papermill": {
     "duration": 0.112932,
     "end_time": "2022-01-27T19:14:52.411193",
     "exception": false,
     "start_time": "2022-01-27T19:14:52.298261",
     "status": "completed"
    },
    "tags": []
   },
   "source": [
    "## 8.1 Insert into SQLite"
   ]
  },
  {
   "cell_type": "code",
   "execution_count": 45,
   "id": "505a7780",
   "metadata": {
    "execution": {
     "iopub.execute_input": "2022-01-27T19:14:52.604073Z",
     "iopub.status.busy": "2022-01-27T19:14:52.603074Z",
     "iopub.status.idle": "2022-01-27T19:14:52.993027Z",
     "shell.execute_reply": "2022-01-27T19:14:52.994025Z"
    },
    "papermill": {
     "duration": 0.48989,
     "end_time": "2022-01-27T19:14:52.995024",
     "exception": false,
     "start_time": "2022-01-27T19:14:52.505134",
     "status": "completed"
    },
    "tags": []
   },
   "outputs": [
    {
     "name": "stdout",
     "output_type": "stream",
     "text": [
      "(28410, 7)\n"
     ]
    },
    {
     "data": {
      "text/html": [
       "<div>\n",
       "<style scoped>\n",
       "    .dataframe tbody tr th:only-of-type {\n",
       "        vertical-align: middle;\n",
       "    }\n",
       "\n",
       "    .dataframe tbody tr th {\n",
       "        vertical-align: top;\n",
       "    }\n",
       "\n",
       "    .dataframe thead th {\n",
       "        text-align: right;\n",
       "    }\n",
       "</style>\n",
       "<table border=\"1\" class=\"dataframe\">\n",
       "  <thead>\n",
       "    <tr style=\"text-align: right;\">\n",
       "      <th></th>\n",
       "      <th>customer_id</th>\n",
       "      <th>gross_revenue</th>\n",
       "      <th>recency_days</th>\n",
       "      <th>product_variety</th>\n",
       "      <th>frequency</th>\n",
       "      <th>returns</th>\n",
       "      <th>cluster</th>\n",
       "    </tr>\n",
       "  </thead>\n",
       "  <tbody>\n",
       "    <tr>\n",
       "      <th>0</th>\n",
       "      <td>17850</td>\n",
       "      <td>5391.21</td>\n",
       "      <td>372</td>\n",
       "      <td>21</td>\n",
       "      <td>0.486111</td>\n",
       "      <td>40</td>\n",
       "      <td>3</td>\n",
       "    </tr>\n",
       "    <tr>\n",
       "      <th>1</th>\n",
       "      <td>13047</td>\n",
       "      <td>3232.59</td>\n",
       "      <td>56</td>\n",
       "      <td>105</td>\n",
       "      <td>0.048780</td>\n",
       "      <td>35</td>\n",
       "      <td>1</td>\n",
       "    </tr>\n",
       "    <tr>\n",
       "      <th>2</th>\n",
       "      <td>12583</td>\n",
       "      <td>6705.38</td>\n",
       "      <td>2</td>\n",
       "      <td>114</td>\n",
       "      <td>0.045699</td>\n",
       "      <td>50</td>\n",
       "      <td>1</td>\n",
       "    </tr>\n",
       "    <tr>\n",
       "      <th>3</th>\n",
       "      <td>13748</td>\n",
       "      <td>948.25</td>\n",
       "      <td>95</td>\n",
       "      <td>24</td>\n",
       "      <td>0.017921</td>\n",
       "      <td>0</td>\n",
       "      <td>4</td>\n",
       "    </tr>\n",
       "    <tr>\n",
       "      <th>4</th>\n",
       "      <td>15100</td>\n",
       "      <td>876.00</td>\n",
       "      <td>333</td>\n",
       "      <td>1</td>\n",
       "      <td>0.136364</td>\n",
       "      <td>22</td>\n",
       "      <td>2</td>\n",
       "    </tr>\n",
       "  </tbody>\n",
       "</table>\n",
       "</div>"
      ],
      "text/plain": [
       "   customer_id  gross_revenue  recency_days  product_variety  frequency  \\\n",
       "0        17850        5391.21           372               21   0.486111   \n",
       "1        13047        3232.59            56              105   0.048780   \n",
       "2        12583        6705.38             2              114   0.045699   \n",
       "3        13748         948.25            95               24   0.017921   \n",
       "4        15100         876.00           333                1   0.136364   \n",
       "\n",
       "   returns  cluster  \n",
       "0       40        3  \n",
       "1       35        1  \n",
       "2       50        1  \n",
       "3        0        4  \n",
       "4       22        2  "
      ]
     },
     "execution_count": 45,
     "metadata": {},
     "output_type": "execute_result"
    }
   ],
   "source": [
    "from sqlalchemy import create_engine\n",
    "\n",
    "# Drop Last Table\n",
    "query_drop_table = \"\"\"\n",
    "    DROP TABLE insiders\n",
    "\"\"\"\n",
    "\n",
    "conn = sqlite3.connect('src\\\\data\\\\insiders_db.sqlite')\n",
    "conn.execute(query_drop_table)\n",
    "conn.commit()\n",
    "\n",
    "# Create table\n",
    "\n",
    "query_create_table_insiders = \"\"\"\n",
    "    CREATE TABLE insiders (\n",
    "        customer_id     INTEGER,\n",
    "        gross_revenue   REAL,\n",
    "        recency_days    INTERGER,\n",
    "        product_variety INTERGER,\n",
    "        frequency       REAL,\n",
    "        returns         INTEGER,\n",
    "        cluster         INTEGER\n",
    "    \n",
    "    )\n",
    "\n",
    "\"\"\"\n",
    "\n",
    "conn.execute( query_create_table_insiders )\n",
    "conn.commit()\n",
    "\n",
    "# Insert data\n",
    "conn = create_engine( 'sqlite:///insiders_db.sqlite')\n",
    "df9.to_sql('insiders', con=conn, if_exists= 'append', index= False) #Index = False\n",
    "\n",
    "\n",
    "# Select data\n",
    "query = '''\n",
    "    SELECT * FROM insiders\n",
    "\n",
    "'''\n",
    "df_query = pd.read_sql_query(query, con=conn)\n",
    "\n",
    "#conn.commit()\n",
    "#conn.close()\n",
    "\n",
    "# Check database table\n",
    "print(df_query.shape)\n",
    "df_query.head()"
   ]
  }
 ],
 "metadata": {
  "kernelspec": {
   "display_name": "Python 3",
   "language": "python",
   "name": "python3"
  },
  "language_info": {
   "codemirror_mode": {
    "name": "ipython",
    "version": 3
   },
   "file_extension": ".py",
   "mimetype": "text/x-python",
   "name": "python",
   "nbconvert_exporter": "python",
   "pygments_lexer": "ipython3",
   "version": "3.7.6"
  },
  "papermill": {
   "default_parameters": {},
   "duration": 106.081612,
   "end_time": "2022-01-27T19:14:54.943128",
   "environment_variables": {},
   "exception": null,
   "input_path": "src\\models\\c13.0-vzz-deploy-src.ipynb",
   "output_path": "reports\\c13.0-vzz-deploy-src_27_01_2022.ipynb",
   "parameters": {},
   "start_time": "2022-01-27T19:13:08.861516",
   "version": "2.3.3"
  }
 },
 "nbformat": 4,
 "nbformat_minor": 5
}