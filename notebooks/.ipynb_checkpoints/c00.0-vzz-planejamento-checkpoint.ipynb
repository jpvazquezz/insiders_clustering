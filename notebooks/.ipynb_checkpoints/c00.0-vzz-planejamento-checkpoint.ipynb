{
 "cells": [
  {
   "cell_type": "markdown",
   "id": "guided-quilt",
   "metadata": {},
   "source": [
    "## 0.0 Planejamento da solução (IOT)"
   ]
  },
  {
   "cell_type": "markdown",
   "id": "modified-footwear",
   "metadata": {},
   "source": [
    "## Inputs (entradas)"
   ]
  },
  {
   "cell_type": "markdown",
   "id": "metric-embassy",
   "metadata": {},
   "source": [
    "1. Problema de negócio: selecionar os clientes mais valiosos para integrar um programa de fidelização\n",
    "2. Conjunto de dados: venda de um E-commerce no período de 1 ano.\n",
    "    "
   ]
  },
  {
   "cell_type": "markdown",
   "id": "southern-special",
   "metadata": {},
   "source": [
    "## Output (saídas)"
   ]
  },
  {
   "cell_type": "markdown",
   "id": "experimental-nutrition",
   "metadata": {},
   "source": [
    "1. Indicação das pessoas que farão parte do programa de fidelização Insiders\n",
    "    - Lista: client_id | is_insider (Yes/ No)\n",
    "    \n",
    "    \n",
    "2. Relatório com as respostas para as perguntas de negócio\n",
    "\n",
    "    * Quem são as pessoas elegíveis para participar do programa de Insiders ?\n",
    "    * Quantos clientes farão parte do grupo?\n",
    "    * Quais as principais características desses clientes ?\n",
    "    * Qual a porcentagem de contribuição do faturamento, vinda do Insiders ?\n",
    "    * Qual a expectativa de faturamento desse grupo para os próximos meses ?\n",
    "    * Quais as condições para uma pessoa ser elegível ao Insiders ?\n",
    "    * Quais as condições para uma pessoa ser removida do Insiders ?\n",
    "    * Qual a garantia que o programa Insiders é melhor que o restante da base ?\n",
    "    * Quais ações o time de marketing pode realizar para aumentar o faturamento?\n",
    "\n"
   ]
  },
  {
   "cell_type": "markdown",
   "id": "streaming-century",
   "metadata": {},
   "source": [
    "## Tasks (Tarefas)"
   ]
  },
  {
   "cell_type": "markdown",
   "id": "primary-entrepreneur",
   "metadata": {},
   "source": [
    "1. Quem são as pessoas elegíveis para participar do programa de Insiders ?\n",
    "    - O que são clientes de maior valor (conversar com o time de negócio): \n",
    "         - Faturamento: \n",
    "               - Alto ticket médio (média dos produtos comprados)\n",
    "               - Alto LTV (quando se gastou na empresa ao longo do tempo)\n",
    "               - Baixa Recência (intervalo entre as compras)\n",
    "               - Alto basket size (tamanho da cesta de compras)\n",
    "               - Baixa probabilidade de churn (churn = quando a pessoa deixa de comprar/contratar serviço)\n",
    "               - Alta previsão LTV\n",
    "          - Custo:\n",
    "               - Baixa taxa de devolução\n",
    "        \n",
    "        \n",
    "         - Experiência de comprada: \n",
    "             - Média alta das avaliações\n",
    "        \n",
    "        \n",
    "        \n",
    "* Quantos clientes farão parte do grupo?\n",
    "    - Número total de clientes\n",
    "    - % do grupo Insiders\n",
    "* Quais as principais características desses clientes ?\n",
    "    - Escrever características dos clintes:\n",
    "        - Idades\n",
    "        - Localização\n",
    "    - Escrever características do consumo\n",
    "        - Atributos da clusterização        \n",
    "* Qual a porcentagem de contribuição do faturamento, vinda do Insiders ?\n",
    "    - Faturamento total do ano\n",
    "    - Faturamento do grupo Insiders\n",
    "    \n",
    "* Qual a expectativa de faturamento desse grupo para os próximos meses ?\n",
    "    - LTV do grupo Insiders (pegar o histórico desses clientes e faazer um ARIMA)\n",
    "    - Análide de Cohort (anáise que marca a pessoa no tempo\n",
    "    - \n",
    "* Quais as condições para uma pessoa ser elegível ao Insiders ?\n",
    "    - Definir a periodicidade (para rodar o modelo (1 mês, 3 meses)\n",
    "    - A pessoa precisa ser similar ou parecido com uma pessoa grupo\n",
    "    \n",
    "* Quais as condições para uma pessoa ser removida do Insiders ?\n",
    "    - Definir a periodicidade (para rodar o modelo (1 mês, 3 meses)\n",
    "    - A pessoa precisa ser dissimilar ou nao-parecido com uma pessoa grupo\n",
    "    \n",
    "* Qual a garantia que o programa Insiders é melhor que o restante da base ?\n",
    "    - Teste A/B\n",
    "    - Teste A/B Bayesiano\n",
    "    - Teste de hipótese\n",
    "  \n",
    "* Quais ações o time de marketing pode realizar para aumentar o faturamento?\n",
    "    - Desconto\n",
    "    - Preferência de compra\n",
    "    - Frete"
   ]
  },
  {
   "cell_type": "markdown",
   "id": "declared-personality",
   "metadata": {},
   "source": [
    "## Benchmark de soluções\n",
    "### Procurando soluções similares com contextos e negócios diferentes\n"
   ]
  },
  {
   "cell_type": "markdown",
   "id": "offensive-treasure",
   "metadata": {},
   "source": [
    "1. Desk Research\n"
   ]
  }
 ],
 "metadata": {
  "kernelspec": {
   "display_name": "Python 3",
   "language": "python",
   "name": "python3"
  },
  "language_info": {
   "codemirror_mode": {
    "name": "ipython",
    "version": 3
   },
   "file_extension": ".py",
   "mimetype": "text/x-python",
   "name": "python",
   "nbconvert_exporter": "python",
   "pygments_lexer": "ipython3",
   "version": "3.7.6"
  }
 },
 "nbformat": 4,
 "nbformat_minor": 5
}
