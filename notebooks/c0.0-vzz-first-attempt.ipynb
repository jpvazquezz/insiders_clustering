{
 "cells": [
  {
   "cell_type": "markdown",
   "id": "african-gender",
   "metadata": {},
   "source": [
    "# 0.0 Imports"
   ]
  },
  {
   "cell_type": "code",
   "execution_count": 228,
   "id": "sealed-mayor",
   "metadata": {},
   "outputs": [],
   "source": [
    "import pandas as pd\n",
    "import seaborn as sns\n",
    "import matplotlib.pyplot as plt\n",
    "import inflection\n",
    "import datetime as dt\n",
    "import re\n",
    "import warnings\n",
    "\n",
    "from IPython.display import Image\n",
    "from IPython.core.display import HTML\n",
    "warnings.filterwarnings('ignore')"
   ]
  },
  {
   "cell_type": "markdown",
   "id": "tired-breakfast",
   "metadata": {},
   "source": [
    "## 0.2 Loading Data"
   ]
  },
  {
   "cell_type": "code",
   "execution_count": 2,
   "id": "endangered-bulgarian",
   "metadata": {},
   "outputs": [],
   "source": [
    "df = pd.read_csv('../data/raw/Ecommerce.csv')\n",
    "df.drop('Unnamed: 8', axis=1,inplace=True)"
   ]
  },
  {
   "cell_type": "markdown",
   "id": "legislative-greece",
   "metadata": {},
   "source": [
    "# 1.0 Data Description"
   ]
  },
  {
   "cell_type": "code",
   "execution_count": 3,
   "id": "constant-viewer",
   "metadata": {},
   "outputs": [],
   "source": [
    "df1 = df.copy()"
   ]
  },
  {
   "cell_type": "markdown",
   "id": "functioning-programming",
   "metadata": {},
   "source": [
    "* Invoice Number: identificador único de cada transação.\n",
    "* Stock Code Product: código do item.\n",
    "* Description Product: nome do item\n",
    "* Quantity: A quantidade de cada item comprado por transação.\n",
    "* Invoice Date: O dia em que a transação ocorreu\n",
    "* Unit Price: Preço do produto por unidade\n",
    "* Customer ID: identificador único do cliente\n",
    "* Country: O nome do país que o cliente resid"
   ]
  },
  {
   "cell_type": "code",
   "execution_count": 4,
   "id": "spectacular-filing",
   "metadata": {},
   "outputs": [
    {
     "data": {
      "text/html": [
       "<div>\n",
       "<style scoped>\n",
       "    .dataframe tbody tr th:only-of-type {\n",
       "        vertical-align: middle;\n",
       "    }\n",
       "\n",
       "    .dataframe tbody tr th {\n",
       "        vertical-align: top;\n",
       "    }\n",
       "\n",
       "    .dataframe thead th {\n",
       "        text-align: right;\n",
       "    }\n",
       "</style>\n",
       "<table border=\"1\" class=\"dataframe\">\n",
       "  <thead>\n",
       "    <tr style=\"text-align: right;\">\n",
       "      <th></th>\n",
       "      <th>InvoiceNo</th>\n",
       "      <th>StockCode</th>\n",
       "      <th>Description</th>\n",
       "      <th>Quantity</th>\n",
       "      <th>InvoiceDate</th>\n",
       "      <th>UnitPrice</th>\n",
       "      <th>CustomerID</th>\n",
       "      <th>Country</th>\n",
       "    </tr>\n",
       "  </thead>\n",
       "  <tbody>\n",
       "    <tr>\n",
       "      <th>0</th>\n",
       "      <td>536365</td>\n",
       "      <td>85123A</td>\n",
       "      <td>WHITE HANGING HEART T-LIGHT HOLDER</td>\n",
       "      <td>6</td>\n",
       "      <td>29-Nov-16</td>\n",
       "      <td>2.55</td>\n",
       "      <td>17850.0</td>\n",
       "      <td>United Kingdom</td>\n",
       "    </tr>\n",
       "    <tr>\n",
       "      <th>1</th>\n",
       "      <td>536365</td>\n",
       "      <td>71053</td>\n",
       "      <td>WHITE METAL LANTERN</td>\n",
       "      <td>6</td>\n",
       "      <td>29-Nov-16</td>\n",
       "      <td>3.39</td>\n",
       "      <td>17850.0</td>\n",
       "      <td>United Kingdom</td>\n",
       "    </tr>\n",
       "    <tr>\n",
       "      <th>2</th>\n",
       "      <td>536365</td>\n",
       "      <td>84406B</td>\n",
       "      <td>CREAM CUPID HEARTS COAT HANGER</td>\n",
       "      <td>8</td>\n",
       "      <td>29-Nov-16</td>\n",
       "      <td>2.75</td>\n",
       "      <td>17850.0</td>\n",
       "      <td>United Kingdom</td>\n",
       "    </tr>\n",
       "    <tr>\n",
       "      <th>3</th>\n",
       "      <td>536365</td>\n",
       "      <td>84029G</td>\n",
       "      <td>KNITTED UNION FLAG HOT WATER BOTTLE</td>\n",
       "      <td>6</td>\n",
       "      <td>29-Nov-16</td>\n",
       "      <td>3.39</td>\n",
       "      <td>17850.0</td>\n",
       "      <td>United Kingdom</td>\n",
       "    </tr>\n",
       "    <tr>\n",
       "      <th>4</th>\n",
       "      <td>536365</td>\n",
       "      <td>84029E</td>\n",
       "      <td>RED WOOLLY HOTTIE WHITE HEART.</td>\n",
       "      <td>6</td>\n",
       "      <td>29-Nov-16</td>\n",
       "      <td>3.39</td>\n",
       "      <td>17850.0</td>\n",
       "      <td>United Kingdom</td>\n",
       "    </tr>\n",
       "  </tbody>\n",
       "</table>\n",
       "</div>"
      ],
      "text/plain": [
       "  InvoiceNo StockCode                          Description  Quantity  \\\n",
       "0    536365    85123A   WHITE HANGING HEART T-LIGHT HOLDER         6   \n",
       "1    536365     71053                  WHITE METAL LANTERN         6   \n",
       "2    536365    84406B       CREAM CUPID HEARTS COAT HANGER         8   \n",
       "3    536365    84029G  KNITTED UNION FLAG HOT WATER BOTTLE         6   \n",
       "4    536365    84029E       RED WOOLLY HOTTIE WHITE HEART.         6   \n",
       "\n",
       "  InvoiceDate  UnitPrice  CustomerID         Country  \n",
       "0   29-Nov-16       2.55     17850.0  United Kingdom  \n",
       "1   29-Nov-16       3.39     17850.0  United Kingdom  \n",
       "2   29-Nov-16       2.75     17850.0  United Kingdom  \n",
       "3   29-Nov-16       3.39     17850.0  United Kingdom  \n",
       "4   29-Nov-16       3.39     17850.0  United Kingdom  "
      ]
     },
     "execution_count": 4,
     "metadata": {},
     "output_type": "execute_result"
    }
   ],
   "source": [
    "df1.head()"
   ]
  },
  {
   "cell_type": "markdown",
   "id": "anonymous-despite",
   "metadata": {},
   "source": [
    "## 1.1 Rename Columns"
   ]
  },
  {
   "cell_type": "code",
   "execution_count": 5,
   "id": "acoustic-mayor",
   "metadata": {},
   "outputs": [],
   "source": [
    "old_cols = df1.columns.tolist()\n",
    "\n",
    "snakecase = lambda x: inflection.underscore(x)\n",
    "\n",
    "new_cols = list(map(snakecase,old_cols))\n",
    "\n",
    "# Rename columns\n",
    "df1.columns = new_cols"
   ]
  },
  {
   "cell_type": "markdown",
   "id": "theoretical-paris",
   "metadata": {},
   "source": [
    "## 1.2 Data Dimension"
   ]
  },
  {
   "cell_type": "code",
   "execution_count": 6,
   "id": "mighty-aaron",
   "metadata": {},
   "outputs": [
    {
     "name": "stdout",
     "output_type": "stream",
     "text": [
      "Number of row: 541909\n",
      "Number of columns: 8\n"
     ]
    }
   ],
   "source": [
    "print('Number of row: {}'.format(df1.shape[0]))\n",
    "print('Number of columns: {}'.format(df1.shape[1]))"
   ]
  },
  {
   "cell_type": "markdown",
   "id": "treated-fairy",
   "metadata": {},
   "source": [
    "## 1.3 Data Types"
   ]
  },
  {
   "cell_type": "code",
   "execution_count": 7,
   "id": "departmental-jonathan",
   "metadata": {
    "scrolled": true
   },
   "outputs": [
    {
     "data": {
      "text/plain": [
       "invoice_no       object\n",
       "stock_code       object\n",
       "description      object\n",
       "quantity          int64\n",
       "invoice_date     object\n",
       "unit_price      float64\n",
       "customer_id     float64\n",
       "country          object\n",
       "dtype: object"
      ]
     },
     "execution_count": 7,
     "metadata": {},
     "output_type": "execute_result"
    }
   ],
   "source": [
    "df1.dtypes "
   ]
  },
  {
   "cell_type": "markdown",
   "id": "spectacular-cloud",
   "metadata": {},
   "source": [
    "## 1.4 Changing Data Types"
   ]
  },
  {
   "cell_type": "markdown",
   "id": "every-determination",
   "metadata": {},
   "source": [
    "Converting `invoice_date` from object to datetime."
   ]
  },
  {
   "cell_type": "code",
   "execution_count": 8,
   "id": "informative-kennedy",
   "metadata": {},
   "outputs": [],
   "source": [
    "df1.invoice_date = pd.to_datetime(df1.invoice_date)"
   ]
  },
  {
   "cell_type": "markdown",
   "id": "violent-weight",
   "metadata": {},
   "source": [
    "Converting `customer_id` from float to string, preserving the null values."
   ]
  },
  {
   "cell_type": "code",
   "execution_count": 9,
   "id": "architectural-intake",
   "metadata": {},
   "outputs": [
    {
     "data": {
      "text/plain": [
       "dtype('O')"
      ]
     },
     "execution_count": 9,
     "metadata": {},
     "output_type": "execute_result"
    }
   ],
   "source": [
    "df1.customer_id[df1.customer_id.notnull()] = df1.customer_id[df1.customer_id.notnull()].astype(str)\n",
    "df1.customer_id.dtypes"
   ]
  },
  {
   "cell_type": "markdown",
   "id": "wanted-breakfast",
   "metadata": {},
   "source": [
    "## 1.5 Null Values"
   ]
  },
  {
   "cell_type": "code",
   "execution_count": 10,
   "id": "military-security",
   "metadata": {},
   "outputs": [
    {
     "data": {
      "text/plain": [
       "description      1454\n",
       "customer_id    135080\n",
       "dtype: int64"
      ]
     },
     "execution_count": 10,
     "metadata": {},
     "output_type": "execute_result"
    }
   ],
   "source": [
    "df1.isna().sum()[df1.isna().sum()>0]"
   ]
  },
  {
   "cell_type": "code",
   "execution_count": 11,
   "id": "medical-motivation",
   "metadata": {},
   "outputs": [
    {
     "data": {
      "text/plain": [
       "0.249266943342886"
      ]
     },
     "execution_count": 11,
     "metadata": {},
     "output_type": "execute_result"
    }
   ],
   "source": [
    "# Percent of NAs in customer_id\n",
    "df1.customer_id.isna().sum()/df.shape[0]"
   ]
  },
  {
   "cell_type": "markdown",
   "id": "official-expansion",
   "metadata": {},
   "source": [
    "As we can see, customer_id has almost 25% of its observation as null values. This implicates in more diffifulty in terms of creating the Insiders lists of customers. Some doubts arrise: can we assume that each NA is an single different customer? Do they repeat? How to input these values?\n",
    "\n",
    "We may figure this out analysing `customer_id` unique values furthermore. "
   ]
  },
  {
   "cell_type": "markdown",
   "id": "bound-choice",
   "metadata": {},
   "source": [
    "## 1.6 Descriptive statistics"
   ]
  },
  {
   "cell_type": "code",
   "execution_count": 12,
   "id": "continuing-covering",
   "metadata": {
    "scrolled": true
   },
   "outputs": [
    {
     "data": {
      "text/plain": [
       "4372"
      ]
     },
     "execution_count": 12,
     "metadata": {},
     "output_type": "execute_result"
    }
   ],
   "source": [
    "# Number of unique customers\n",
    "df1.customer_id.nunique() "
   ]
  },
  {
   "cell_type": "code",
   "execution_count": 13,
   "id": "quick-virtue",
   "metadata": {},
   "outputs": [
    {
     "name": "stdout",
     "output_type": "stream",
     "text": [
      "93.05329368709972\n"
     ]
    }
   ],
   "source": [
    "# Amount of transaction with a known customer\n",
    "t = df1.shape[0]-135080 # Nº of customer_id NAs\n",
    "# Average of transactions per customer\n",
    "print(t/4372)"
   ]
  },
  {
   "cell_type": "markdown",
   "id": "transsexual-footwear",
   "metadata": {},
   "source": [
    "### 1.6 Numerical Variable"
   ]
  },
  {
   "cell_type": "code",
   "execution_count": 14,
   "id": "streaming-access",
   "metadata": {
    "scrolled": true
   },
   "outputs": [
    {
     "data": {
      "text/html": [
       "<div>\n",
       "<style scoped>\n",
       "    .dataframe tbody tr th:only-of-type {\n",
       "        vertical-align: middle;\n",
       "    }\n",
       "\n",
       "    .dataframe tbody tr th {\n",
       "        vertical-align: top;\n",
       "    }\n",
       "\n",
       "    .dataframe thead th {\n",
       "        text-align: right;\n",
       "    }\n",
       "</style>\n",
       "<table border=\"1\" class=\"dataframe\">\n",
       "  <thead>\n",
       "    <tr style=\"text-align: right;\">\n",
       "      <th></th>\n",
       "      <th>quantity</th>\n",
       "      <th>unit_price</th>\n",
       "    </tr>\n",
       "  </thead>\n",
       "  <tbody>\n",
       "    <tr>\n",
       "      <th>count</th>\n",
       "      <td>541909.000000</td>\n",
       "      <td>541909.000000</td>\n",
       "    </tr>\n",
       "    <tr>\n",
       "      <th>mean</th>\n",
       "      <td>9.552250</td>\n",
       "      <td>4.611114</td>\n",
       "    </tr>\n",
       "    <tr>\n",
       "      <th>std</th>\n",
       "      <td>218.081158</td>\n",
       "      <td>96.759853</td>\n",
       "    </tr>\n",
       "    <tr>\n",
       "      <th>min</th>\n",
       "      <td>-80995.000000</td>\n",
       "      <td>-11062.060000</td>\n",
       "    </tr>\n",
       "    <tr>\n",
       "      <th>25%</th>\n",
       "      <td>1.000000</td>\n",
       "      <td>1.250000</td>\n",
       "    </tr>\n",
       "    <tr>\n",
       "      <th>50%</th>\n",
       "      <td>3.000000</td>\n",
       "      <td>2.080000</td>\n",
       "    </tr>\n",
       "    <tr>\n",
       "      <th>75%</th>\n",
       "      <td>10.000000</td>\n",
       "      <td>4.130000</td>\n",
       "    </tr>\n",
       "    <tr>\n",
       "      <th>max</th>\n",
       "      <td>80995.000000</td>\n",
       "      <td>38970.000000</td>\n",
       "    </tr>\n",
       "  </tbody>\n",
       "</table>\n",
       "</div>"
      ],
      "text/plain": [
       "            quantity     unit_price\n",
       "count  541909.000000  541909.000000\n",
       "mean        9.552250       4.611114\n",
       "std       218.081158      96.759853\n",
       "min    -80995.000000  -11062.060000\n",
       "25%         1.000000       1.250000\n",
       "50%         3.000000       2.080000\n",
       "75%        10.000000       4.130000\n",
       "max     80995.000000   38970.000000"
      ]
     },
     "execution_count": 14,
     "metadata": {},
     "output_type": "execute_result"
    }
   ],
   "source": [
    "df1[['quantity', 'unit_price']].describe()"
   ]
  },
  {
   "cell_type": "markdown",
   "id": "level-intensity",
   "metadata": {},
   "source": [
    "The presence of negative values corresponds to products' return and chargeback. This can be seen by the example above where there is the exact same value of `quantity` for both max and min and their signs opposition. Other interesting point to express is prevalence of small quantities in the transations and small price per unit: 75% of the transaction have up to 10 product units and cost up to $4.13."
   ]
  },
  {
   "cell_type": "code",
   "execution_count": 15,
   "id": "artistic-theta",
   "metadata": {
    "scrolled": true
   },
   "outputs": [
    {
     "data": {
      "text/html": [
       "<div>\n",
       "<style scoped>\n",
       "    .dataframe tbody tr th:only-of-type {\n",
       "        vertical-align: middle;\n",
       "    }\n",
       "\n",
       "    .dataframe tbody tr th {\n",
       "        vertical-align: top;\n",
       "    }\n",
       "\n",
       "    .dataframe thead th {\n",
       "        text-align: right;\n",
       "    }\n",
       "</style>\n",
       "<table border=\"1\" class=\"dataframe\">\n",
       "  <thead>\n",
       "    <tr style=\"text-align: right;\">\n",
       "      <th></th>\n",
       "      <th>invoice_no</th>\n",
       "      <th>stock_code</th>\n",
       "      <th>description</th>\n",
       "      <th>quantity</th>\n",
       "      <th>invoice_date</th>\n",
       "      <th>unit_price</th>\n",
       "      <th>customer_id</th>\n",
       "      <th>country</th>\n",
       "    </tr>\n",
       "  </thead>\n",
       "  <tbody>\n",
       "    <tr>\n",
       "      <th>141</th>\n",
       "      <td>C536379</td>\n",
       "      <td>D</td>\n",
       "      <td>Discount</td>\n",
       "      <td>-1</td>\n",
       "      <td>2016-11-29</td>\n",
       "      <td>27.50</td>\n",
       "      <td>14527.0</td>\n",
       "      <td>United Kingdom</td>\n",
       "    </tr>\n",
       "    <tr>\n",
       "      <th>154</th>\n",
       "      <td>C536383</td>\n",
       "      <td>35004C</td>\n",
       "      <td>SET OF 3 COLOURED  FLYING DUCKS</td>\n",
       "      <td>-1</td>\n",
       "      <td>2016-11-29</td>\n",
       "      <td>4.65</td>\n",
       "      <td>15311.0</td>\n",
       "      <td>United Kingdom</td>\n",
       "    </tr>\n",
       "    <tr>\n",
       "      <th>235</th>\n",
       "      <td>C536391</td>\n",
       "      <td>22556</td>\n",
       "      <td>PLASTERS IN TIN CIRCUS PARADE</td>\n",
       "      <td>-12</td>\n",
       "      <td>2016-11-29</td>\n",
       "      <td>1.65</td>\n",
       "      <td>17548.0</td>\n",
       "      <td>United Kingdom</td>\n",
       "    </tr>\n",
       "    <tr>\n",
       "      <th>236</th>\n",
       "      <td>C536391</td>\n",
       "      <td>21984</td>\n",
       "      <td>PACK OF 12 PINK PAISLEY TISSUES</td>\n",
       "      <td>-24</td>\n",
       "      <td>2016-11-29</td>\n",
       "      <td>0.29</td>\n",
       "      <td>17548.0</td>\n",
       "      <td>United Kingdom</td>\n",
       "    </tr>\n",
       "    <tr>\n",
       "      <th>237</th>\n",
       "      <td>C536391</td>\n",
       "      <td>21983</td>\n",
       "      <td>PACK OF 12 BLUE PAISLEY TISSUES</td>\n",
       "      <td>-24</td>\n",
       "      <td>2016-11-29</td>\n",
       "      <td>0.29</td>\n",
       "      <td>17548.0</td>\n",
       "      <td>United Kingdom</td>\n",
       "    </tr>\n",
       "    <tr>\n",
       "      <th>...</th>\n",
       "      <td>...</td>\n",
       "      <td>...</td>\n",
       "      <td>...</td>\n",
       "      <td>...</td>\n",
       "      <td>...</td>\n",
       "      <td>...</td>\n",
       "      <td>...</td>\n",
       "      <td>...</td>\n",
       "    </tr>\n",
       "    <tr>\n",
       "      <th>540449</th>\n",
       "      <td>C581490</td>\n",
       "      <td>23144</td>\n",
       "      <td>ZINC T-LIGHT HOLDER STARS SMALL</td>\n",
       "      <td>-11</td>\n",
       "      <td>2017-12-07</td>\n",
       "      <td>0.83</td>\n",
       "      <td>14397.0</td>\n",
       "      <td>United Kingdom</td>\n",
       "    </tr>\n",
       "    <tr>\n",
       "      <th>541541</th>\n",
       "      <td>C581499</td>\n",
       "      <td>M</td>\n",
       "      <td>Manual</td>\n",
       "      <td>-1</td>\n",
       "      <td>2017-12-07</td>\n",
       "      <td>224.69</td>\n",
       "      <td>15498.0</td>\n",
       "      <td>United Kingdom</td>\n",
       "    </tr>\n",
       "    <tr>\n",
       "      <th>541715</th>\n",
       "      <td>C581568</td>\n",
       "      <td>21258</td>\n",
       "      <td>VICTORIAN SEWING BOX LARGE</td>\n",
       "      <td>-5</td>\n",
       "      <td>2017-12-07</td>\n",
       "      <td>10.95</td>\n",
       "      <td>15311.0</td>\n",
       "      <td>United Kingdom</td>\n",
       "    </tr>\n",
       "    <tr>\n",
       "      <th>541716</th>\n",
       "      <td>C581569</td>\n",
       "      <td>84978</td>\n",
       "      <td>HANGING HEART JAR T-LIGHT HOLDER</td>\n",
       "      <td>-1</td>\n",
       "      <td>2017-12-07</td>\n",
       "      <td>1.25</td>\n",
       "      <td>17315.0</td>\n",
       "      <td>United Kingdom</td>\n",
       "    </tr>\n",
       "    <tr>\n",
       "      <th>541717</th>\n",
       "      <td>C581569</td>\n",
       "      <td>20979</td>\n",
       "      <td>36 PENCILS TUBE RED RETROSPOT</td>\n",
       "      <td>-5</td>\n",
       "      <td>2017-12-07</td>\n",
       "      <td>1.25</td>\n",
       "      <td>17315.0</td>\n",
       "      <td>United Kingdom</td>\n",
       "    </tr>\n",
       "  </tbody>\n",
       "</table>\n",
       "<p>10626 rows × 8 columns</p>\n",
       "</div>"
      ],
      "text/plain": [
       "       invoice_no stock_code                       description  quantity  \\\n",
       "141       C536379          D                          Discount        -1   \n",
       "154       C536383     35004C   SET OF 3 COLOURED  FLYING DUCKS        -1   \n",
       "235       C536391      22556    PLASTERS IN TIN CIRCUS PARADE        -12   \n",
       "236       C536391      21984  PACK OF 12 PINK PAISLEY TISSUES        -24   \n",
       "237       C536391      21983  PACK OF 12 BLUE PAISLEY TISSUES        -24   \n",
       "...           ...        ...                               ...       ...   \n",
       "540449    C581490      23144   ZINC T-LIGHT HOLDER STARS SMALL       -11   \n",
       "541541    C581499          M                            Manual        -1   \n",
       "541715    C581568      21258        VICTORIAN SEWING BOX LARGE        -5   \n",
       "541716    C581569      84978  HANGING HEART JAR T-LIGHT HOLDER        -1   \n",
       "541717    C581569      20979     36 PENCILS TUBE RED RETROSPOT        -5   \n",
       "\n",
       "       invoice_date  unit_price customer_id         country  \n",
       "141      2016-11-29       27.50     14527.0  United Kingdom  \n",
       "154      2016-11-29        4.65     15311.0  United Kingdom  \n",
       "235      2016-11-29        1.65     17548.0  United Kingdom  \n",
       "236      2016-11-29        0.29     17548.0  United Kingdom  \n",
       "237      2016-11-29        0.29     17548.0  United Kingdom  \n",
       "...             ...         ...         ...             ...  \n",
       "540449   2017-12-07        0.83     14397.0  United Kingdom  \n",
       "541541   2017-12-07      224.69     15498.0  United Kingdom  \n",
       "541715   2017-12-07       10.95     15311.0  United Kingdom  \n",
       "541716   2017-12-07        1.25     17315.0  United Kingdom  \n",
       "541717   2017-12-07        1.25     17315.0  United Kingdom  \n",
       "\n",
       "[10626 rows x 8 columns]"
      ]
     },
     "execution_count": 15,
     "metadata": {},
     "output_type": "execute_result"
    }
   ],
   "source": [
    "# All return and chargeback transaction\n",
    "df1[(df1['quantity'] < 0) | (df1['unit_price']<0)]"
   ]
  },
  {
   "cell_type": "code",
   "execution_count": 16,
   "id": "twenty-tourist",
   "metadata": {},
   "outputs": [
    {
     "data": {
      "text/plain": [
       "1.9608458246679794"
      ]
     },
     "execution_count": 16,
     "metadata": {},
     "output_type": "execute_result"
    }
   ],
   "source": [
    "# Percent of chargeback transactions\n",
    "(df1[(df1['quantity'] < 0) | (df1['unit_price']<0)].shape[0]/df1.shape[0]) * 100"
   ]
  },
  {
   "cell_type": "markdown",
   "id": "applicable-outline",
   "metadata": {},
   "source": [
    "**The presence of chargeback transaction is insignificant as it represents only 1.96% of all transactions.** This is important for the building of the bussiness notion around the fidelity prorgram criterias."
   ]
  },
  {
   "cell_type": "markdown",
   "id": "native-prison",
   "metadata": {},
   "source": [
    "# 2.0 Feature Engeneering"
   ]
  },
  {
   "cell_type": "code",
   "execution_count": 17,
   "id": "sunset-press",
   "metadata": {},
   "outputs": [],
   "source": [
    "df2 =df1.copy()"
   ]
  },
  {
   "cell_type": "markdown",
   "id": "fancy-underground",
   "metadata": {},
   "source": [
    "## 2.1 Hypothesis Mind Map"
   ]
  },
  {
   "cell_type": "code",
   "execution_count": 18,
   "id": "chronic-second",
   "metadata": {},
   "outputs": [
    {
     "data": {
      "image/png": "[encoded data removed]",
      "text/plain": [
       "<IPython.core.display.Image object>"
      ]
     },
     "execution_count": 18,
     "metadata": {},
     "output_type": "execute_result"
    }
   ],
   "source": [
    "Image('../reports/figures/mindmap.png')"
   ]
  },
  {
   "cell_type": "markdown",
   "id": "hazardous-correspondence",
   "metadata": {},
   "source": [
    "## 2.2 Hypothesis Creation"
   ]
  },
  {
   "cell_type": "markdown",
   "id": "ignored-alaska",
   "metadata": {},
   "source": [
    "### 2.2.1 Clientes\n",
    "1. **Clientes que moram em países europeus compram mais?**\n",
    "2. Clientes com maior escolaridade compram mais?\n",
    "3. Clientes mais jovens compram mais?\n",
    "4. Clientes com maior salário compram mais? \n",
    "\n",
    "### 2.2.2. Produtos\n",
    "1. **Produtos com preços menores vendem mais**\n",
    "2. Produtos em promoção vendem mais\n",
    "3. Produtos em maior quantidade no estoque vendem mais\n",
    "4. Produtos de marcas mais conhecidas vendem mais\n",
    "5. Produtos com maior número de fornecedores vendem menos\n",
    "6. Protudos de utilidade mais rotineira vendem mais\n",
    "\n",
    "### 2.2.3 Site\n",
    "1. Maior número de acesso no site é acompanhado com aumento das vendas\n",
    "2. Produtos com maior visibilidade no site vendem mais\n",
    "3. Produtos com mais clicks vendem mais.\n",
    "4. Produtos com marketing direcionado vendem mais\n",
    "\n",
    "### 2.2.4 Sazonalidade\n",
    "1. **As vendas aumentam no final do ano**\n",
    "2. **As pessoas compram mais no início do mês(Até dia 10)**\n",
    "\n"
   ]
  },
  {
   "cell_type": "markdown",
   "id": "humanitarian-shield",
   "metadata": {},
   "source": [
    "### 2.2.5 Lista Final de Hipóteses (baseada na disponibilidade de dados)\n",
    "1. Clientes que moram em países europeus compram mais?\n",
    "2. Produtos com preços menores vendem mais\n",
    "3. As vendas aumentam no final do ano\n",
    "4.As pessoas compram mais no início do mês(Até dia 10)"
   ]
  },
  {
   "cell_type": "markdown",
   "id": "advised-crack",
   "metadata": {},
   "source": [
    "# 2.3 Brainstorm questions"
   ]
  },
  {
   "cell_type": "markdown",
   "id": "imposed-handy",
   "metadata": {},
   "source": [
    "### 2.3.1 Clientes\n",
    "1. Quais países compram mais?\n",
    "2. Quais países compram menor?\n",
    "2. Média de quantidade de compras por cliente\n",
    "2. Média de preço de compra por cliente\n",
    "3. Quantos clientes compram mais?\n",
    "4. Quantos clientes compram menos?\n",
    "5. Quantos clientes pedem estorno?\n",
    "\n",
    "\n",
    "### 2.3.2 Produtos\n",
    "1. Quantos produtos diferentes existem?\n",
    "2. Quais produtos mais vendidos?\n",
    "3. Quais produtos menos vendidos?\n",
    "4. Quais produtos mais caros?\n",
    "5. Quais produtos mais baratos?\n",
    "6. Quais produtos mais comprados por cada país?\n",
    "7. Quais produtos mais estornados?\n",
    "8. Qual a média do preço dos produtos estornados?\n",
    "9. Qual valor total estornado?\n",
    "\n",
    "\n",
    "### 2.3.3 Tempo\n",
    "1. Quais meses vendem mais?\n",
    "2. Quais meses vendem menos?\n",
    "3. Qual a recência (o intervalo desde a última compra) de cada cliente?\n",
    "4. Quantos clientes compram com mais frequência? Qual a porcentagem da base de clientes?\n",
    "5. Qual a frequência de estorno de produtos?\n"
   ]
  },
  {
   "cell_type": "markdown",
   "id": "assisted-invention",
   "metadata": {},
   "source": [
    "# 3.0 Feature Engeneering "
   ]
  },
  {
   "cell_type": "code",
   "execution_count": 19,
   "id": "expensive-solid",
   "metadata": {},
   "outputs": [],
   "source": [
    "df3 = df2.copy()"
   ]
  },
  {
   "cell_type": "markdown",
   "id": "environmental-redhead",
   "metadata": {},
   "source": [
    "## 3.1 Feature Creation"
   ]
  },
  {
   "cell_type": "markdown",
   "id": "other-plaza",
   "metadata": {},
   "source": [
    "* Time Variables"
   ]
  },
  {
   "cell_type": "code",
   "execution_count": 20,
   "id": "injured-lunch",
   "metadata": {},
   "outputs": [],
   "source": [
    "# Year\n",
    "df3['year'] = df3.invoice_date.dt.year\n",
    "# Month\n",
    "df3['month'] = df3.invoice_date.dt.month\n",
    "# Day\n",
    "df3['day'] = df3.invoice_date.dt.day\n"
   ]
  },
  {
   "cell_type": "markdown",
   "id": "completed-integration",
   "metadata": {},
   "source": [
    "# 3.2 Searching Invoice Number and Stock Code"
   ]
  },
  {
   "cell_type": "code",
   "execution_count": 21,
   "id": "sweet-tunisia",
   "metadata": {
    "scrolled": true
   },
   "outputs": [
    {
     "data": {
      "text/html": [
       "<div>\n",
       "<style scoped>\n",
       "    .dataframe tbody tr th:only-of-type {\n",
       "        vertical-align: middle;\n",
       "    }\n",
       "\n",
       "    .dataframe tbody tr th {\n",
       "        vertical-align: top;\n",
       "    }\n",
       "\n",
       "    .dataframe thead th {\n",
       "        text-align: right;\n",
       "    }\n",
       "</style>\n",
       "<table border=\"1\" class=\"dataframe\">\n",
       "  <thead>\n",
       "    <tr style=\"text-align: right;\">\n",
       "      <th></th>\n",
       "      <th>invoice_no</th>\n",
       "      <th>stock_code</th>\n",
       "      <th>description</th>\n",
       "      <th>quantity</th>\n",
       "      <th>invoice_date</th>\n",
       "      <th>unit_price</th>\n",
       "      <th>customer_id</th>\n",
       "      <th>country</th>\n",
       "      <th>year</th>\n",
       "      <th>month</th>\n",
       "      <th>day</th>\n",
       "    </tr>\n",
       "  </thead>\n",
       "  <tbody>\n",
       "    <tr>\n",
       "      <th>141</th>\n",
       "      <td>C536379</td>\n",
       "      <td>D</td>\n",
       "      <td>Discount</td>\n",
       "      <td>-1</td>\n",
       "      <td>2016-11-29</td>\n",
       "      <td>27.50</td>\n",
       "      <td>14527.0</td>\n",
       "      <td>United Kingdom</td>\n",
       "      <td>2016</td>\n",
       "      <td>11</td>\n",
       "      <td>29</td>\n",
       "    </tr>\n",
       "    <tr>\n",
       "      <th>154</th>\n",
       "      <td>C536383</td>\n",
       "      <td>35004C</td>\n",
       "      <td>SET OF 3 COLOURED  FLYING DUCKS</td>\n",
       "      <td>-1</td>\n",
       "      <td>2016-11-29</td>\n",
       "      <td>4.65</td>\n",
       "      <td>15311.0</td>\n",
       "      <td>United Kingdom</td>\n",
       "      <td>2016</td>\n",
       "      <td>11</td>\n",
       "      <td>29</td>\n",
       "    </tr>\n",
       "    <tr>\n",
       "      <th>235</th>\n",
       "      <td>C536391</td>\n",
       "      <td>22556</td>\n",
       "      <td>PLASTERS IN TIN CIRCUS PARADE</td>\n",
       "      <td>-12</td>\n",
       "      <td>2016-11-29</td>\n",
       "      <td>1.65</td>\n",
       "      <td>17548.0</td>\n",
       "      <td>United Kingdom</td>\n",
       "      <td>2016</td>\n",
       "      <td>11</td>\n",
       "      <td>29</td>\n",
       "    </tr>\n",
       "    <tr>\n",
       "      <th>236</th>\n",
       "      <td>C536391</td>\n",
       "      <td>21984</td>\n",
       "      <td>PACK OF 12 PINK PAISLEY TISSUES</td>\n",
       "      <td>-24</td>\n",
       "      <td>2016-11-29</td>\n",
       "      <td>0.29</td>\n",
       "      <td>17548.0</td>\n",
       "      <td>United Kingdom</td>\n",
       "      <td>2016</td>\n",
       "      <td>11</td>\n",
       "      <td>29</td>\n",
       "    </tr>\n",
       "    <tr>\n",
       "      <th>237</th>\n",
       "      <td>C536391</td>\n",
       "      <td>21983</td>\n",
       "      <td>PACK OF 12 BLUE PAISLEY TISSUES</td>\n",
       "      <td>-24</td>\n",
       "      <td>2016-11-29</td>\n",
       "      <td>0.29</td>\n",
       "      <td>17548.0</td>\n",
       "      <td>United Kingdom</td>\n",
       "      <td>2016</td>\n",
       "      <td>11</td>\n",
       "      <td>29</td>\n",
       "    </tr>\n",
       "  </tbody>\n",
       "</table>\n",
       "</div>"
      ],
      "text/plain": [
       "    invoice_no stock_code                       description  quantity  \\\n",
       "141    C536379          D                          Discount        -1   \n",
       "154    C536383     35004C   SET OF 3 COLOURED  FLYING DUCKS        -1   \n",
       "235    C536391      22556    PLASTERS IN TIN CIRCUS PARADE        -12   \n",
       "236    C536391      21984  PACK OF 12 PINK PAISLEY TISSUES        -24   \n",
       "237    C536391      21983  PACK OF 12 BLUE PAISLEY TISSUES        -24   \n",
       "\n",
       "    invoice_date  unit_price customer_id         country  year  month  day  \n",
       "141   2016-11-29       27.50     14527.0  United Kingdom  2016     11   29  \n",
       "154   2016-11-29        4.65     15311.0  United Kingdom  2016     11   29  \n",
       "235   2016-11-29        1.65     17548.0  United Kingdom  2016     11   29  \n",
       "236   2016-11-29        0.29     17548.0  United Kingdom  2016     11   29  \n",
       "237   2016-11-29        0.29     17548.0  United Kingdom  2016     11   29  "
      ]
     },
     "execution_count": 21,
     "metadata": {},
     "output_type": "execute_result"
    }
   ],
   "source": [
    "# All invoice numbers that incluide a letter\n",
    "invoice_code = df3[df3['invoice_no'].str.contains(\"[A-Z]\")]\n",
    "invoice_code.head()"
   ]
  },
  {
   "cell_type": "code",
   "execution_count": 22,
   "id": "level-aviation",
   "metadata": {},
   "outputs": [
    {
     "name": "stdout",
     "output_type": "stream",
     "text": [
      "9291\n",
      "3839\n",
      "2.420161500390727\n"
     ]
    }
   ],
   "source": [
    "print(invoice_code.shape[0])\n",
    "print(invoice_code.invoice_no.nunique())\n",
    "print(invoice_code.shape[0]/invoice_code.invoice_no.nunique())"
   ]
  },
  {
   "cell_type": "markdown",
   "id": "hourly-caribbean",
   "metadata": {},
   "source": [
    "From all 9291 invoice numbers that include a letter (or a code), 3839 are unique. This means that, in average, every transaction classified as a chargeback (the reason why it has the letter \"C\") included almost 3 products."
   ]
  },
  {
   "cell_type": "code",
   "execution_count": 23,
   "id": "congressional-checklist",
   "metadata": {},
   "outputs": [
    {
     "data": {
      "text/plain": [
       "array(['C', 'A'], dtype=object)"
      ]
     },
     "execution_count": 23,
     "metadata": {},
     "output_type": "execute_result"
    }
   ],
   "source": [
    "letters = invoice_code.invoice_no.str[0]\n",
    "letters.unique()"
   ]
  },
  {
   "cell_type": "code",
   "execution_count": 24,
   "id": "regular-skill",
   "metadata": {},
   "outputs": [
    {
     "data": {
      "text/html": [
       "<div>\n",
       "<style scoped>\n",
       "    .dataframe tbody tr th:only-of-type {\n",
       "        vertical-align: middle;\n",
       "    }\n",
       "\n",
       "    .dataframe tbody tr th {\n",
       "        vertical-align: top;\n",
       "    }\n",
       "\n",
       "    .dataframe thead th {\n",
       "        text-align: right;\n",
       "    }\n",
       "</style>\n",
       "<table border=\"1\" class=\"dataframe\">\n",
       "  <thead>\n",
       "    <tr style=\"text-align: right;\">\n",
       "      <th></th>\n",
       "      <th>invoice_no</th>\n",
       "      <th>stock_code</th>\n",
       "      <th>description</th>\n",
       "      <th>quantity</th>\n",
       "      <th>invoice_date</th>\n",
       "      <th>unit_price</th>\n",
       "      <th>customer_id</th>\n",
       "      <th>country</th>\n",
       "      <th>year</th>\n",
       "      <th>month</th>\n",
       "      <th>day</th>\n",
       "    </tr>\n",
       "  </thead>\n",
       "  <tbody>\n",
       "    <tr>\n",
       "      <th>299982</th>\n",
       "      <td>A563185</td>\n",
       "      <td>B</td>\n",
       "      <td>Adjust bad debt</td>\n",
       "      <td>1</td>\n",
       "      <td>2017-08-10</td>\n",
       "      <td>11062.06</td>\n",
       "      <td>NaN</td>\n",
       "      <td>United Kingdom</td>\n",
       "      <td>2017</td>\n",
       "      <td>8</td>\n",
       "      <td>10</td>\n",
       "    </tr>\n",
       "    <tr>\n",
       "      <th>299983</th>\n",
       "      <td>A563186</td>\n",
       "      <td>B</td>\n",
       "      <td>Adjust bad debt</td>\n",
       "      <td>1</td>\n",
       "      <td>2017-08-10</td>\n",
       "      <td>-11062.06</td>\n",
       "      <td>NaN</td>\n",
       "      <td>United Kingdom</td>\n",
       "      <td>2017</td>\n",
       "      <td>8</td>\n",
       "      <td>10</td>\n",
       "    </tr>\n",
       "    <tr>\n",
       "      <th>299984</th>\n",
       "      <td>A563187</td>\n",
       "      <td>B</td>\n",
       "      <td>Adjust bad debt</td>\n",
       "      <td>1</td>\n",
       "      <td>2017-08-10</td>\n",
       "      <td>-11062.06</td>\n",
       "      <td>NaN</td>\n",
       "      <td>United Kingdom</td>\n",
       "      <td>2017</td>\n",
       "      <td>8</td>\n",
       "      <td>10</td>\n",
       "    </tr>\n",
       "  </tbody>\n",
       "</table>\n",
       "</div>"
      ],
      "text/plain": [
       "       invoice_no stock_code      description  quantity invoice_date  \\\n",
       "299982    A563185          B  Adjust bad debt         1   2017-08-10   \n",
       "299983    A563186          B  Adjust bad debt         1   2017-08-10   \n",
       "299984    A563187          B  Adjust bad debt         1   2017-08-10   \n",
       "\n",
       "        unit_price customer_id         country  year  month  day  \n",
       "299982    11062.06         NaN  United Kingdom  2017      8   10  \n",
       "299983   -11062.06         NaN  United Kingdom  2017      8   10  \n",
       "299984   -11062.06         NaN  United Kingdom  2017      8   10  "
      ]
     },
     "execution_count": 24,
     "metadata": {},
     "output_type": "execute_result"
    }
   ],
   "source": [
    "invoice_code[invoice_code.invoice_no.str[0] == \"A\"]"
   ]
  },
  {
   "cell_type": "markdown",
   "id": "another-friend",
   "metadata": {},
   "source": [
    "Besides the chargeback, the letter \"A\" also appears and it stands for \"Adjust bad debt\"."
   ]
  },
  {
   "cell_type": "markdown",
   "id": "democratic-temperature",
   "metadata": {},
   "source": [
    "We also have different \"types\" of chargebacks, what can be seen by the different stock codes below."
   ]
  },
  {
   "cell_type": "code",
   "execution_count": 25,
   "id": "composed-province",
   "metadata": {},
   "outputs": [
    {
     "data": {
      "text/plain": [
       "array(['D', 'M', 'S', 'm', 'B'], dtype=object)"
      ]
     },
     "execution_count": 25,
     "metadata": {},
     "output_type": "execute_result"
    }
   ],
   "source": [
    "df3[df3.stock_code.str.len() ==1].stock_code.unique()"
   ]
  },
  {
   "cell_type": "markdown",
   "id": "challenging-commissioner",
   "metadata": {},
   "source": [
    "By now, we'll create a variable to determine if the transaction is normal, is a chargeback ou an adjust bad debt."
   ]
  },
  {
   "cell_type": "code",
   "execution_count": 26,
   "id": "fitting-vacuum",
   "metadata": {},
   "outputs": [],
   "source": [
    "# Creating transaction type variable\n",
    "new_col = []\n",
    "for string in df3.invoice_no:\n",
    "    if string[0] == \"C\":\n",
    "        new_col.append('chargeback')\n",
    "    elif string[0] == \"A\":\n",
    "        new_col.append('adjust_bad_debt')\n",
    "    else:\n",
    "        new_col.append('normal')\n",
    "df3['transaction_type'] = pd.Series(new_col)"
   ]
  },
  {
   "cell_type": "code",
   "execution_count": 27,
   "id": "legislative-beginning",
   "metadata": {},
   "outputs": [
    {
     "data": {
      "text/plain": [
       "normal             532618\n",
       "chargeback           9288\n",
       "adjust_bad_debt         3\n",
       "Name: transaction_type, dtype: int64"
      ]
     },
     "execution_count": 27,
     "metadata": {},
     "output_type": "execute_result"
    }
   ],
   "source": [
    "df3.transaction_type.value_counts()"
   ]
  },
  {
   "cell_type": "markdown",
   "id": "posted-acceptance",
   "metadata": {},
   "source": [
    "* To improve: manage to create a variable column with conditional list comprehesion and/or with `apply` function + lambda"
   ]
  },
  {
   "cell_type": "markdown",
   "id": "incoming-conference",
   "metadata": {},
   "source": [
    "**In the next Crisp cycles, we might make use of variable filtering and columns selection, depending in the machine learning performance.**"
   ]
  },
  {
   "cell_type": "markdown",
   "id": "innocent-lawrence",
   "metadata": {},
   "source": [
    "# 4.0 Exploratory Data Analysis"
   ]
  },
  {
   "cell_type": "code",
   "execution_count": 28,
   "id": "foster-substance",
   "metadata": {},
   "outputs": [],
   "source": [
    "df4 = df3.copy()"
   ]
  },
  {
   "cell_type": "code",
   "execution_count": 29,
   "id": "earned-stewart",
   "metadata": {},
   "outputs": [],
   "source": [
    "num = df4.select_dtypes(['int64','float64'])\n",
    "cat = df4.select_dtypes('object')"
   ]
  },
  {
   "cell_type": "markdown",
   "id": "capital-moment",
   "metadata": {
    "heading_collapsed": true
   },
   "source": [
    "### 2.3.1 Clientes\n",
    "1. Quais países compram mais?\n",
    "2. Quais países compram menor?\n",
    "3. Média de quantidade de compras por cliente\n",
    "4. Média de preço de compra por cliente\n",
    "5. Quantos clientes compram mais?\n",
    "6. Quantos clientes pedem estorno?\n",
    "\n",
    "\n",
    "### 2.3.2 Produtos\n",
    "1. Quantos produtos diferentes existem?\n",
    "2. Quais produtos mais vendidos?\n",
    "3. Quais produtos menos vendidos?\n",
    "4. Quais produtos mais caros?\n",
    "5. Quais produtos mais baratos?\n",
    "6. Quais produtos mais comprados por cada país?\n",
    "7. Quais produtos mais estornados?\n",
    "8. Qual a média do preço dos produtos estornados?\n",
    "9. Qual valor total estornado?\n",
    "\n",
    "\n",
    "### 2.3.3 Tempo\n",
    "1. Quais meses vendem mais?\n",
    "2. Quais meses vendem menos?\n",
    "3. Qual a recência (o intervalo desde a última compra) de cada cliente?\n",
    "4. Quantos clientes compram com mais frequência? Qual a porcentagem da base de clientes?\n",
    "5. Qual a frequência de estorno de produtos?"
   ]
  },
  {
   "cell_type": "markdown",
   "id": "latter-notice",
   "metadata": {
    "heading_collapsed": true
   },
   "source": [
    "## 4.1 Univariate analysis"
   ]
  },
  {
   "cell_type": "markdown",
   "id": "binding-complement",
   "metadata": {
    "hidden": true
   },
   "source": [
    "### 4.1.1 Categorical Variables"
   ]
  },
  {
   "cell_type": "code",
   "execution_count": 30,
   "id": "solved-mathematics",
   "metadata": {
    "hidden": true
   },
   "outputs": [
    {
     "name": "stdout",
     "output_type": "stream",
     "text": [
      "Number of different transactions: 25900\n"
     ]
    }
   ],
   "source": [
    "print('Number of different transactions:', cat.invoice_no.nunique())"
   ]
  },
  {
   "cell_type": "code",
   "execution_count": 31,
   "id": "compliant-session",
   "metadata": {
    "hidden": true
   },
   "outputs": [
    {
     "name": "stdout",
     "output_type": "stream",
     "text": [
      "There are 4223 different product\n"
     ]
    }
   ],
   "source": [
    "# 1. Quantos produtos diferentes existem?\n",
    "print('There are {} different product'.format(cat.description.nunique()))"
   ]
  },
  {
   "cell_type": "markdown",
   "id": "aquatic-officer",
   "metadata": {
    "hidden": true
   },
   "source": [
    "However, it is important to notice that some different products have the same stock code which can be deducted from the hight number of production descriptions in comparison with the stock codes. See below:"
   ]
  },
  {
   "cell_type": "code",
   "execution_count": 32,
   "id": "fifty-orbit",
   "metadata": {
    "hidden": true
   },
   "outputs": [
    {
     "name": "stdout",
     "output_type": "stream",
     "text": [
      "There are 4070 different stock codes\n"
     ]
    }
   ],
   "source": [
    "print('There are {} different stock codes'.format(cat.stock_code.nunique()))"
   ]
  },
  {
   "cell_type": "code",
   "execution_count": 33,
   "id": "sealed-regard",
   "metadata": {
    "hidden": true
   },
   "outputs": [
    {
     "name": "stdout",
     "output_type": "stream",
     "text": [
      "Products were bought from 38 different contries\n"
     ]
    }
   ],
   "source": [
    "# How many different countries buy from the e-commerce?\n",
    "print('Products were bought from {} different contries'.format(cat.country.nunique()))"
   ]
  },
  {
   "cell_type": "code",
   "execution_count": 34,
   "id": "under-technique",
   "metadata": {
    "hidden": true
   },
   "outputs": [
    {
     "name": "stdout",
     "output_type": "stream",
     "text": [
      "4372 different customers have bought from the e-commerce, not couting the undentified ones (NAs).\n"
     ]
    }
   ],
   "source": [
    "print('{} different customers have bought from the e-commerce, not couting the undentified ones (NAs).'.format(cat.customer_id.nunique()))"
   ]
  },
  {
   "cell_type": "markdown",
   "id": "differential-remedy",
   "metadata": {
    "hidden": true
   },
   "source": [
    "### 4.1.2 Numerical Variables"
   ]
  },
  {
   "cell_type": "markdown",
   "id": "grave-lender",
   "metadata": {
    "hidden": true
   },
   "source": [
    "As we have seen in the data description, units prices have strong outliers as 75% of all products cost up to 10 dollars, which can be observed below."
   ]
  },
  {
   "cell_type": "code",
   "execution_count": 35,
   "id": "surrounded-range",
   "metadata": {
    "hidden": true
   },
   "outputs": [
    {
     "data": {
      "image/png": "[encoded data removed]",
      "text/plain": [
       "<Figure size 432x288 with 1 Axes>"
      ]
     },
     "metadata": {
      "needs_background": "light"
     },
     "output_type": "display_data"
    }
   ],
   "source": [
    "sns.boxplot(x='unit_price', data=num);"
   ]
  },
  {
   "cell_type": "code",
   "execution_count": 36,
   "id": "finite-mediterranean",
   "metadata": {
    "hidden": true,
    "scrolled": true
   },
   "outputs": [
    {
     "data": {
      "image/png": "[encoded data removed]",
      "text/plain": [
       "<Figure size 432x288 with 1 Axes>"
      ]
     },
     "metadata": {
      "needs_background": "light"
     },
     "output_type": "display_data"
    }
   ],
   "source": [
    "# Quais meses vendem mais? e quais vendem menos?\n",
    "num['month'].hist();\n",
    "plt.title('Histogram of Months');"
   ]
  },
  {
   "cell_type": "markdown",
   "id": "vocal-plain",
   "metadata": {
    "hidden": true
   },
   "source": [
    "By the histrogram above, it is possible to conclude that in the end of the year and beginning of the following year,notably **December** and **January** are the months with more purchases. Likewise March is the month with the fewest sells."
   ]
  },
  {
   "cell_type": "code",
   "execution_count": 37,
   "id": "configured-valve",
   "metadata": {
    "hidden": true
   },
   "outputs": [
    {
     "data": {
      "image/png": "[encoded data removed]",
      "text/plain": [
       "<Figure size 432x288 with 1 Axes>"
      ]
     },
     "metadata": {
      "needs_background": "light"
     },
     "output_type": "display_data"
    }
   ],
   "source": [
    "# Que dias do mês vendem mais e vendem menos?\n",
    "num['day'].hist();\n",
    "plt.title('Histogram of Days');"
   ]
  },
  {
   "cell_type": "markdown",
   "id": "stainless-immune",
   "metadata": {
    "hidden": true
   },
   "source": [
    "We can see that there is a decline trend in terms of customer purchase behavior. Sells tend to be higher at the begininng of the months, until around the seventh day. From this points onward, sales fall progressively until the end of the months."
   ]
  },
  {
   "cell_type": "markdown",
   "id": "distributed-platform",
   "metadata": {},
   "source": [
    "## 4.2 Bivariate Analysis"
   ]
  },
  {
   "cell_type": "markdown",
   "id": "planned-chicken",
   "metadata": {},
   "source": [
    "Top 10 total quantity purchases per country"
   ]
  },
  {
   "cell_type": "code",
   "execution_count": 38,
   "id": "neural-header",
   "metadata": {
    "scrolled": false
   },
   "outputs": [
    {
     "data": {
      "image/png": "[encoded data removed]",
      "text/plain": [
       "<Figure size 432x288 with 1 Axes>"
      ]
     },
     "metadata": {
      "needs_background": "light"
     },
     "output_type": "display_data"
    }
   ],
   "source": [
    "countries = df4[['country','quantity']].groupby('country').sum().reset_index().sort_values(by='quantity',ascending=False).head(10)\n",
    "sns.barplot(x='country',y='quantity', data=countries).set_title('Top 10 total quantity purchases per country');\n",
    "plt.xticks(rotation='45');"
   ]
  },
  {
   "cell_type": "markdown",
   "id": "inclusive-chapel",
   "metadata": {},
   "source": [
    "Majority of the client base comes from Europe, mainly United Kingdom, what impacts, for exemple, the marketing strategy to invest heavier in this country or to take a risker approuch to expand bussiness in other continents."
   ]
  },
  {
   "cell_type": "markdown",
   "id": "understanding-wonder",
   "metadata": {},
   "source": [
    "Top 10 clients with highest mean quantities per purchase"
   ]
  },
  {
   "cell_type": "code",
   "execution_count": 39,
   "id": "resistant-rainbow",
   "metadata": {
    "scrolled": true
   },
   "outputs": [
    {
     "data": {
      "image/png": "[encoded data removed]",
      "text/plain": [
       "<Figure size 432x288 with 1 Axes>"
      ]
     },
     "metadata": {
      "needs_background": "light"
     },
     "output_type": "display_data"
    }
   ],
   "source": [
    "# Média de quantidade de compras por cliente\n",
    "cust_10 = df4[['customer_id','quantity']].groupby('customer_id').mean().reset_index().sort_values(by='quantity',ascending=False).head(10)\n",
    "sns.barplot(x='customer_id',y='quantity', data=cust_10).set_title('Top 10 clients with highest mean quantities per purchase')\n",
    "plt.xticks(rotation='45');"
   ]
  },
  {
   "cell_type": "markdown",
   "id": "literary-bikini",
   "metadata": {},
   "source": [
    "Huge presence of outliers in the customers quantity"
   ]
  },
  {
   "cell_type": "code",
   "execution_count": 40,
   "id": "macro-measurement",
   "metadata": {
    "scrolled": true
   },
   "outputs": [
    {
     "data": {
      "image/png": "[encoded data removed]",
      "text/plain": [
       "<Figure size 432x288 with 1 Axes>"
      ]
     },
     "metadata": {
      "needs_background": "light"
     },
     "output_type": "display_data"
    }
   ],
   "source": [
    "cust = df4[['customer_id','quantity']].groupby('customer_id').mean().reset_index()#.sort_values(by='quantity',ascending=False)\n",
    "sns.boxplot(x=cust['quantity']);"
   ]
  },
  {
   "cell_type": "code",
   "execution_count": 41,
   "id": "creative-street",
   "metadata": {},
   "outputs": [
    {
     "data": {
      "image/png": "[encoded data removed]",
      "text/plain": [
       "<Figure size 432x288 with 1 Axes>"
      ]
     },
     "metadata": {
      "needs_background": "light"
     },
     "output_type": "display_data"
    }
   ],
   "source": [
    "cust_sum = df4[['customer_id','quantity']].groupby('customer_id').sum().reset_index().sort_values(by='quantity',ascending=False).head(10)\n",
    "sns.barplot(x='customer_id',y='quantity', data=cust_sum).set_title('Top 10 clients with highest total product quantities')\n",
    "plt.xticks(rotation='45');"
   ]
  },
  {
   "cell_type": "code",
   "execution_count": 42,
   "id": "official-march",
   "metadata": {
    "scrolled": true
   },
   "outputs": [
    {
     "data": {
      "text/html": [
       "<div>\n",
       "<style scoped>\n",
       "    .dataframe tbody tr th:only-of-type {\n",
       "        vertical-align: middle;\n",
       "    }\n",
       "\n",
       "    .dataframe tbody tr th {\n",
       "        vertical-align: top;\n",
       "    }\n",
       "\n",
       "    .dataframe thead th {\n",
       "        text-align: right;\n",
       "    }\n",
       "</style>\n",
       "<table border=\"1\" class=\"dataframe\">\n",
       "  <thead>\n",
       "    <tr style=\"text-align: right;\">\n",
       "      <th></th>\n",
       "      <th>quantity</th>\n",
       "    </tr>\n",
       "    <tr>\n",
       "      <th>description</th>\n",
       "      <th></th>\n",
       "    </tr>\n",
       "  </thead>\n",
       "  <tbody>\n",
       "    <tr>\n",
       "      <th>WORLD WAR 2 GLIDERS ASSTD DESIGNS</th>\n",
       "      <td>53847</td>\n",
       "    </tr>\n",
       "    <tr>\n",
       "      <th>JUMBO BAG RED RETROSPOT</th>\n",
       "      <td>47363</td>\n",
       "    </tr>\n",
       "    <tr>\n",
       "      <th>ASSORTED COLOUR BIRD ORNAMENT</th>\n",
       "      <td>36381</td>\n",
       "    </tr>\n",
       "    <tr>\n",
       "      <th>POPCORN HOLDER</th>\n",
       "      <td>36334</td>\n",
       "    </tr>\n",
       "    <tr>\n",
       "      <th>PACK OF 72 RETROSPOT CAKE CASES</th>\n",
       "      <td>36039</td>\n",
       "    </tr>\n",
       "    <tr>\n",
       "      <th>...</th>\n",
       "      <td>...</td>\n",
       "    </tr>\n",
       "    <tr>\n",
       "      <th>Damaged</th>\n",
       "      <td>-7540</td>\n",
       "    </tr>\n",
       "    <tr>\n",
       "      <th>Printing smudges/thrown away</th>\n",
       "      <td>-9058</td>\n",
       "    </tr>\n",
       "    <tr>\n",
       "      <th>check</th>\n",
       "      <td>-12030</td>\n",
       "    </tr>\n",
       "    <tr>\n",
       "      <th>Unsaleable, destroyed.</th>\n",
       "      <td>-15644</td>\n",
       "    </tr>\n",
       "    <tr>\n",
       "      <th>printing smudges/thrown away</th>\n",
       "      <td>-19200</td>\n",
       "    </tr>\n",
       "  </tbody>\n",
       "</table>\n",
       "<p>4223 rows × 1 columns</p>\n",
       "</div>"
      ],
      "text/plain": [
       "                                   quantity\n",
       "description                                \n",
       "WORLD WAR 2 GLIDERS ASSTD DESIGNS     53847\n",
       "JUMBO BAG RED RETROSPOT               47363\n",
       "ASSORTED COLOUR BIRD ORNAMENT         36381\n",
       "POPCORN HOLDER                        36334\n",
       "PACK OF 72 RETROSPOT CAKE CASES       36039\n",
       "...                                     ...\n",
       "Damaged                               -7540\n",
       "Printing smudges/thrown away          -9058\n",
       "check                                -12030\n",
       "Unsaleable, destroyed.               -15644\n",
       "printing smudges/thrown away         -19200\n",
       "\n",
       "[4223 rows x 1 columns]"
      ]
     },
     "execution_count": 42,
     "metadata": {},
     "output_type": "execute_result"
    }
   ],
   "source": [
    "# Quais produtos mais vendidos?\n",
    "df4.groupby('description')[['quantity']].sum().sort_values(by='quantity', ascending=False)"
   ]
  },
  {
   "cell_type": "markdown",
   "id": "fossil-nursing",
   "metadata": {},
   "source": [
    "### 2.3.1 Clientes\n",
    "1. Quais países compram mais?\n",
    "2. Quais países compram menor?\n",
    "3. Média de quantidade de compras por cliente\n",
    "4. Média de preço de compra por cliente\n",
    "5. Quantos clientes pedem estorno? Quantos produtos e qual valor total dos estornos?\n",
    "\n",
    "\n",
    "### 2.3.2 Produtos\n",
    "1. Quantos produtos diferentes existem?\n",
    "2. Quais produtos mais vendidos?\n",
    "3. Quais produtos menos vendidos?\n",
    "4. Quais produtos com maior faturamento?\n",
    "5. Quais produtos mais caros?\n",
    "6. Quais produtos mais baratos?\n",
    "7. Quais produtos mais comprados por cada país?\n",
    "8. Quais produtos mais estornados?\n",
    "9. Qual a média do preço dos produtos estornados?\n",
    "10. Qual valor total estornado?\n",
    "\n",
    "\n",
    "### 2.3.3 Tempo\n",
    "1. Quais meses vendem mais?\n",
    "2. Quais meses vendem menos?\n",
    "3. Qual a recência (o intervalo desde a última compra) de cada cliente?\n",
    "4. Quantos clientes compram com mais frequência? Qual a porcentagem da base de clientes?\n",
    "5. Qual a frequência de estorno de produtos?"
   ]
  },
  {
   "cell_type": "code",
   "execution_count": 131,
   "id": "owned-liability",
   "metadata": {},
   "outputs": [
    {
     "data": {
      "image/png": "[encoded data removed]",
      "text/plain": [
       "<Figure size 432x288 with 1 Axes>"
      ]
     },
     "metadata": {
      "needs_background": "light"
     },
     "output_type": "display_data"
    }
   ],
   "source": [
    "# 1. Quais países compram mais?\n",
    "countries = df4[['country','quantity']].groupby('country').sum().reset_index().sort_values(by='quantity',ascending=False).head(10)\n",
    "sns.barplot(x='country',y='quantity', data=countries).set_title('Top 10 countries - total quantity purchases');\n",
    "plt.xticks(rotation='45');"
   ]
  },
  {
   "cell_type": "code",
   "execution_count": 44,
   "id": "answering-homeless",
   "metadata": {},
   "outputs": [
    {
     "data": {
      "image/png": "[encoded data removed]",
      "text/plain": [
       "<Figure size 432x288 with 1 Axes>"
      ]
     },
     "metadata": {
      "needs_background": "light"
     },
     "output_type": "display_data"
    }
   ],
   "source": [
    "# # 2. Quais países compram menor?\n",
    "# countries = df4[['country','quantity']].groupby('country').sum().reset_index().sort_values(by='quantity').head(10)\n",
    "# sns.barplot(x='country',y='quantity', data=countries).set_title('Bottom 10 countries - total quantity purchases');\n",
    "# plt.xticks(rotation='45');"
   ]
  },
  {
   "cell_type": "code",
   "execution_count": 45,
   "id": "involved-london",
   "metadata": {},
   "outputs": [
    {
     "data": {
      "image/png": "[encoded data removed]",
      "text/plain": [
       "<Figure size 432x288 with 1 Axes>"
      ]
     },
     "metadata": {
      "needs_background": "light"
     },
     "output_type": "display_data"
    }
   ],
   "source": [
    "# 3. Média de quantidade de compras por cliente\n",
    "cust_10 = df4[['customer_id','quantity']].groupby('customer_id').mean().reset_index().sort_values(by='quantity',ascending=False).head(10)\n",
    "sns.barplot(x='customer_id',y='quantity', data=cust_10).set_title('Top 10 clients with highest mean quantities per purchase')\n",
    "plt.xticks(rotation='45');"
   ]
  },
  {
   "cell_type": "code",
   "execution_count": 46,
   "id": "medieval-thumbnail",
   "metadata": {
    "scrolled": true
   },
   "outputs": [
    {
     "data": {
      "image/png": "[encoded data removed]",
      "text/plain": [
       "<Figure size 432x288 with 1 Axes>"
      ]
     },
     "metadata": {
      "needs_background": "light"
     },
     "output_type": "display_data"
    }
   ],
   "source": [
    "# 4. Média de preço de compra por cliente\n",
    "cust_10 = df4[['customer_id','unit_price']].groupby('customer_id').mean().reset_index().sort_values(by='unit_price',ascending=False).head(10)\n",
    "sns.barplot(x='customer_id',y='unit_price', data=cust_10).set_title('Top 10 clients with highest mean purchases')\n",
    "plt.xticks(rotation='45');"
   ]
  },
  {
   "cell_type": "markdown",
   "id": "previous-spectacular",
   "metadata": {},
   "source": [
    "It's noticible that there is also a Top 5 clients that have a total mean purchase above $1000. However, it is necessary to look broader and see if clusters of clients appear in like a Top 25 or top 50."
   ]
  },
  {
   "cell_type": "code",
   "execution_count": 47,
   "id": "presidential-banks",
   "metadata": {},
   "outputs": [
    {
     "name": "stdout",
     "output_type": "stream",
     "text": [
      "1589 customers requested chargeback\n"
     ]
    },
    {
     "data": {
      "text/html": [
       "<div>\n",
       "<style scoped>\n",
       "    .dataframe tbody tr th:only-of-type {\n",
       "        vertical-align: middle;\n",
       "    }\n",
       "\n",
       "    .dataframe tbody tr th {\n",
       "        vertical-align: top;\n",
       "    }\n",
       "\n",
       "    .dataframe thead th {\n",
       "        text-align: right;\n",
       "    }\n",
       "</style>\n",
       "<table border=\"1\" class=\"dataframe\">\n",
       "  <thead>\n",
       "    <tr style=\"text-align: right;\">\n",
       "      <th></th>\n",
       "      <th>quantity</th>\n",
       "      <th>unit_price</th>\n",
       "    </tr>\n",
       "    <tr>\n",
       "      <th>customer_id</th>\n",
       "      <th></th>\n",
       "      <th></th>\n",
       "    </tr>\n",
       "  </thead>\n",
       "  <tbody>\n",
       "    <tr>\n",
       "      <th>16446.0</th>\n",
       "      <td>-80995</td>\n",
       "      <td>2.08</td>\n",
       "    </tr>\n",
       "    <tr>\n",
       "      <th>12346.0</th>\n",
       "      <td>-74215</td>\n",
       "      <td>1.04</td>\n",
       "    </tr>\n",
       "    <tr>\n",
       "      <th>15838.0</th>\n",
       "      <td>-9361</td>\n",
       "      <td>11.55</td>\n",
       "    </tr>\n",
       "    <tr>\n",
       "      <th>15749.0</th>\n",
       "      <td>-9014</td>\n",
       "      <td>15.80</td>\n",
       "    </tr>\n",
       "    <tr>\n",
       "      <th>16029.0</th>\n",
       "      <td>-8060</td>\n",
       "      <td>15388.75</td>\n",
       "    </tr>\n",
       "    <tr>\n",
       "      <th>12931.0</th>\n",
       "      <td>-4627</td>\n",
       "      <td>35.99</td>\n",
       "    </tr>\n",
       "    <tr>\n",
       "      <th>14607.0</th>\n",
       "      <td>-3768</td>\n",
       "      <td>71.03</td>\n",
       "    </tr>\n",
       "    <tr>\n",
       "      <th>14911.0</th>\n",
       "      <td>-3335</td>\n",
       "      <td>4874.94</td>\n",
       "    </tr>\n",
       "    <tr>\n",
       "      <th>17949.0</th>\n",
       "      <td>-2975</td>\n",
       "      <td>489.93</td>\n",
       "    </tr>\n",
       "    <tr>\n",
       "      <th>12901.0</th>\n",
       "      <td>-2160</td>\n",
       "      <td>19.09</td>\n",
       "    </tr>\n",
       "    <tr>\n",
       "      <th>15482.0</th>\n",
       "      <td>-2022</td>\n",
       "      <td>107.56</td>\n",
       "    </tr>\n",
       "    <tr>\n",
       "      <th>15769.0</th>\n",
       "      <td>-2012</td>\n",
       "      <td>34.07</td>\n",
       "    </tr>\n",
       "    <tr>\n",
       "      <th>16013.0</th>\n",
       "      <td>-1691</td>\n",
       "      <td>54.92</td>\n",
       "    </tr>\n",
       "    <tr>\n",
       "      <th>12748.0</th>\n",
       "      <td>-1538</td>\n",
       "      <td>2910.00</td>\n",
       "    </tr>\n",
       "    <tr>\n",
       "      <th>17511.0</th>\n",
       "      <td>-1537</td>\n",
       "      <td>385.80</td>\n",
       "    </tr>\n",
       "    <tr>\n",
       "      <th>16938.0</th>\n",
       "      <td>-1515</td>\n",
       "      <td>0.55</td>\n",
       "    </tr>\n",
       "    <tr>\n",
       "      <th>13694.0</th>\n",
       "      <td>-1509</td>\n",
       "      <td>272.62</td>\n",
       "    </tr>\n",
       "    <tr>\n",
       "      <th>18133.0</th>\n",
       "      <td>-1350</td>\n",
       "      <td>0.16</td>\n",
       "    </tr>\n",
       "    <tr>\n",
       "      <th>14533.0</th>\n",
       "      <td>-1242</td>\n",
       "      <td>5.67</td>\n",
       "    </tr>\n",
       "    <tr>\n",
       "      <th>12607.0</th>\n",
       "      <td>-1228</td>\n",
       "      <td>217.93</td>\n",
       "    </tr>\n",
       "    <tr>\n",
       "      <th>12908.0</th>\n",
       "      <td>-1200</td>\n",
       "      <td>0.84</td>\n",
       "    </tr>\n",
       "    <tr>\n",
       "      <th>16422.0</th>\n",
       "      <td>-1112</td>\n",
       "      <td>579.41</td>\n",
       "    </tr>\n",
       "    <tr>\n",
       "      <th>12454.0</th>\n",
       "      <td>-1006</td>\n",
       "      <td>109.23</td>\n",
       "    </tr>\n",
       "    <tr>\n",
       "      <th>14680.0</th>\n",
       "      <td>-1002</td>\n",
       "      <td>153.06</td>\n",
       "    </tr>\n",
       "    <tr>\n",
       "      <th>17450.0</th>\n",
       "      <td>-964</td>\n",
       "      <td>2176.77</td>\n",
       "    </tr>\n",
       "  </tbody>\n",
       "</table>\n",
       "</div>"
      ],
      "text/plain": [
       "             quantity  unit_price\n",
       "customer_id                      \n",
       "16446.0        -80995        2.08\n",
       "12346.0        -74215        1.04\n",
       "15838.0         -9361       11.55\n",
       "15749.0         -9014       15.80\n",
       "16029.0         -8060    15388.75\n",
       "12931.0         -4627       35.99\n",
       "14607.0         -3768       71.03\n",
       "14911.0         -3335     4874.94\n",
       "17949.0         -2975      489.93\n",
       "12901.0         -2160       19.09\n",
       "15482.0         -2022      107.56\n",
       "15769.0         -2012       34.07\n",
       "16013.0         -1691       54.92\n",
       "12748.0         -1538     2910.00\n",
       "17511.0         -1537      385.80\n",
       "16938.0         -1515        0.55\n",
       "13694.0         -1509      272.62\n",
       "18133.0         -1350        0.16\n",
       "14533.0         -1242        5.67\n",
       "12607.0         -1228      217.93\n",
       "12908.0         -1200        0.84\n",
       "16422.0         -1112      579.41\n",
       "12454.0         -1006      109.23\n",
       "14680.0         -1002      153.06\n",
       "17450.0          -964     2176.77"
      ]
     },
     "execution_count": 47,
     "metadata": {},
     "output_type": "execute_result"
    }
   ],
   "source": [
    "# 5. Quantos clientes pedem estorno? Quantos produtos e qual valor total dos estornos?\n",
    "print(invoice_code.customer_id.nunique(),'customers requested chargeback')\n",
    "invoice_code[['customer_id','quantity','unit_price']].groupby('customer_id').sum().sort_values(by='quantity').head(25)"
   ]
  },
  {
   "cell_type": "code",
   "execution_count": 109,
   "id": "executive-organic",
   "metadata": {},
   "outputs": [
    {
     "data": {
      "image/png": "[encoded data removed]",
      "text/plain": [
       "<Figure size 432x288 with 1 Axes>"
      ]
     },
     "metadata": {
      "needs_background": "light"
     },
     "output_type": "display_data"
    }
   ],
   "source": [
    "# 2. Quais produtos mais vendidos?\n",
    "\n",
    "# create Dataframe orderd by total quantity sold\n",
    "top_products = df4[['description','quantity']].groupby('description').sum().reset_index().sort_values(by='quantity', ascending=False)\n",
    "\n",
    "sns.barplot(x='description',y='quantity', data=top_products.head(10)).set_title('Top 10 selling products');\n",
    "plt.xticks(rotation='90');"
   ]
  },
  {
   "cell_type": "code",
   "execution_count": null,
   "id": "ceramic-mauritius",
   "metadata": {},
   "outputs": [],
   "source": [
    "# 4. Quais produtos com maior faturamento?\n",
    "\n",
    "# create a feauture with the mean price of each product\n",
    "top_products['mean_price'] = top_products['description'].apply(lambda x:df4[df4['description']=='{}'.format(x)]['unit_price'].mean().round(2))\n",
    "# create a feature of the total revenue of each product\n",
    "top_products['product_revenue'] = top_products['quantity'] * top_products['mean_price']"
   ]
  },
  {
   "cell_type": "code",
   "execution_count": 123,
   "id": "sweet-glossary",
   "metadata": {},
   "outputs": [
    {
     "data": {
      "image/png": "[encoded data removed]",
      "text/plain": [
       "<Figure size 432x288 with 1 Axes>"
      ]
     },
     "metadata": {
      "needs_background": "light"
     },
     "output_type": "display_data"
    }
   ],
   "source": [
    "sns.barplot(x='description', y='product_revenue', data=top_products.sort_values(by='product_revenue', ascending=False).head(10)).set_title('Top 10 highest product revenues');\n",
    "plt.xticks(rotation='90');"
   ]
  },
  {
   "cell_type": "markdown",
   "id": "original-focus",
   "metadata": {},
   "source": [
    "The difference between Manual's `product_revenue` compared to the rest of the product is too significant and deserve to be paid attention. What is Manual anyway?"
   ]
  },
  {
   "cell_type": "code",
   "execution_count": null,
   "id": "signal-better",
   "metadata": {},
   "outputs": [],
   "source": [
    "# boxplot quantity X product_revenue"
   ]
  },
  {
   "cell_type": "code",
   "execution_count": 199,
   "id": "impossible-burning",
   "metadata": {},
   "outputs": [
    {
     "data": {
      "text/html": [
       "<div>\n",
       "<style scoped>\n",
       "    .dataframe tbody tr th:only-of-type {\n",
       "        vertical-align: middle;\n",
       "    }\n",
       "\n",
       "    .dataframe tbody tr th {\n",
       "        vertical-align: top;\n",
       "    }\n",
       "\n",
       "    .dataframe thead th {\n",
       "        text-align: right;\n",
       "    }\n",
       "</style>\n",
       "<table border=\"1\" class=\"dataframe\">\n",
       "  <thead>\n",
       "    <tr style=\"text-align: right;\">\n",
       "      <th></th>\n",
       "      <th>description</th>\n",
       "      <th>quantity</th>\n",
       "      <th>mean_price</th>\n",
       "      <th>product_revenue</th>\n",
       "    </tr>\n",
       "  </thead>\n",
       "  <tbody>\n",
       "    <tr>\n",
       "      <th>2521</th>\n",
       "      <td>PICNIC BASKET WICKER 60 PIECES</td>\n",
       "      <td>61</td>\n",
       "      <td>649.50</td>\n",
       "      <td>39619.50</td>\n",
       "    </tr>\n",
       "    <tr>\n",
       "      <th>2246</th>\n",
       "      <td>Manual</td>\n",
       "      <td>3165</td>\n",
       "      <td>374.91</td>\n",
       "      <td>1186590.15</td>\n",
       "    </tr>\n",
       "    <tr>\n",
       "      <th>1098</th>\n",
       "      <td>DOTCOM POSTAGE</td>\n",
       "      <td>707</td>\n",
       "      <td>290.91</td>\n",
       "      <td>205673.37</td>\n",
       "    </tr>\n",
       "    <tr>\n",
       "      <th>2917</th>\n",
       "      <td>REGENCY MIRROR WITH SHUTTERS</td>\n",
       "      <td>10</td>\n",
       "      <td>156.43</td>\n",
       "      <td>1564.30</td>\n",
       "    </tr>\n",
       "    <tr>\n",
       "      <th>3034</th>\n",
       "      <td>RUSTIC  SEVENTEEN DRAWER SIDEBOARD</td>\n",
       "      <td>32</td>\n",
       "      <td>156.03</td>\n",
       "      <td>4992.96</td>\n",
       "    </tr>\n",
       "    <tr>\n",
       "      <th>3818</th>\n",
       "      <td>VINTAGE RED KITCHEN CABINET</td>\n",
       "      <td>50</td>\n",
       "      <td>150.66</td>\n",
       "      <td>7533.00</td>\n",
       "    </tr>\n",
       "    <tr>\n",
       "      <th>3768</th>\n",
       "      <td>VINTAGE BLUE KITCHEN CABINET</td>\n",
       "      <td>20</td>\n",
       "      <td>143.65</td>\n",
       "      <td>2873.00</td>\n",
       "    </tr>\n",
       "    <tr>\n",
       "      <th>740</th>\n",
       "      <td>CHEST NATURAL WOOD 20 DRAWERS</td>\n",
       "      <td>24</td>\n",
       "      <td>118.08</td>\n",
       "      <td>2833.92</td>\n",
       "    </tr>\n",
       "    <tr>\n",
       "      <th>2043</th>\n",
       "      <td>LOVE SEAT ANTIQUE WHITE METAL</td>\n",
       "      <td>54</td>\n",
       "      <td>115.39</td>\n",
       "      <td>6231.06</td>\n",
       "    </tr>\n",
       "    <tr>\n",
       "      <th>1133</th>\n",
       "      <td>Dotcomgiftshop Gift Voucher �100.00</td>\n",
       "      <td>1</td>\n",
       "      <td>83.33</td>\n",
       "      <td>83.33</td>\n",
       "    </tr>\n",
       "  </tbody>\n",
       "</table>\n",
       "</div>"
      ],
      "text/plain": [
       "                              description  quantity  mean_price  \\\n",
       "2521       PICNIC BASKET WICKER 60 PIECES        61      649.50   \n",
       "2246                               Manual      3165      374.91   \n",
       "1098                       DOTCOM POSTAGE       707      290.91   \n",
       "2917         REGENCY MIRROR WITH SHUTTERS        10      156.43   \n",
       "3034   RUSTIC  SEVENTEEN DRAWER SIDEBOARD        32      156.03   \n",
       "3818          VINTAGE RED KITCHEN CABINET        50      150.66   \n",
       "3768         VINTAGE BLUE KITCHEN CABINET        20      143.65   \n",
       "740         CHEST NATURAL WOOD 20 DRAWERS        24      118.08   \n",
       "2043        LOVE SEAT ANTIQUE WHITE METAL        54      115.39   \n",
       "1133  Dotcomgiftshop Gift Voucher �100.00         1       83.33   \n",
       "\n",
       "      product_revenue  \n",
       "2521         39619.50  \n",
       "2246       1186590.15  \n",
       "1098        205673.37  \n",
       "2917          1564.30  \n",
       "3034          4992.96  \n",
       "3818          7533.00  \n",
       "3768          2873.00  \n",
       "740           2833.92  \n",
       "2043          6231.06  \n",
       "1133            83.33  "
      ]
     },
     "execution_count": 199,
     "metadata": {},
     "output_type": "execute_result"
    }
   ],
   "source": [
    "top_products[top_products['quantity']>0].sort_values(by='mean_price', ascending=False).head(10)"
   ]
  },
  {
   "cell_type": "code",
   "execution_count": 200,
   "id": "indie-replica",
   "metadata": {
    "scrolled": true
   },
   "outputs": [
    {
     "data": {
      "image/png": "[encoded data removed]",
      "text/plain": [
       "<Figure size 432x288 with 1 Axes>"
      ]
     },
     "metadata": {
      "needs_background": "light"
     },
     "output_type": "display_data"
    }
   ],
   "source": [
    "# 5. Quais produtos mais caros?\n",
    "sns.barplot(x='description',y='mean_price', data=top_products[top_products['quantity']>0].sort_values(by='mean_price', ascending=False).head(10)).set_title('Top 10 most expensive products in average');\n",
    "plt.xticks(rotation='90');"
   ]
  },
  {
   "cell_type": "code",
   "execution_count": 136,
   "id": "valuable-dollar",
   "metadata": {},
   "outputs": [],
   "source": [
    "# 7. Quais produtos mais comprados por cada país?\n",
    "top_quant_countries = df4[['country','description','quantity']].groupby(['country','description']).sum().reset_index()"
   ]
  },
  {
   "cell_type": "code",
   "execution_count": 143,
   "id": "adolescent-designation",
   "metadata": {
    "scrolled": true
   },
   "outputs": [
    {
     "data": {
      "image/png": "[encoded data removed]",
      "text/plain": [
       "<Figure size 432x288 with 1 Axes>"
      ]
     },
     "metadata": {
      "needs_background": "light"
     },
     "output_type": "display_data"
    }
   ],
   "source": [
    "# for country in countries[\"country\"].values:\n",
    "#     sns.barplot(x='description', y='quantity',data=top_quant_countries[top_quant_countries['country']=='{}'.format(country)].sort_values(by='quantity',ascending=False).head(10));\n",
    "#     plt.xticks(rotation='90');"
   ]
  },
  {
   "cell_type": "code",
   "execution_count": 145,
   "id": "beneficial-construction",
   "metadata": {},
   "outputs": [
    {
     "data": {
      "text/plain": [
       "9291"
      ]
     },
     "execution_count": 145,
     "metadata": {},
     "output_type": "execute_result"
    }
   ],
   "source": [
    "# 8. Quais produtos mais estornados?\n",
    "invoice_code.shape[0]"
   ]
  },
  {
   "cell_type": "markdown",
   "id": "liked-relevance",
   "metadata": {},
   "source": [
    "Before we find out what are the most chargedback product, let's first check if our assumption works. We asssumed that all the chargeback transition had the invoice number beginning with the letter 'C', in a sort of 'code' as we created the dataframe `invoice_code`. The chargeback transactions are characterized by a negative value quatity. So lets check in the main dataframe if the number of transaction in ``invoice_code`` is the same for all negative value quantities in the main dataframe. To make it easier, we created the dataframe ``negative_quatity``."
   ]
  },
  {
   "cell_type": "code",
   "execution_count": 177,
   "id": "framed-easter",
   "metadata": {},
   "outputs": [],
   "source": [
    "negative_quantity = df4[df4['quantity']<0]"
   ]
  },
  {
   "cell_type": "code",
   "execution_count": 181,
   "id": "conscious-europe",
   "metadata": {},
   "outputs": [
    {
     "data": {
      "text/plain": [
       "1333"
      ]
     },
     "execution_count": 181,
     "metadata": {},
     "output_type": "execute_result"
    }
   ],
   "source": [
    "negative_quantity.shape[0] - invoice_code.shape[0]"
   ]
  },
  {
   "cell_type": "markdown",
   "id": "cheap-consumption",
   "metadata": {},
   "source": [
    "So there are 1333 more chargedback transitions than those with the `invoice_no` starting with 'C'."
   ]
  },
  {
   "cell_type": "code",
   "execution_count": 184,
   "id": "christian-behavior",
   "metadata": {
    "scrolled": false
   },
   "outputs": [
    {
     "data": {
      "text/html": [
       "<div>\n",
       "<style scoped>\n",
       "    .dataframe tbody tr th:only-of-type {\n",
       "        vertical-align: middle;\n",
       "    }\n",
       "\n",
       "    .dataframe tbody tr th {\n",
       "        vertical-align: top;\n",
       "    }\n",
       "\n",
       "    .dataframe thead th {\n",
       "        text-align: right;\n",
       "    }\n",
       "</style>\n",
       "<table border=\"1\" class=\"dataframe\">\n",
       "  <thead>\n",
       "    <tr style=\"text-align: right;\">\n",
       "      <th></th>\n",
       "      <th>invoice_no</th>\n",
       "      <th>stock_code</th>\n",
       "      <th>description</th>\n",
       "      <th>quantity</th>\n",
       "      <th>invoice_date</th>\n",
       "      <th>unit_price</th>\n",
       "      <th>customer_id</th>\n",
       "      <th>country</th>\n",
       "      <th>year</th>\n",
       "      <th>month</th>\n",
       "      <th>day</th>\n",
       "      <th>transaction_type</th>\n",
       "    </tr>\n",
       "  </thead>\n",
       "  <tbody>\n",
       "    <tr>\n",
       "      <th>2406</th>\n",
       "      <td>536589</td>\n",
       "      <td>21777</td>\n",
       "      <td>NaN</td>\n",
       "      <td>-10</td>\n",
       "      <td>2016-11-29</td>\n",
       "      <td>0.0</td>\n",
       "      <td>NaN</td>\n",
       "      <td>United Kingdom</td>\n",
       "      <td>2016</td>\n",
       "      <td>11</td>\n",
       "      <td>29</td>\n",
       "      <td>normal</td>\n",
       "    </tr>\n",
       "    <tr>\n",
       "      <th>4347</th>\n",
       "      <td>536764</td>\n",
       "      <td>84952C</td>\n",
       "      <td>NaN</td>\n",
       "      <td>-38</td>\n",
       "      <td>2016-11-30</td>\n",
       "      <td>0.0</td>\n",
       "      <td>NaN</td>\n",
       "      <td>United Kingdom</td>\n",
       "      <td>2016</td>\n",
       "      <td>11</td>\n",
       "      <td>30</td>\n",
       "      <td>normal</td>\n",
       "    </tr>\n",
       "    <tr>\n",
       "      <th>7188</th>\n",
       "      <td>536996</td>\n",
       "      <td>22712</td>\n",
       "      <td>NaN</td>\n",
       "      <td>-20</td>\n",
       "      <td>2016-12-01</td>\n",
       "      <td>0.0</td>\n",
       "      <td>NaN</td>\n",
       "      <td>United Kingdom</td>\n",
       "      <td>2016</td>\n",
       "      <td>12</td>\n",
       "      <td>1</td>\n",
       "      <td>normal</td>\n",
       "    </tr>\n",
       "    <tr>\n",
       "      <th>7189</th>\n",
       "      <td>536997</td>\n",
       "      <td>22028</td>\n",
       "      <td>NaN</td>\n",
       "      <td>-20</td>\n",
       "      <td>2016-12-01</td>\n",
       "      <td>0.0</td>\n",
       "      <td>NaN</td>\n",
       "      <td>United Kingdom</td>\n",
       "      <td>2016</td>\n",
       "      <td>12</td>\n",
       "      <td>1</td>\n",
       "      <td>normal</td>\n",
       "    </tr>\n",
       "    <tr>\n",
       "      <th>7190</th>\n",
       "      <td>536998</td>\n",
       "      <td>85067</td>\n",
       "      <td>NaN</td>\n",
       "      <td>-6</td>\n",
       "      <td>2016-12-01</td>\n",
       "      <td>0.0</td>\n",
       "      <td>NaN</td>\n",
       "      <td>United Kingdom</td>\n",
       "      <td>2016</td>\n",
       "      <td>12</td>\n",
       "      <td>1</td>\n",
       "      <td>normal</td>\n",
       "    </tr>\n",
       "    <tr>\n",
       "      <th>...</th>\n",
       "      <td>...</td>\n",
       "      <td>...</td>\n",
       "      <td>...</td>\n",
       "      <td>...</td>\n",
       "      <td>...</td>\n",
       "      <td>...</td>\n",
       "      <td>...</td>\n",
       "      <td>...</td>\n",
       "      <td>...</td>\n",
       "      <td>...</td>\n",
       "      <td>...</td>\n",
       "      <td>...</td>\n",
       "    </tr>\n",
       "    <tr>\n",
       "      <th>535333</th>\n",
       "      <td>581210</td>\n",
       "      <td>23395</td>\n",
       "      <td>check</td>\n",
       "      <td>-26</td>\n",
       "      <td>2017-12-05</td>\n",
       "      <td>0.0</td>\n",
       "      <td>NaN</td>\n",
       "      <td>United Kingdom</td>\n",
       "      <td>2017</td>\n",
       "      <td>12</td>\n",
       "      <td>5</td>\n",
       "      <td>normal</td>\n",
       "    </tr>\n",
       "    <tr>\n",
       "      <th>535335</th>\n",
       "      <td>581212</td>\n",
       "      <td>22578</td>\n",
       "      <td>lost</td>\n",
       "      <td>-1050</td>\n",
       "      <td>2017-12-05</td>\n",
       "      <td>0.0</td>\n",
       "      <td>NaN</td>\n",
       "      <td>United Kingdom</td>\n",
       "      <td>2017</td>\n",
       "      <td>12</td>\n",
       "      <td>5</td>\n",
       "      <td>normal</td>\n",
       "    </tr>\n",
       "    <tr>\n",
       "      <th>535336</th>\n",
       "      <td>581213</td>\n",
       "      <td>22576</td>\n",
       "      <td>check</td>\n",
       "      <td>-30</td>\n",
       "      <td>2017-12-05</td>\n",
       "      <td>0.0</td>\n",
       "      <td>NaN</td>\n",
       "      <td>United Kingdom</td>\n",
       "      <td>2017</td>\n",
       "      <td>12</td>\n",
       "      <td>5</td>\n",
       "      <td>normal</td>\n",
       "    </tr>\n",
       "    <tr>\n",
       "      <th>536908</th>\n",
       "      <td>581226</td>\n",
       "      <td>23090</td>\n",
       "      <td>missing</td>\n",
       "      <td>-338</td>\n",
       "      <td>2017-12-06</td>\n",
       "      <td>0.0</td>\n",
       "      <td>NaN</td>\n",
       "      <td>United Kingdom</td>\n",
       "      <td>2017</td>\n",
       "      <td>12</td>\n",
       "      <td>6</td>\n",
       "      <td>normal</td>\n",
       "    </tr>\n",
       "    <tr>\n",
       "      <th>538919</th>\n",
       "      <td>581422</td>\n",
       "      <td>23169</td>\n",
       "      <td>smashed</td>\n",
       "      <td>-235</td>\n",
       "      <td>2017-12-06</td>\n",
       "      <td>0.0</td>\n",
       "      <td>NaN</td>\n",
       "      <td>United Kingdom</td>\n",
       "      <td>2017</td>\n",
       "      <td>12</td>\n",
       "      <td>6</td>\n",
       "      <td>normal</td>\n",
       "    </tr>\n",
       "  </tbody>\n",
       "</table>\n",
       "<p>1336 rows × 12 columns</p>\n",
       "</div>"
      ],
      "text/plain": [
       "       invoice_no stock_code description  quantity invoice_date  unit_price  \\\n",
       "2406       536589      21777         NaN       -10   2016-11-29         0.0   \n",
       "4347       536764     84952C         NaN       -38   2016-11-30         0.0   \n",
       "7188       536996      22712         NaN       -20   2016-12-01         0.0   \n",
       "7189       536997      22028         NaN       -20   2016-12-01         0.0   \n",
       "7190       536998      85067         NaN        -6   2016-12-01         0.0   \n",
       "...           ...        ...         ...       ...          ...         ...   \n",
       "535333     581210      23395       check       -26   2017-12-05         0.0   \n",
       "535335     581212      22578        lost     -1050   2017-12-05         0.0   \n",
       "535336     581213      22576       check       -30   2017-12-05         0.0   \n",
       "536908     581226      23090     missing      -338   2017-12-06         0.0   \n",
       "538919     581422      23169     smashed      -235   2017-12-06         0.0   \n",
       "\n",
       "       customer_id         country  year  month  day transaction_type  \n",
       "2406           NaN  United Kingdom  2016     11   29           normal  \n",
       "4347           NaN  United Kingdom  2016     11   30           normal  \n",
       "7188           NaN  United Kingdom  2016     12    1           normal  \n",
       "7189           NaN  United Kingdom  2016     12    1           normal  \n",
       "7190           NaN  United Kingdom  2016     12    1           normal  \n",
       "...            ...             ...   ...    ...  ...              ...  \n",
       "535333         NaN  United Kingdom  2017     12    5           normal  \n",
       "535335         NaN  United Kingdom  2017     12    5           normal  \n",
       "535336         NaN  United Kingdom  2017     12    5           normal  \n",
       "536908         NaN  United Kingdom  2017     12    6           normal  \n",
       "538919         NaN  United Kingdom  2017     12    6           normal  \n",
       "\n",
       "[1336 rows x 12 columns]"
      ]
     },
     "execution_count": 184,
     "metadata": {},
     "output_type": "execute_result"
    }
   ],
   "source": [
    "more_chargeback = negative_quantity[~negative_quantity.invoice_no.index.isin(invoice_code.invoice_no.index)]\n",
    "more_chargeback"
   ]
  },
  {
   "cell_type": "code",
   "execution_count": 186,
   "id": "virgin-credit",
   "metadata": {},
   "outputs": [
    {
     "data": {
      "text/plain": [
       "array([nan, '?', 'check', 'damages', 'faulty', 'Dotcom sales',\n",
       "       'reverse 21/5/10 adjustment', 'mouldy, thrown away.', 'counted',\n",
       "       'Given away', 'Dotcom', 'label mix up', 'samples/damages',\n",
       "       'thrown away', 'incorrectly made-thrown away.', 'showroom', 'MIA',\n",
       "       'Dotcom set', 'wrongly sold as sets', 'Amazon sold sets',\n",
       "       'dotcom sold sets', 'wrongly sold sets', '? sold as sets?',\n",
       "       '?sold as sets?', 'Thrown away.', 'damages/display',\n",
       "       'damaged stock', 'broken', 'throw away', 'wrong barcode (22467)',\n",
       "       'wrong barcode', 'barcode problem', '?lost',\n",
       "       \"thrown away-can't sell.\", \"thrown away-can't sell\", 'damages?',\n",
       "       're dotcom quick fix.', \"Dotcom sold in 6's\", 'sold in set?',\n",
       "       'cracked', 'sold as 22467', 'Damaged',\n",
       "       'mystery! Only ever imported 1800',\n",
       "       'MERCHANT CHANDLER CREDIT ERROR, STO', 'POSSIBLE DAMAGES OR LOST?',\n",
       "       'damaged', 'DAMAGED', 'Display', 'Missing', 'wrong code?',\n",
       "       'wrong code', 'adjust', 'crushed', 'damages/showroom etc',\n",
       "       'samples', 'damages/credits from ASOS.',\n",
       "       'Not rcvd in 10/11/2010 delivery', 'Thrown away-rusty',\n",
       "       'sold as set/6 by dotcom', 'wet/rusty', 'damages/dotcom?',\n",
       "       'smashed', 'reverse previous adjustment',\n",
       "       'incorrectly credited C550456 see 47', 'wet damaged',\n",
       "       'Water damaged', 'missing', 'sold as set on dotcom',\n",
       "       'sold as set on dotcom and amazon', 'water damage',\n",
       "       'sold as set by dotcom', 'Printing smudges/thrown away',\n",
       "       'printing smudges/thrown away', 'found some more on shelf',\n",
       "       'Show Samples', 'mix up with c', 'mouldy, unsaleable.',\n",
       "       'wrongly marked. 23343 in box', 'stock creditted wrongly', 'ebay',\n",
       "       'incorrectly put back into stock', 'Damages/samples',\n",
       "       'Sold as 1 on dotcom', 'taig adjust no stock',\n",
       "       'code mix up? 84930', '?display?', 'sold as 1', '?missing',\n",
       "       'crushed ctn', 'Crushed', 'temp adjustment', '??', 'test',\n",
       "       'OOPS ! adjustment', 'Dagamed',\n",
       "       'historic computer difference?....se', 'Incorrect stock entry.',\n",
       "       'incorrect stock entry.', 'wrongly coded-23343', 'stock check',\n",
       "       'crushed boxes', 'WET/MOULDY', \"can't find\", 'mouldy',\n",
       "       'Wet pallet-thrown away', 'adjustment', '20713 wrongly marked',\n",
       "       're-adjustment', 'Breakages', '20713', 'wrongly coded 20713',\n",
       "       'Damages', 'CHECK', 'Unsaleable, destroyed.', 'dotcom sales',\n",
       "       'damages wax', 'water damaged', 'Wrongly mrked had 85123a in box',\n",
       "       'wrongly marked carton 22804', 'missing?', 'wet rusty', '???lost',\n",
       "       'sold with wrong barcode', 'rusty thrown away', 'rusty throw away',\n",
       "       'dotcom', '?? missing', 'wet pallet', '????missing', '???missing',\n",
       "       'lost in space', 'wet?', 'lost??', '???', 'wet', 'wet boxes',\n",
       "       '????damages????', 'mixed up', 'lost'], dtype=object)"
      ]
     },
     "execution_count": 186,
     "metadata": {},
     "output_type": "execute_result"
    }
   ],
   "source": [
    "more_chargeback.description.unique()"
   ]
  },
  {
   "cell_type": "markdown",
   "id": "retired-travel",
   "metadata": {},
   "source": [
    "More surprisingly is that there are many product with damaged or mistaken condition, with no price and no customer identification.\n",
    "\n",
    "Back to the question:"
   ]
  },
  {
   "cell_type": "code",
   "execution_count": 193,
   "id": "established-protocol",
   "metadata": {},
   "outputs": [
    {
     "data": {
      "image/png": "[encoded data removed]",
      "text/plain": [
       "<Figure size 432x288 with 1 Axes>"
      ]
     },
     "metadata": {
      "needs_background": "light"
     },
     "output_type": "display_data"
    }
   ],
   "source": [
    "# 8. Quais produtos mais estornados?\n",
    "sns.barplot(x='description', y='quantity', data=negative_quantity[['description','quantity']].groupby('description').sum().reset_index().sort_values(by='quantity').head(10));\n",
    "plt.xticks(rotation='90');\n"
   ]
  },
  {
   "cell_type": "code",
   "execution_count": 205,
   "id": "charitable-newark",
   "metadata": {},
   "outputs": [
    {
     "data": {
      "image/png": "[encoded data removed]",
      "text/plain": [
       "<Figure size 432x288 with 1 Axes>"
      ]
     },
     "metadata": {
      "needs_background": "light"
     },
     "output_type": "display_data"
    }
   ],
   "source": [
    "# 9. Qual a média do preço dos produtos estornados?\n",
    "sns.barplot(x='description',y='unit_price',data=negative_quantity[['description','unit_price']].groupby('description').mean().reset_index().sort_values(by='unit_price',ascending=False).head(10));\n",
    "plt.xticks(rotation='90');\n"
   ]
  },
  {
   "cell_type": "code",
   "execution_count": 213,
   "id": "collect-highlight",
   "metadata": {},
   "outputs": [
    {
     "name": "stdout",
     "output_type": "stream",
     "text": [
      "The total chargebacks' value is $449480.32\n"
     ]
    }
   ],
   "source": [
    "# 10. Qual valor total estornado?\n",
    "# negative_quantity[['description','unit_price','quantity']].groupby('description').sum().sort_values(by='unit_price',ascending=False).head(10)\n",
    "print(\"The total chargebacks' value is ${}\".format(negative_quantity.unit_price.sum()))"
   ]
  },
  {
   "cell_type": "code",
   "execution_count": 218,
   "id": "pressed-mathematics",
   "metadata": {},
   "outputs": [
    {
     "data": {
      "text/plain": [
       "<AxesSubplot:xlabel='month', ylabel='unit_price'>"
      ]
     },
     "execution_count": 218,
     "metadata": {},
     "output_type": "execute_result"
    },
    {
     "data": {
      "image/png": "[encoded data removed]",
      "text/plain": [
       "<Figure size 432x288 with 2 Axes>"
      ]
     },
     "metadata": {
      "needs_background": "light"
     },
     "output_type": "display_data"
    }
   ],
   "source": [
    "### 2.3.3 Tempo\n",
    "# 1. Quais meses vendem mais?\n",
    "\n",
    "# quantity\n",
    "plt.subplot(1,2,1)\n",
    "sns.barplot(x='month',y='quantity',data=df4[['month','quantity']].groupby('month').sum().reset_index())\n",
    "\n",
    "# unit_price\n",
    "plt.subplot(1,2,2)\n",
    "sns.barplot(x='month',y='unit_price',data=df4[['month','unit_price']].groupby('month').sum().reset_index())"
   ]
  },
  {
   "cell_type": "code",
   "execution_count": 232,
   "id": "after-shelter",
   "metadata": {},
   "outputs": [
    {
     "data": {
      "text/plain": [
       "<AxesSubplot:xlabel='customer_id', ylabel='invoice_no'>"
      ]
     },
     "execution_count": 232,
     "metadata": {},
     "output_type": "execute_result"
    },
    {
     "data": {
      "image/png": "[encoded data removed]",
      "text/plain": [
       "<Figure size 432x288 with 2 Axes>"
      ]
     },
     "metadata": {
      "needs_background": "light"
     },
     "output_type": "display_data"
    }
   ],
   "source": [
    "# 3. Qual a recência (o intervalo desde a última compra) de cada cliente?\n",
    "# 4. Quantos clientes compram com mais frequência? Qual a porcentagem da base de clientes?\n",
    "# No próximo ciclo, garantir que esse gráfico contenha apenas transacações que não seja estorno\n",
    "plt.subplot(2,1,1)\n",
    "\n",
    "sns.barplot(x='customer_id',y='invoice_no',data=df4[['customer_id', 'invoice_no']].groupby('customer_id').count().reset_index().sort_values(by='invoice_no',ascending=False).head(10));\n",
    "plt.title('Top 10 customers with most transactions');\n",
    "plt.xticks(rotation='90');\n",
    "\n",
    "plt.subplot(2,1,2)\n",
    "sns.boxplot(x='customer_id',y='invoice_no',data=df4[['customer_id', 'invoice_no']].groupby('customer_id').count().reset_index())"
   ]
  },
  {
   "cell_type": "code",
   "execution_count": null,
   "id": "effective-stake",
   "metadata": {},
   "outputs": [],
   "source": [
    "# 5. Qual a frequência de estorno de produtos?"
   ]
  }
 ],
 "metadata": {
  "kernelspec": {
   "display_name": "Python 3",
   "language": "python",
   "name": "python3"
  },
  "language_info": {
   "codemirror_mode": {
    "name": "ipython",
    "version": 3
   },
   "file_extension": ".py",
   "mimetype": "text/x-python",
   "name": "python",
   "nbconvert_exporter": "python",
   "pygments_lexer": "ipython3",
   "version": "3.7.6"
  }
 },
 "nbformat": 4,
 "nbformat_minor": 5
}
